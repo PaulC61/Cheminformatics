{
 "cells": [
  {
   "cell_type": "code",
   "execution_count": 63,
   "id": "1428ef0e",
   "metadata": {},
   "outputs": [],
   "source": [
    "import matplotlib.pyplot as plt\n",
    "from sklearn.preprocessing import StandardScaler\n",
    "from sklearn.model_selection import GridSearchCV\n",
    "from sklearn.cross_decomposition import PLSRegression\n",
    "from sklearn.feature_selection import SelectFromModel, RFE, RFECV\n",
    "from sklearn.linear_model import ElasticNet, ElasticNetCV, Lasso, LassoCV\n",
    "from sklearn.ensemble import RandomForestRegressor\n",
    "from sklearn.metrics import r2_score\n",
    "from sklearn.svm import SVR\n",
    "from abess import LinearRegression\n",
    "from abess.decomposition import SparsePCA\n",
    "from kennard_stone import train_test_split as ks_train_test_split\n",
    "from sklearn.pipeline import Pipeline\n",
    "# from genetic_selection import GeneticSelectionCV\n",
    "import pandas as pd\n",
    "import numpy as np"
   ]
  },
  {
   "cell_type": "code",
   "execution_count": 2,
   "id": "7f4aab7c",
   "metadata": {},
   "outputs": [],
   "source": [
    "def extractDragonDescriptors(family_Y_df, descriptorFileString):\n",
    "    family_X = pd.read_csv(descriptorFileString, sep='\\t', index_col=0, low_memory=False)\n",
    "    colsX = family_X.columns\n",
    "    family_X_resetIndex = pd.DataFrame(family_X.to_numpy(), index=family_Y_df.index, columns=family_X.columns).replace('na', np.NaN)\n",
    "    return family_X_resetIndex[colsX[1:]].dropna(axis=1, how='any')"
   ]
  },
  {
   "cell_type": "code",
   "execution_count": 3,
   "id": "509544da",
   "metadata": {},
   "outputs": [],
   "source": [
    "global_Y = pd.read_csv('Data/exactPLS/global.csv', index_col=0)"
   ]
  },
  {
   "cell_type": "code",
   "execution_count": 4,
   "id": "302fec63",
   "metadata": {},
   "outputs": [],
   "source": [
    "global_X = extractDragonDescriptors(global_Y, 'Data/exactPLS/desc_global.txt')"
   ]
  },
  {
   "cell_type": "code",
   "execution_count": 5,
   "id": "d63777e4",
   "metadata": {},
   "outputs": [
    {
     "data": {
      "text/plain": [
       "((1147, 2), (1147, 1023))"
      ]
     },
     "execution_count": 5,
     "metadata": {},
     "output_type": "execute_result"
    }
   ],
   "source": [
    "global_Y.shape, global_X.shape"
   ]
  },
  {
   "cell_type": "code",
   "execution_count": 32,
   "id": "0192f684",
   "metadata": {},
   "outputs": [
    {
     "data": {
      "text/plain": [
       "PCE            1.000000\n",
       "mintsC         0.474240\n",
       "MaxtsC         0.432035\n",
       "LOGPcons       0.405476\n",
       "nCs            0.403580\n",
       "C-002          0.403276\n",
       "SssCH2         0.402945\n",
       "nCsp3          0.397295\n",
       "LOGP99         0.396008\n",
       "H-046          0.395082\n",
       "NssCH2         0.394894\n",
       "RBN            0.392638\n",
       "Eta_L          0.388005\n",
       "nH             0.385415\n",
       "Eta_C_A        0.371650\n",
       "Si             0.367505\n",
       "nAT            0.366850\n",
       "Se             0.364584\n",
       "nBT            0.362086\n",
       "ESOL           0.361520\n",
       "Eta_L_A        0.360554\n",
       "Eta_C          0.358598\n",
       "Sp             0.356409\n",
       "Eta_epsi_A     0.356367\n",
       "Vx             0.356214\n",
       "VvdwMG         0.356214\n",
       "Eta_D_epsiA    0.353482\n",
       "MR99           0.345516\n",
       "MRcons         0.345516\n",
       "nC             0.343737\n",
       "Eta_epsi       0.343428\n",
       "H%             0.339274\n",
       "Eta_alpha      0.338863\n",
       "Eta_LR         0.336515\n",
       "Eta_FL_A       0.334686\n",
       "F01[C-C]       0.334518\n",
       "Me             0.333158\n",
       "MW             0.332756\n",
       "nSK            0.332229\n",
       "Fsp3           0.328980\n",
       "nBO            0.322061\n",
       "F10[C-C]       0.321250\n",
       "Eta_R          0.319577\n",
       "RBF            0.319484\n",
       "Eta_D_epsiD    0.317203\n",
       "Eta_D_epsiB    0.314788\n",
       "NtsC           0.312457\n",
       "GD             0.311277\n",
       "nCsp           0.310939\n",
       "StsC           0.310789\n",
       "Name: PCE, dtype: float64"
      ]
     },
     "execution_count": 32,
     "metadata": {},
     "output_type": "execute_result"
    }
   ],
   "source": [
    "pd.concat([global_X, global_Y], axis = 1).corr()['PCE'].abs().sort_values(ascending=False).head(50) \n",
    "\n",
    "# try with 50 descriptors\n",
    "# 50 best, 50 worst (see if get a good model)"
   ]
  },
  {
   "cell_type": "code",
   "execution_count": 6,
   "id": "7832d07d",
   "metadata": {},
   "outputs": [],
   "source": [
    "def returnNextRow(rowDf, to_drop):\n",
    "    max = -200\n",
    "    nextRow='None'\n",
    "    for i in range(len(rowDf.columns)):\n",
    "        if (rowDf[rowDf.columns[i]][0] > max) and (rowDf.columns[i] not in to_drop) and (rowDf[rowDf.columns[i]][0] != np.NaN):\n",
    "            max = rowDf[rowDf.columns[i]][0]\n",
    "            nextRow = rowDf.columns[i]\n",
    "    return nextRow\n",
    "\n",
    "def getTo_dropOfRow(rowDf, to_drop=[], threshold=0.95):\n",
    "    for i in range(len(rowDf.columns)):\n",
    "        if (rowDf[rowDf.columns[i]][0] > threshold) and (rowDf[rowDf.columns[i]][0] != np.NaN) and (rowDf.columns[i] not in to_drop):\n",
    "            to_drop.append(rowDf.columns[i])\n",
    "    return to_drop\n",
    "\n",
    "def vWSPFeatureSelect(rowName,corr_matrix,to_drop=[],thresh=0.95):\n",
    "    if rowName=='None':\n",
    "        return to_drop\n",
    "    else:\n",
    "        to_DropThisRow = getTo_dropOfRow(corr_matrix.loc[[rowName]], to_drop, threshold=thresh) #array of column names\n",
    "        nextRow = returnNextRow(corr_matrix.loc[[rowName]], to_DropThisRow)\n",
    "        updateTo_drop = to_DropThisRow\n",
    "        return vWSPFeatureSelect(rowName=nextRow, corr_matrix=corr_matrix,to_drop=updateTo_drop, thresh=0.95)\n",
    "    \n",
    "def vWSP(X_train, threshold=0.95):\n",
    "    cor_matrix = X_train.corr().abs()\n",
    "    upper_tri = cor_matrix.where(np.triu(np.ones(cor_matrix.shape), k=1).astype(bool))\n",
    "    to_drop=vWSPFeatureSelect('MW', corr_matrix=upper_tri, to_drop=[], thresh=threshold) #MW chosen as seed\n",
    "    X_train_rm = X_train.drop(to_drop, axis=1)\n",
    "    return X_train_rm"
   ]
  },
  {
   "cell_type": "code",
   "execution_count": 10,
   "id": "3e2cbf0c",
   "metadata": {},
   "outputs": [],
   "source": [
    "global_X_train, global_X_test, global_Y_train, global_Y_test = ks_train_test_split(global_X, global_Y['PCE'], test_size=0.2)"
   ]
  },
  {
   "cell_type": "code",
   "execution_count": 17,
   "id": "3efdd2b1",
   "metadata": {},
   "outputs": [
    {
     "data": {
      "text/plain": [
       "(917, 1023)"
      ]
     },
     "execution_count": 17,
     "metadata": {},
     "output_type": "execute_result"
    }
   ],
   "source": [
    "global_X_train.shape"
   ]
  },
  {
   "cell_type": "code",
   "execution_count": 33,
   "id": "d7e7214a",
   "metadata": {},
   "outputs": [
    {
     "data": {
      "text/plain": [
       "RFECV(cv=10, estimator=RandomForestRegressor(), scoring='r2')"
      ]
     },
     "execution_count": 33,
     "metadata": {},
     "output_type": "execute_result"
    }
   ],
   "source": [
    "rfeRF = RandomForestRegressor()\n",
    "\n",
    "min_features_to_select = 1\n",
    "\n",
    "rfeCV = RFECV(\n",
    "    estimator=rfeRF,\n",
    "    step=1,\n",
    "    cv=10,\n",
    "    scoring=\"r2\",\n",
    "    min_features_to_select=min_features_to_select,\n",
    ")\n",
    "\n",
    "rfeCV.fit(global_X_train, global_Y_train)\n",
    "\n",
    "# mid-point some threshold --> active and inactive\n",
    "# one desc calculate avg std for the active/inactive\n",
    "# is the diff between the active and inactive statistically different --> student t-test\n",
    "# this desc can separate between active and inactive, select descriptors based off those that can and cannot\n",
    "# might be transfer learning --> take families --> train test\n",
    "# what happens"
   ]
  },
  {
   "cell_type": "code",
   "execution_count": 1,
   "id": "f6ce40db",
   "metadata": {},
   "outputs": [
    {
     "ename": "NameError",
     "evalue": "name 'rfeCV' is not defined",
     "output_type": "error",
     "traceback": [
      "\u001b[1;31m---------------------------------------------------------------------------\u001b[0m",
      "\u001b[1;31mNameError\u001b[0m                                 Traceback (most recent call last)",
      "\u001b[1;32m~\\AppData\\Local\\Temp/ipykernel_8248/749263350.py\u001b[0m in \u001b[0;36m<module>\u001b[1;34m\u001b[0m\n\u001b[1;32m----> 1\u001b[1;33m \u001b[0mprint\u001b[0m\u001b[1;33m(\u001b[0m\u001b[1;34m\"Optimal numberof features : %d\"\u001b[0m \u001b[1;33m%\u001b[0m \u001b[0mrfeCV\u001b[0m\u001b[1;33m.\u001b[0m\u001b[0mn_features_\u001b[0m\u001b[1;33m)\u001b[0m\u001b[1;33m\u001b[0m\u001b[1;33m\u001b[0m\u001b[0m\n\u001b[0m\u001b[0;32m      2\u001b[0m \u001b[1;33m\u001b[0m\u001b[0m\n\u001b[0;32m      3\u001b[0m \u001b[0mplt\u001b[0m\u001b[1;33m.\u001b[0m\u001b[0mfigure\u001b[0m\u001b[1;33m(\u001b[0m\u001b[1;33m)\u001b[0m\u001b[1;33m\u001b[0m\u001b[1;33m\u001b[0m\u001b[0m\n\u001b[0;32m      4\u001b[0m \u001b[0mplt\u001b[0m\u001b[1;33m.\u001b[0m\u001b[0mxlabel\u001b[0m\u001b[1;33m(\u001b[0m\u001b[1;34m\"Number of features selected\"\u001b[0m\u001b[1;33m)\u001b[0m\u001b[1;33m\u001b[0m\u001b[1;33m\u001b[0m\u001b[0m\n\u001b[0;32m      5\u001b[0m \u001b[0mplt\u001b[0m\u001b[1;33m.\u001b[0m\u001b[0mylabel\u001b[0m\u001b[1;33m(\u001b[0m\u001b[1;34m\"Cross validation score (r2)\"\u001b[0m\u001b[1;33m)\u001b[0m\u001b[1;33m\u001b[0m\u001b[1;33m\u001b[0m\u001b[0m\n",
      "\u001b[1;31mNameError\u001b[0m: name 'rfeCV' is not defined"
     ]
    }
   ],
   "source": [
    "print(\"Optimal numberof features : %d\" % rfeCV.n_features_)\n",
    "\n",
    "plt.figure()\n",
    "plt.xlabel(\"Number of features selected\")\n",
    "plt.ylabel(\"Cross validation score (r2)\")\n",
    "plt.plot(\n",
    "    range(min_features_to_select, 1024),\n",
    "    rfeCV.grid_scores_,\n",
    ")\n",
    "plt.show()"
   ]
  },
  {
   "cell_type": "code",
   "execution_count": null,
   "id": "8870fd62",
   "metadata": {},
   "outputs": [],
   "source": []
  },
  {
   "cell_type": "markdown",
   "id": "2dc04978",
   "metadata": {},
   "source": [
    "<b>RFE for 617 features</b>"
   ]
  },
  {
   "cell_type": "code",
   "execution_count": 42,
   "id": "92588278",
   "metadata": {},
   "outputs": [
    {
     "data": {
      "text/plain": [
       "RFE(estimator=RandomForestRegressor(), n_features_to_select=617)"
      ]
     },
     "execution_count": 42,
     "metadata": {},
     "output_type": "execute_result"
    }
   ],
   "source": [
    "model_RF = RandomForestRegressor()\n",
    "\n",
    "rfe_617 = RFE(estimator=model_RF, n_features_to_select=617, step=1)\n",
    "\n",
    "rfe_617.fit(global_X_train, global_Y_train)"
   ]
  },
  {
   "cell_type": "code",
   "execution_count": 51,
   "id": "bc61a459",
   "metadata": {},
   "outputs": [
    {
     "data": {
      "text/html": [
       "<div>\n",
       "<style scoped>\n",
       "    .dataframe tbody tr th:only-of-type {\n",
       "        vertical-align: middle;\n",
       "    }\n",
       "\n",
       "    .dataframe tbody tr th {\n",
       "        vertical-align: top;\n",
       "    }\n",
       "\n",
       "    .dataframe thead th {\n",
       "        text-align: right;\n",
       "    }\n",
       "</style>\n",
       "<table border=\"1\" class=\"dataframe\">\n",
       "  <thead>\n",
       "    <tr style=\"text-align: right;\">\n",
       "      <th></th>\n",
       "      <th>MW</th>\n",
       "      <th>AMW</th>\n",
       "      <th>Se</th>\n",
       "      <th>Sp</th>\n",
       "      <th>Si</th>\n",
       "      <th>Me</th>\n",
       "      <th>Mp</th>\n",
       "      <th>Mi</th>\n",
       "      <th>GD</th>\n",
       "      <th>nAT</th>\n",
       "      <th>...</th>\n",
       "      <th>TPSA(NO)</th>\n",
       "      <th>TPSA(Tot)</th>\n",
       "      <th>LOGP99</th>\n",
       "      <th>LOGPcons</th>\n",
       "      <th>ESOL</th>\n",
       "      <th>SAacc</th>\n",
       "      <th>SAdon</th>\n",
       "      <th>Vx</th>\n",
       "      <th>VvdwMG</th>\n",
       "      <th>SAscore</th>\n",
       "    </tr>\n",
       "    <tr>\n",
       "      <th>S.No</th>\n",
       "      <th></th>\n",
       "      <th></th>\n",
       "      <th></th>\n",
       "      <th></th>\n",
       "      <th></th>\n",
       "      <th></th>\n",
       "      <th></th>\n",
       "      <th></th>\n",
       "      <th></th>\n",
       "      <th></th>\n",
       "      <th></th>\n",
       "      <th></th>\n",
       "      <th></th>\n",
       "      <th></th>\n",
       "      <th></th>\n",
       "      <th></th>\n",
       "      <th></th>\n",
       "      <th></th>\n",
       "      <th></th>\n",
       "      <th></th>\n",
       "      <th></th>\n",
       "    </tr>\n",
       "  </thead>\n",
       "  <tbody>\n",
       "    <tr>\n",
       "      <th>101</th>\n",
       "      <td>848.43</td>\n",
       "      <td>7.929252</td>\n",
       "      <td>105.4283</td>\n",
       "      <td>78.9553</td>\n",
       "      <td>117.9655</td>\n",
       "      <td>0.985311</td>\n",
       "      <td>0.737900</td>\n",
       "      <td>1.102481</td>\n",
       "      <td>0.038251</td>\n",
       "      <td>107</td>\n",
       "      <td>...</td>\n",
       "      <td>71.90</td>\n",
       "      <td>71.90</td>\n",
       "      <td>13.44840</td>\n",
       "      <td>9.886912</td>\n",
       "      <td>-11.185245</td>\n",
       "      <td>101.399329</td>\n",
       "      <td>42.683343</td>\n",
       "      <td>1061.877076</td>\n",
       "      <td>438.572572</td>\n",
       "      <td>6.829509</td>\n",
       "    </tr>\n",
       "    <tr>\n",
       "      <th>258</th>\n",
       "      <td>1231.10</td>\n",
       "      <td>7.327976</td>\n",
       "      <td>164.8459</td>\n",
       "      <td>118.7968</td>\n",
       "      <td>186.5253</td>\n",
       "      <td>0.981226</td>\n",
       "      <td>0.707124</td>\n",
       "      <td>1.110270</td>\n",
       "      <td>0.025862</td>\n",
       "      <td>168</td>\n",
       "      <td>...</td>\n",
       "      <td>100.62</td>\n",
       "      <td>128.86</td>\n",
       "      <td>20.89338</td>\n",
       "      <td>14.252522</td>\n",
       "      <td>-15.951736</td>\n",
       "      <td>135.582999</td>\n",
       "      <td>42.683343</td>\n",
       "      <td>1604.983389</td>\n",
       "      <td>661.157127</td>\n",
       "      <td>7.699039</td>\n",
       "    </tr>\n",
       "    <tr>\n",
       "      <th>162</th>\n",
       "      <td>579.73</td>\n",
       "      <td>9.202063</td>\n",
       "      <td>63.0652</td>\n",
       "      <td>49.0741</td>\n",
       "      <td>68.4905</td>\n",
       "      <td>1.001035</td>\n",
       "      <td>0.778954</td>\n",
       "      <td>1.087151</td>\n",
       "      <td>0.055749</td>\n",
       "      <td>63</td>\n",
       "      <td>...</td>\n",
       "      <td>78.91</td>\n",
       "      <td>135.39</td>\n",
       "      <td>9.29428</td>\n",
       "      <td>7.832295</td>\n",
       "      <td>-8.690492</td>\n",
       "      <td>115.673156</td>\n",
       "      <td>42.683343</td>\n",
       "      <td>691.644518</td>\n",
       "      <td>286.837917</td>\n",
       "      <td>4.141740</td>\n",
       "    </tr>\n",
       "    <tr>\n",
       "      <th>221</th>\n",
       "      <td>1981.43</td>\n",
       "      <td>6.496492</td>\n",
       "      <td>298.4845</td>\n",
       "      <td>201.8379</td>\n",
       "      <td>341.8844</td>\n",
       "      <td>0.978638</td>\n",
       "      <td>0.661764</td>\n",
       "      <td>1.120932</td>\n",
       "      <td>0.015483</td>\n",
       "      <td>305</td>\n",
       "      <td>...</td>\n",
       "      <td>137.84</td>\n",
       "      <td>166.08</td>\n",
       "      <td>36.76080</td>\n",
       "      <td>24.513496</td>\n",
       "      <td>-22.421193</td>\n",
       "      <td>178.475238</td>\n",
       "      <td>42.683343</td>\n",
       "      <td>2728.488372</td>\n",
       "      <td>1121.609989</td>\n",
       "      <td>8.609564</td>\n",
       "    </tr>\n",
       "    <tr>\n",
       "      <th>171</th>\n",
       "      <td>1699.87</td>\n",
       "      <td>6.666157</td>\n",
       "      <td>250.0523</td>\n",
       "      <td>170.7635</td>\n",
       "      <td>285.2381</td>\n",
       "      <td>0.980597</td>\n",
       "      <td>0.669661</td>\n",
       "      <td>1.118581</td>\n",
       "      <td>0.017993</td>\n",
       "      <td>255</td>\n",
       "      <td>...</td>\n",
       "      <td>137.54</td>\n",
       "      <td>137.54</td>\n",
       "      <td>30.91298</td>\n",
       "      <td>20.627868</td>\n",
       "      <td>-19.348302</td>\n",
       "      <td>176.458237</td>\n",
       "      <td>42.683343</td>\n",
       "      <td>2312.043189</td>\n",
       "      <td>950.935733</td>\n",
       "      <td>7.970872</td>\n",
       "    </tr>\n",
       "    <tr>\n",
       "      <th>...</th>\n",
       "      <td>...</td>\n",
       "      <td>...</td>\n",
       "      <td>...</td>\n",
       "      <td>...</td>\n",
       "      <td>...</td>\n",
       "      <td>...</td>\n",
       "      <td>...</td>\n",
       "      <td>...</td>\n",
       "      <td>...</td>\n",
       "      <td>...</td>\n",
       "      <td>...</td>\n",
       "      <td>...</td>\n",
       "      <td>...</td>\n",
       "      <td>...</td>\n",
       "      <td>...</td>\n",
       "      <td>...</td>\n",
       "      <td>...</td>\n",
       "      <td>...</td>\n",
       "      <td>...</td>\n",
       "      <td>...</td>\n",
       "      <td>...</td>\n",
       "    </tr>\n",
       "    <tr>\n",
       "      <th>38</th>\n",
       "      <td>1385.47</td>\n",
       "      <td>7.827514</td>\n",
       "      <td>176.7550</td>\n",
       "      <td>124.1717</td>\n",
       "      <td>197.7790</td>\n",
       "      <td>0.998616</td>\n",
       "      <td>0.701535</td>\n",
       "      <td>1.117395</td>\n",
       "      <td>0.022882</td>\n",
       "      <td>177</td>\n",
       "      <td>...</td>\n",
       "      <td>149.66</td>\n",
       "      <td>234.38</td>\n",
       "      <td>20.67774</td>\n",
       "      <td>13.330043</td>\n",
       "      <td>-15.570325</td>\n",
       "      <td>204.023880</td>\n",
       "      <td>85.366686</td>\n",
       "      <td>1705.830565</td>\n",
       "      <td>702.487936</td>\n",
       "      <td>6.322707</td>\n",
       "    </tr>\n",
       "    <tr>\n",
       "      <th>24</th>\n",
       "      <td>706.50</td>\n",
       "      <td>11.214286</td>\n",
       "      <td>63.5161</td>\n",
       "      <td>49.7503</td>\n",
       "      <td>68.7152</td>\n",
       "      <td>1.008192</td>\n",
       "      <td>0.789687</td>\n",
       "      <td>1.090717</td>\n",
       "      <td>0.054878</td>\n",
       "      <td>63</td>\n",
       "      <td>...</td>\n",
       "      <td>62.54</td>\n",
       "      <td>122.87</td>\n",
       "      <td>9.13760</td>\n",
       "      <td>8.100322</td>\n",
       "      <td>-9.341160</td>\n",
       "      <td>99.221825</td>\n",
       "      <td>42.683343</td>\n",
       "      <td>730.249169</td>\n",
       "      <td>302.659496</td>\n",
       "      <td>4.055192</td>\n",
       "    </tr>\n",
       "    <tr>\n",
       "      <th>23</th>\n",
       "      <td>617.60</td>\n",
       "      <td>9.803175</td>\n",
       "      <td>63.7053</td>\n",
       "      <td>48.7615</td>\n",
       "      <td>68.9200</td>\n",
       "      <td>1.011195</td>\n",
       "      <td>0.773992</td>\n",
       "      <td>1.093968</td>\n",
       "      <td>0.054878</td>\n",
       "      <td>63</td>\n",
       "      <td>...</td>\n",
       "      <td>62.54</td>\n",
       "      <td>122.87</td>\n",
       "      <td>8.91940</td>\n",
       "      <td>7.911231</td>\n",
       "      <td>-8.676531</td>\n",
       "      <td>99.221825</td>\n",
       "      <td>42.683343</td>\n",
       "      <td>712.774086</td>\n",
       "      <td>295.497576</td>\n",
       "      <td>3.990880</td>\n",
       "    </tr>\n",
       "    <tr>\n",
       "      <th>145</th>\n",
       "      <td>713.62</td>\n",
       "      <td>10.342319</td>\n",
       "      <td>68.8251</td>\n",
       "      <td>54.6083</td>\n",
       "      <td>75.1215</td>\n",
       "      <td>0.997465</td>\n",
       "      <td>0.791425</td>\n",
       "      <td>1.088717</td>\n",
       "      <td>0.051515</td>\n",
       "      <td>69</td>\n",
       "      <td>...</td>\n",
       "      <td>69.26</td>\n",
       "      <td>97.50</td>\n",
       "      <td>10.57818</td>\n",
       "      <td>9.058684</td>\n",
       "      <td>-10.232047</td>\n",
       "      <td>102.011940</td>\n",
       "      <td>42.683343</td>\n",
       "      <td>770.465116</td>\n",
       "      <td>319.141441</td>\n",
       "      <td>4.101409</td>\n",
       "    </tr>\n",
       "    <tr>\n",
       "      <th>28</th>\n",
       "      <td>991.55</td>\n",
       "      <td>7.185145</td>\n",
       "      <td>135.3917</td>\n",
       "      <td>95.2965</td>\n",
       "      <td>153.5605</td>\n",
       "      <td>0.981099</td>\n",
       "      <td>0.690554</td>\n",
       "      <td>1.112757</td>\n",
       "      <td>0.033017</td>\n",
       "      <td>138</td>\n",
       "      <td>...</td>\n",
       "      <td>86.25</td>\n",
       "      <td>209.02</td>\n",
       "      <td>19.26178</td>\n",
       "      <td>16.312722</td>\n",
       "      <td>-14.814941</td>\n",
       "      <td>125.586274</td>\n",
       "      <td>74.263701</td>\n",
       "      <td>1309.468439</td>\n",
       "      <td>540.044442</td>\n",
       "      <td>4.874772</td>\n",
       "    </tr>\n",
       "  </tbody>\n",
       "</table>\n",
       "<p>917 rows × 617 columns</p>\n",
       "</div>"
      ],
      "text/plain": [
       "           MW        AMW        Se        Sp        Si        Me        Mp  \\\n",
       "S.No                                                                         \n",
       "101    848.43   7.929252  105.4283   78.9553  117.9655  0.985311  0.737900   \n",
       "258   1231.10   7.327976  164.8459  118.7968  186.5253  0.981226  0.707124   \n",
       "162    579.73   9.202063   63.0652   49.0741   68.4905  1.001035  0.778954   \n",
       "221   1981.43   6.496492  298.4845  201.8379  341.8844  0.978638  0.661764   \n",
       "171   1699.87   6.666157  250.0523  170.7635  285.2381  0.980597  0.669661   \n",
       "...       ...        ...       ...       ...       ...       ...       ...   \n",
       "38    1385.47   7.827514  176.7550  124.1717  197.7790  0.998616  0.701535   \n",
       "24     706.50  11.214286   63.5161   49.7503   68.7152  1.008192  0.789687   \n",
       "23     617.60   9.803175   63.7053   48.7615   68.9200  1.011195  0.773992   \n",
       "145    713.62  10.342319   68.8251   54.6083   75.1215  0.997465  0.791425   \n",
       "28     991.55   7.185145  135.3917   95.2965  153.5605  0.981099  0.690554   \n",
       "\n",
       "            Mi        GD  nAT  ...  TPSA(NO)  TPSA(Tot)    LOGP99   LOGPcons  \\\n",
       "S.No                           ...                                             \n",
       "101   1.102481  0.038251  107  ...     71.90      71.90  13.44840   9.886912   \n",
       "258   1.110270  0.025862  168  ...    100.62     128.86  20.89338  14.252522   \n",
       "162   1.087151  0.055749   63  ...     78.91     135.39   9.29428   7.832295   \n",
       "221   1.120932  0.015483  305  ...    137.84     166.08  36.76080  24.513496   \n",
       "171   1.118581  0.017993  255  ...    137.54     137.54  30.91298  20.627868   \n",
       "...        ...       ...  ...  ...       ...        ...       ...        ...   \n",
       "38    1.117395  0.022882  177  ...    149.66     234.38  20.67774  13.330043   \n",
       "24    1.090717  0.054878   63  ...     62.54     122.87   9.13760   8.100322   \n",
       "23    1.093968  0.054878   63  ...     62.54     122.87   8.91940   7.911231   \n",
       "145   1.088717  0.051515   69  ...     69.26      97.50  10.57818   9.058684   \n",
       "28    1.112757  0.033017  138  ...     86.25     209.02  19.26178  16.312722   \n",
       "\n",
       "           ESOL       SAacc      SAdon           Vx       VvdwMG   SAscore  \n",
       "S.No                                                                        \n",
       "101  -11.185245  101.399329  42.683343  1061.877076   438.572572  6.829509  \n",
       "258  -15.951736  135.582999  42.683343  1604.983389   661.157127  7.699039  \n",
       "162   -8.690492  115.673156  42.683343   691.644518   286.837917  4.141740  \n",
       "221  -22.421193  178.475238  42.683343  2728.488372  1121.609989  8.609564  \n",
       "171  -19.348302  176.458237  42.683343  2312.043189   950.935733  7.970872  \n",
       "...         ...         ...        ...          ...          ...       ...  \n",
       "38   -15.570325  204.023880  85.366686  1705.830565   702.487936  6.322707  \n",
       "24    -9.341160   99.221825  42.683343   730.249169   302.659496  4.055192  \n",
       "23    -8.676531   99.221825  42.683343   712.774086   295.497576  3.990880  \n",
       "145  -10.232047  102.011940  42.683343   770.465116   319.141441  4.101409  \n",
       "28   -14.814941  125.586274  74.263701  1309.468439   540.044442  4.874772  \n",
       "\n",
       "[917 rows x 617 columns]"
      ]
     },
     "execution_count": 51,
     "metadata": {},
     "output_type": "execute_result"
    }
   ],
   "source": [
    "global_X_train_rfe617 = global_X_train[global_X_train.columns[rfe_617.support_]]\n",
    "\n",
    "global_X_train_rfe617"
   ]
  },
  {
   "cell_type": "markdown",
   "id": "16e0c8bd",
   "metadata": {},
   "source": [
    "<b>RFE for 400 features</b>"
   ]
  },
  {
   "cell_type": "code",
   "execution_count": 53,
   "id": "6611b390",
   "metadata": {},
   "outputs": [],
   "source": [
    "rfe_400 = RFE(estimator=model_RF, n_features_to_select=400, step=1)\n",
    "\n",
    "rfe_400.fit(global_X_train, global_Y_train)\n",
    "\n",
    "global_X_train_rfe400 = global_X_train[global_X_train.columns[rfe_400.support_]]\n"
   ]
  },
  {
   "cell_type": "markdown",
   "id": "1cf3a7f0",
   "metadata": {},
   "source": [
    "<b>RFE for first 200 features</b>"
   ]
  },
  {
   "cell_type": "code",
   "execution_count": 54,
   "id": "951b3274",
   "metadata": {},
   "outputs": [],
   "source": [
    "rfe_200 = RFE(estimator=model_RF, n_features_to_select=200, step=1)\n",
    "\n",
    "rfe_200.fit(global_X_train, global_Y_train)\n",
    "\n",
    "global_X_train_rfe200 = global_X_train[global_X_train.columns[rfe_200.support_]]\n"
   ]
  },
  {
   "cell_type": "markdown",
   "id": "5f9b5661",
   "metadata": {},
   "source": [
    "<b>RFE for first 100 features</b>"
   ]
  },
  {
   "cell_type": "code",
   "execution_count": 55,
   "id": "1eacde70",
   "metadata": {},
   "outputs": [],
   "source": [
    "rfe_100 = RFE(estimator=model_RF, n_features_to_select=100, step=1)\n",
    "\n",
    "rfe_100.fit(global_X_train, global_Y_train)\n",
    "\n",
    "global_X_train_rfe100 = global_X_train[global_X_train.columns[rfe_100.support_]]\n"
   ]
  },
  {
   "cell_type": "markdown",
   "id": "4af1a4b5",
   "metadata": {},
   "source": [
    "<b>RFE for 150 features</b>"
   ]
  },
  {
   "cell_type": "code",
   "execution_count": 65,
   "id": "f65ac2a1",
   "metadata": {},
   "outputs": [],
   "source": [
    "rfe_150 = RFE(estimator=model_RF, n_features_to_select=150, step=1)\n",
    "\n",
    "rfe_150.fit(global_X_train, global_Y_train)\n",
    "\n",
    "global_X_train_rfe150 = global_X_train[global_X_train.columns[rfe_150.support_]]"
   ]
  },
  {
   "cell_type": "markdown",
   "id": "4486906b",
   "metadata": {},
   "source": [
    "<b>RFE for 50 features</b>"
   ]
  },
  {
   "cell_type": "code",
   "execution_count": 56,
   "id": "4e82094b",
   "metadata": {},
   "outputs": [],
   "source": [
    "rfe_50 = RFE(estimator=model_RF, n_features_to_select=50, step=1)\n",
    "\n",
    "rfe_50.fit(global_X_train, global_Y_train)\n",
    "\n",
    "global_X_train_rfe50 = global_X_train[global_X_train.columns[rfe_50.support_]]\n"
   ]
  },
  {
   "cell_type": "code",
   "execution_count": 60,
   "id": "ecabba39",
   "metadata": {},
   "outputs": [],
   "source": [
    "def getCorrOfModels(X_train_List, Y_train):\n",
    "    for i in range(len(X_train_List)):\n",
    "        modelRF = RandomForestRegressor(n_estimators=500)\n",
    "        modelRF.fit(X_train_List[i], Y_train)\n",
    "        predict_train = modelRF.predict(X_train_List[i])\n",
    "        predict_test_ = modelRF.predict(global_X_test[X_train_List[i].columns])\n",
    "        r2_train = r2_score(global_Y_train, predict_train)\n",
    "        r2_test_ = r2_score(global_Y_test, predict_test_)\n",
    "        print(f\"{r2_train}, {r2_test_}\")\n",
    "    "
   ]
  },
  {
   "cell_type": "code",
   "execution_count": 66,
   "id": "4e0746f8",
   "metadata": {},
   "outputs": [
    {
     "name": "stdout",
     "output_type": "stream",
     "text": [
      "0.9343238131356698, 0.5924155417157697\n",
      "0.9333882414794104, 0.5959706457827313\n",
      "0.9338790219475931, 0.5904349480437736\n",
      "0.9330092646364866, 0.5887559005052135\n",
      "0.9318921790729116, 0.5831511749432252\n",
      "0.9328167382558655, 0.5801885912436935\n"
     ]
    }
   ],
   "source": [
    "getCorrOfModels([global_X_train_rfe617, global_X_train_rfe400, global_X_train_rfe200,global_X_train_rfe150, global_X_train_rfe100, global_X_train_rfe50], global_Y_train)"
   ]
  },
  {
   "cell_type": "code",
   "execution_count": 68,
   "id": "4971e46c",
   "metadata": {},
   "outputs": [
    {
     "data": {
      "text/plain": [
       "(0.49531562461585843,\n",
       " {'max_depth': 12, 'max_features': 'auto', 'n_estimators': 1000})"
      ]
     },
     "execution_count": 68,
     "metadata": {},
     "output_type": "execute_result"
    }
   ],
   "source": [
    "gridSearchRF = RandomForestRegressor()\n",
    "\n",
    "param_grid={\n",
    "    \"n_estimators\":[300, 500, 1000],\n",
    "    \"max_features\":[\"auto\",\"sqrt\",\"log2\"],\n",
    "    \"max_depth\":[12,13,14]\n",
    "}\n",
    "\n",
    "grid = GridSearchCV(gridSearchRF, param_grid, cv=10)"
   ]
  },
  {
   "cell_type": "code",
   "execution_count": 69,
   "id": "32ed670c",
   "metadata": {},
   "outputs": [
    {
     "data": {
      "text/plain": [
       "(0.4998605100880398,\n",
       " {'max_depth': 13, 'max_features': 'auto', 'n_estimators': 500})"
      ]
     },
     "execution_count": 69,
     "metadata": {},
     "output_type": "execute_result"
    }
   ],
   "source": [
    "grid.fit(global_X_train_rfe400, global_Y_train)\n",
    "\n",
    "grid.best_score_, grid.best_params_"
   ]
  },
  {
   "cell_type": "code",
   "execution_count": 81,
   "id": "f588002a",
   "metadata": {},
   "outputs": [],
   "source": [
    "# Schro, lig prep --> 3D structure, protonate, C=OH, tautomers\n",
    "# \n",
    "param_grid={\n",
    "    \"n_estimators\":[700],\n",
    "    \"max_features\":[\"auto\",\"sqrt\",\"log2\"],\n",
    "    \"max_depth\":[18,19,20]\n",
    "}\n",
    "\n",
    "grid = GridSearchCV(gridSearchRF, param_grid, cv=10)"
   ]
  },
  {
   "cell_type": "code",
   "execution_count": 75,
   "id": "1a0c9bc2",
   "metadata": {},
   "outputs": [
    {
     "data": {
      "text/plain": [
       "(0.5007099997471672,\n",
       " {'max_depth': 16, 'max_features': 'auto', 'n_estimators': 800})"
      ]
     },
     "execution_count": 75,
     "metadata": {},
     "output_type": "execute_result"
    }
   ],
   "source": [
    "grid.fit(global_X_train_rfe400, global_Y_train)\n",
    "\n",
    "grid.best_score_, grid.best_params_"
   ]
  },
  {
   "cell_type": "code",
   "execution_count": 78,
   "id": "32232502",
   "metadata": {},
   "outputs": [
    {
     "data": {
      "text/plain": [
       "(0.5023348996407123,\n",
       " {'max_depth': 16, 'max_features': 'sqrt', 'n_estimators': 800})"
      ]
     },
     "execution_count": 78,
     "metadata": {},
     "output_type": "execute_result"
    }
   ],
   "source": [
    "grid.fit(global_X_train_rfe400, global_Y_train)\n",
    "\n",
    "grid.best_score_, grid.best_params_"
   ]
  },
  {
   "cell_type": "code",
   "execution_count": 80,
   "id": "922c7cde",
   "metadata": {},
   "outputs": [
    {
     "data": {
      "text/plain": [
       "(0.50280858805638,\n",
       " {'max_depth': 18, 'max_features': 'sqrt', 'n_estimators': 700})"
      ]
     },
     "execution_count": 80,
     "metadata": {},
     "output_type": "execute_result"
    }
   ],
   "source": [
    "grid.fit(global_X_train_rfe400, global_Y_train)\n",
    "\n",
    "grid.best_score_, grid.best_params_"
   ]
  },
  {
   "cell_type": "code",
   "execution_count": 82,
   "id": "9959e93b",
   "metadata": {},
   "outputs": [
    {
     "data": {
      "text/plain": [
       "(0.502029959383426,\n",
       " {'max_depth': 19, 'max_features': 'sqrt', 'n_estimators': 700})"
      ]
     },
     "execution_count": 82,
     "metadata": {},
     "output_type": "execute_result"
    }
   ],
   "source": [
    "grid.fit(global_X_train_rfe400, global_Y_train)\n",
    "\n",
    "grid.best_score_, grid.best_params_"
   ]
  },
  {
   "cell_type": "code",
   "execution_count": 107,
   "id": "ad10cd47",
   "metadata": {},
   "outputs": [
    {
     "data": {
      "text/plain": [
       "RandomForestRegressor(max_depth=18, max_features='sqrt', n_estimators=700)"
      ]
     },
     "execution_count": 107,
     "metadata": {},
     "output_type": "execute_result"
    }
   ],
   "source": [
    "finalRFModel = RandomForestRegressor(max_depth=18, max_features='sqrt', n_estimators=700)\n",
    "\n",
    "finalRFModel.fit(global_X_train_rfe50, global_Y_train)\n"
   ]
  },
  {
   "cell_type": "code",
   "execution_count": 108,
   "id": "90f42fd7",
   "metadata": {},
   "outputs": [
    {
     "data": {
      "text/plain": [
       "(0.9310218149387983, 0.5806632198179709)"
      ]
     },
     "execution_count": 108,
     "metadata": {},
     "output_type": "execute_result"
    }
   ],
   "source": [
    "predict_train = finalRFModel.predict(global_X_train[global_X_train_rfe50.columns])\n",
    "predict_test_ = finalRFModel.predict(global_X_test[global_X_train_rfe50.columns])\n",
    "\n",
    "r2_train = r2_score(global_Y_train,predict_train)\n",
    "r2_test_ = r2_score(global_Y_test,predict_test_)\n",
    "\n",
    "r2_train, r2_test_"
   ]
  },
  {
   "cell_type": "code",
   "execution_count": null,
   "id": "2697f1a0",
   "metadata": {},
   "outputs": [],
   "source": []
  }
 ],
 "metadata": {
  "kernelspec": {
   "display_name": "Python 3 (ipykernel)",
   "language": "python",
   "name": "python3"
  },
  "language_info": {
   "codemirror_mode": {
    "name": "ipython",
    "version": 3
   },
   "file_extension": ".py",
   "mimetype": "text/x-python",
   "name": "python",
   "nbconvert_exporter": "python",
   "pygments_lexer": "ipython3",
   "version": "3.9.7"
  }
 },
 "nbformat": 4,
 "nbformat_minor": 5
}
