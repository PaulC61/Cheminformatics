{
 "cells": [
  {
   "cell_type": "markdown",
   "id": "d5bf68ba",
   "metadata": {},
   "source": [
    "Set Up Environment and Import Family Data"
   ]
  },
  {
   "cell_type": "code",
   "execution_count": 35,
   "id": "27e190ff",
   "metadata": {},
   "outputs": [],
   "source": [
    "import matplotlib.pyplot as plt\n",
    "from sklearn.preprocessing import StandardScaler\n",
    "from sklearn.cross_decomposition import PLSRegression\n",
    "from sklearn.feature_selection import SelectFromModel, RFE, RFECV\n",
    "from sklearn.linear_model import ElasticNetCV, Lasso, LassoCV\n",
    "from sklearn.metrics import r2_score\n",
    "from abess import LinearRegression\n",
    "from genetic_selection import GeneticSelectionCV\n",
    "import pandas as pd\n",
    "import numpy as np"
   ]
  },
  {
   "cell_type": "code",
   "execution_count": 37,
   "id": "f3b1df5c",
   "metadata": {},
   "outputs": [],
   "source": [
    "def extractDragonDescritors(family_Y_df, descriptorFileString):\n",
    "    family_X = pd.read_csv(descriptorFileString, sep='\\t', index_col=0)\n",
    "    family_X_resetIndex = pd.DataFrame(family_X.to_numpy(), index=family_Y_df.index, columns=family_X.columns)\n",
    "    return family_X_resetIndex"
   ]
  },
  {
   "cell_type": "code",
   "execution_count": 39,
   "id": "9f3e829f",
   "metadata": {},
   "outputs": [
    {
     "data": {
      "text/html": [
       "<div>\n",
       "<style scoped>\n",
       "    .dataframe tbody tr th:only-of-type {\n",
       "        vertical-align: middle;\n",
       "    }\n",
       "\n",
       "    .dataframe tbody tr th {\n",
       "        vertical-align: top;\n",
       "    }\n",
       "\n",
       "    .dataframe thead th {\n",
       "        text-align: right;\n",
       "    }\n",
       "</style>\n",
       "<table border=\"1\" class=\"dataframe\">\n",
       "  <thead>\n",
       "    <tr style=\"text-align: right;\">\n",
       "      <th></th>\n",
       "      <th>Molecule SMILE</th>\n",
       "      <th>PCE</th>\n",
       "    </tr>\n",
       "    <tr>\n",
       "      <th>S.No</th>\n",
       "      <th></th>\n",
       "      <th></th>\n",
       "    </tr>\n",
       "  </thead>\n",
       "  <tbody>\n",
       "    <tr>\n",
       "      <th>1</th>\n",
       "      <td>CCCCCCC(Cc1cc(sc1c1cc2c(s1)c1sc(cc1c1c2non1)c1...</td>\n",
       "      <td>6.18</td>\n",
       "    </tr>\n",
       "    <tr>\n",
       "      <th>2</th>\n",
       "      <td>N#C/C(=C\\c1ccc(cc1)/C=C/c1cccc(c1)N(c1ccccc1)c...</td>\n",
       "      <td>2.23</td>\n",
       "    </tr>\n",
       "    <tr>\n",
       "      <th>3</th>\n",
       "      <td>N#CC(=Cc1ccc(cc1)C=Cc1ccc(cc1)N(c1ccccc1)c1ccc...</td>\n",
       "      <td>4.12</td>\n",
       "    </tr>\n",
       "    <tr>\n",
       "      <th>4</th>\n",
       "      <td>N#CC(=Cc1cccc(c1)N(c1ccccc1)c1ccccc1)C(=O)O</td>\n",
       "      <td>1.27</td>\n",
       "    </tr>\n",
       "    <tr>\n",
       "      <th>5</th>\n",
       "      <td>N#CC(=Cc1ccc(cc1)N(c1ccccc1)c1ccccc1)C(=O)O</td>\n",
       "      <td>2.92</td>\n",
       "    </tr>\n",
       "    <tr>\n",
       "      <th>...</th>\n",
       "      <td>...</td>\n",
       "      <td>...</td>\n",
       "    </tr>\n",
       "    <tr>\n",
       "      <th>240</th>\n",
       "      <td>Oc1nc2ccc(cc2nc1O)c1ccc(cc1)N(c1ccccc1)c1ccccc1</td>\n",
       "      <td>1.18</td>\n",
       "    </tr>\n",
       "    <tr>\n",
       "      <th>241</th>\n",
       "      <td>Oc1nc2ccc(cc2nc1O)c1ccc(s1)c1ccc(cc1)N(c1ccccc...</td>\n",
       "      <td>1.58</td>\n",
       "    </tr>\n",
       "    <tr>\n",
       "      <th>242</th>\n",
       "      <td>CCCCC(COc1cc(OCC(CCCC)CC)ccc1c1ccc(cc1)N(c1ccc...</td>\n",
       "      <td>5.87</td>\n",
       "    </tr>\n",
       "    <tr>\n",
       "      <th>243</th>\n",
       "      <td>CCCCC(CC1(CC(CCCC)CC)c2cc(sc2c2c1cc(s2)c1ccc(c...</td>\n",
       "      <td>6.69</td>\n",
       "    </tr>\n",
       "    <tr>\n",
       "      <th>244</th>\n",
       "      <td>CCCCC(CC1(CC(CCCC)CC)c2cc(sc2c2c1cc(s2)c1ccc(c...</td>\n",
       "      <td>5.50</td>\n",
       "    </tr>\n",
       "  </tbody>\n",
       "</table>\n",
       "<p>229 rows × 2 columns</p>\n",
       "</div>"
      ],
      "text/plain": [
       "                                         Molecule SMILE   PCE\n",
       "S.No                                                         \n",
       "1     CCCCCCC(Cc1cc(sc1c1cc2c(s1)c1sc(cc1c1c2non1)c1...  6.18\n",
       "2     N#C/C(=C\\c1ccc(cc1)/C=C/c1cccc(c1)N(c1ccccc1)c...  2.23\n",
       "3     N#CC(=Cc1ccc(cc1)C=Cc1ccc(cc1)N(c1ccccc1)c1ccc...  4.12\n",
       "4           N#CC(=Cc1cccc(c1)N(c1ccccc1)c1ccccc1)C(=O)O  1.27\n",
       "5           N#CC(=Cc1ccc(cc1)N(c1ccccc1)c1ccccc1)C(=O)O  2.92\n",
       "...                                                 ...   ...\n",
       "240     Oc1nc2ccc(cc2nc1O)c1ccc(cc1)N(c1ccccc1)c1ccccc1  1.18\n",
       "241   Oc1nc2ccc(cc2nc1O)c1ccc(s1)c1ccc(cc1)N(c1ccccc...  1.58\n",
       "242   CCCCC(COc1cc(OCC(CCCC)CC)ccc1c1ccc(cc1)N(c1ccc...  5.87\n",
       "243   CCCCC(CC1(CC(CCCC)CC)c2cc(sc2c2c1cc(s2)c1ccc(c...  6.69\n",
       "244   CCCCC(CC1(CC(CCCC)CC)c2cc(sc2c2c1cc(s2)c1ccc(c...  5.50\n",
       "\n",
       "[229 rows x 2 columns]"
      ]
     },
     "execution_count": 39,
     "metadata": {},
     "output_type": "execute_result"
    }
   ],
   "source": [
    "triph_Y = pd.read_csv('Data/exactPLS/triphenylamines.csv', index_col=0)\n",
    "porph_Y = pd.read_csv('Data/exactPLS/porphyrins.csv', index_col=0)\n",
    "pheno_Y = pd.read_csv('Data/exactPLS/phenothiazines.csv', index_col=0)\n",
    "indol_Y = pd.read_csv('Data/exactPLS/indolines.csv', index_col=0)\n",
    "couma_Y = pd.read_csv('Data/exactPLS/coumarins.csv', index_col=0)\n",
    "carba_Y = pd.read_csv('Data/exactPLS/carbazoles.csv', index_col=0)\n",
    "diphe_Y = pd.read_csv('Data/exactPLS/diphenylamines.csv', index_col=0)"
   ]
  },
  {
   "cell_type": "code",
   "execution_count": null,
   "id": "0da6603e",
   "metadata": {},
   "outputs": [],
   "source": []
  }
 ],
 "metadata": {
  "kernelspec": {
   "display_name": "Python 3 (ipykernel)",
   "language": "python",
   "name": "python3"
  },
  "language_info": {
   "codemirror_mode": {
    "name": "ipython",
    "version": 3
   },
   "file_extension": ".py",
   "mimetype": "text/x-python",
   "name": "python",
   "nbconvert_exporter": "python",
   "pygments_lexer": "ipython3",
   "version": "3.9.7"
  }
 },
 "nbformat": 4,
 "nbformat_minor": 5
}
