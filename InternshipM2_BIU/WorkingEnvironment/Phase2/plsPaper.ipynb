{
 "cells": [
  {
   "cell_type": "markdown",
   "id": "7054fde9",
   "metadata": {},
   "source": [
    "Initialise Global Dataset"
   ]
  },
  {
   "cell_type": "code",
   "execution_count": 1,
   "id": "952b0d61",
   "metadata": {},
   "outputs": [],
   "source": [
    "import pandas as pd"
   ]
  },
  {
   "cell_type": "markdown",
   "id": "c30ec86b",
   "metadata": {},
   "source": [
    "Divide Dataset into Compound Families"
   ]
  },
  {
   "cell_type": "markdown",
   "id": "6a1a9c75",
   "metadata": {},
   "source": [
    "Triphenylamine, Porphyrin, Phenothiazine, Indoline, Coumarin, Carbazole, Diphenylamine"
   ]
  },
  {
   "cell_type": "code",
   "execution_count": null,
   "id": "60253368",
   "metadata": {},
   "outputs": [],
   "source": []
  },
  {
   "cell_type": "markdown",
   "id": "80830bf4",
   "metadata": {},
   "source": [
    "Divide Family Sets into Training (0.7) and Test (0.3) Sets"
   ]
  },
  {
   "cell_type": "markdown",
   "id": "a86f405a",
   "metadata": {},
   "source": [
    "Triphenylamine + Porphyrin --> Kennard-Stone Algorithm"
   ]
  },
  {
   "cell_type": "code",
   "execution_count": null,
   "id": "c5f1eb44",
   "metadata": {},
   "outputs": [],
   "source": []
  },
  {
   "cell_type": "code",
   "execution_count": null,
   "id": "c2035ad8",
   "metadata": {},
   "outputs": [],
   "source": []
  },
  {
   "cell_type": "code",
   "execution_count": null,
   "id": "a3d3fac2",
   "metadata": {},
   "outputs": [],
   "source": []
  },
  {
   "cell_type": "markdown",
   "id": "26aa3df1",
   "metadata": {},
   "source": [
    " Phenothiazine, Indoline, Coumarin, Carbazole + Diphenylamine --> Modified k-medoid"
   ]
  },
  {
   "cell_type": "code",
   "execution_count": null,
   "id": "0990a86b",
   "metadata": {},
   "outputs": [],
   "source": []
  },
  {
   "cell_type": "code",
   "execution_count": null,
   "id": "8eeaf7ef",
   "metadata": {},
   "outputs": [],
   "source": []
  },
  {
   "cell_type": "markdown",
   "id": "13d7a19f",
   "metadata": {},
   "source": [
    "Eliminate Intercorrelated Descriptors (Degree of Correlation? Which one was removed?)"
   ]
  },
  {
   "cell_type": "code",
   "execution_count": null,
   "id": "e3ad6e26",
   "metadata": {},
   "outputs": [],
   "source": []
  },
  {
   "cell_type": "code",
   "execution_count": null,
   "id": "94453f40",
   "metadata": {},
   "outputs": [],
   "source": []
  },
  {
   "cell_type": "code",
   "execution_count": null,
   "id": "73cf96eb",
   "metadata": {},
   "outputs": [],
   "source": []
  },
  {
   "cell_type": "markdown",
   "id": "d8fae9f4",
   "metadata": {},
   "source": [
    "Multistage Stepwise Regression to remove less important features (define important?)"
   ]
  },
  {
   "cell_type": "code",
   "execution_count": null,
   "id": "20ac6d0c",
   "metadata": {},
   "outputs": [],
   "source": []
  },
  {
   "cell_type": "code",
   "execution_count": null,
   "id": "498d18ec",
   "metadata": {},
   "outputs": [],
   "source": []
  },
  {
   "cell_type": "code",
   "execution_count": null,
   "id": "cec0a290",
   "metadata": {},
   "outputs": [],
   "source": []
  },
  {
   "cell_type": "markdown",
   "id": "39bdfc6d",
   "metadata": {},
   "source": [
    "Best Features Selection --> 'Best Subset selection v2.1 software' --> Subsets are selected by their ability to build MLR models"
   ]
  },
  {
   "cell_type": "code",
   "execution_count": null,
   "id": "82669bbc",
   "metadata": {},
   "outputs": [],
   "source": []
  },
  {
   "cell_type": "markdown",
   "id": "45422026",
   "metadata": {},
   "source": [
    "13 Triphenylamine, 12 Porphyrin, 14 Phenothiazine, 13 Indoline, 5 Coumarin, 11 Carbazole, 4 Diphenylamine"
   ]
  },
  {
   "cell_type": "markdown",
   "id": "135b4bfd",
   "metadata": {},
   "source": [
    "Generate multiple MLR models with number of features listed above for each family"
   ]
  },
  {
   "cell_type": "code",
   "execution_count": null,
   "id": "115d5122",
   "metadata": {},
   "outputs": [],
   "source": []
  },
  {
   "cell_type": "code",
   "execution_count": null,
   "id": "e45cb0c5",
   "metadata": {},
   "outputs": [],
   "source": []
  },
  {
   "cell_type": "markdown",
   "id": "bae34348",
   "metadata": {},
   "source": [
    "Measure MAE of of each MLR model for each family and select the 5 best MLR models "
   ]
  },
  {
   "cell_type": "code",
   "execution_count": null,
   "id": "3f6ed8cc",
   "metadata": {},
   "outputs": [],
   "source": []
  },
  {
   "cell_type": "code",
   "execution_count": null,
   "id": "9c69158d",
   "metadata": {},
   "outputs": [],
   "source": []
  },
  {
   "cell_type": "markdown",
   "id": "7b423b57",
   "metadata": {},
   "source": [
    "PLS Applied to Descriptors for 5 Best Models for each Family (improve  predictivity and robustness)"
   ]
  },
  {
   "cell_type": "markdown",
   "id": "4c82054d",
   "metadata": {},
   "source": [
    "PLS Models were then used as the final predictor models"
   ]
  },
  {
   "cell_type": "code",
   "execution_count": null,
   "id": "18ff3c34",
   "metadata": {},
   "outputs": [],
   "source": []
  },
  {
   "cell_type": "code",
   "execution_count": null,
   "id": "044e8e32",
   "metadata": {},
   "outputs": [],
   "source": []
  },
  {
   "cell_type": "code",
   "execution_count": null,
   "id": "29eed9c0",
   "metadata": {},
   "outputs": [],
   "source": []
  },
  {
   "cell_type": "markdown",
   "id": "ddd19de9",
   "metadata": {},
   "source": [
    "Performance Metrics"
   ]
  },
  {
   "cell_type": "markdown",
   "id": "49f03b01",
   "metadata": {},
   "source": [
    "Internal --> R2, Ra2 (Explained Variance), LOOCV Correlation Coefficient (Q2loo), Variance Ratio (F)"
   ]
  },
  {
   "cell_type": "code",
   "execution_count": null,
   "id": "e013f300",
   "metadata": {},
   "outputs": [],
   "source": []
  },
  {
   "cell_type": "code",
   "execution_count": null,
   "id": "0d5d70bf",
   "metadata": {},
   "outputs": [],
   "source": []
  },
  {
   "cell_type": "code",
   "execution_count": null,
   "id": "bc0c73d6",
   "metadata": {},
   "outputs": [],
   "source": []
  },
  {
   "cell_type": "markdown",
   "id": "4c086cbf",
   "metadata": {},
   "source": [
    "External --> R2pred/Q2F1, Q2F2, r2m, MAE"
   ]
  },
  {
   "cell_type": "code",
   "execution_count": null,
   "id": "60c4b5c8",
   "metadata": {},
   "outputs": [],
   "source": []
  },
  {
   "cell_type": "code",
   "execution_count": null,
   "id": "6434edd2",
   "metadata": {},
   "outputs": [],
   "source": []
  },
  {
   "cell_type": "code",
   "execution_count": null,
   "id": "a6e1fa91",
   "metadata": {},
   "outputs": [],
   "source": []
  }
 ],
 "metadata": {
  "kernelspec": {
   "display_name": "Python 3 (ipykernel)",
   "language": "python",
   "name": "python3"
  },
  "language_info": {
   "codemirror_mode": {
    "name": "ipython",
    "version": 3
   },
   "file_extension": ".py",
   "mimetype": "text/x-python",
   "name": "python",
   "nbconvert_exporter": "python",
   "pygments_lexer": "ipython3",
   "version": "3.9.7"
  }
 },
 "nbformat": 4,
 "nbformat_minor": 5
}
