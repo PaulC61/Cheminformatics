{
 "cells": [
  {
   "cell_type": "code",
   "execution_count": 18,
   "metadata": {},
   "outputs": [],
   "source": [
    "import pandas as pd\n",
    "import numpy as np "
   ]
  },
  {
   "cell_type": "markdown",
   "metadata": {},
   "source": [
    "Combine Dragon and Dye PCE Data"
   ]
  },
  {
   "cell_type": "code",
   "execution_count": 19,
   "metadata": {},
   "outputs": [],
   "source": [
    "dragonDescriptors = pd.read_csv('dragonReduced.csv', index_col=0)\n",
    "\n",
    "cols = list(dragonDescriptors.columns)\n",
    "\n",
    "dragonDescriptors.reset_index(drop=True, inplace=True)"
   ]
  },
  {
   "cell_type": "code",
   "execution_count": 20,
   "metadata": {},
   "outputs": [],
   "source": [
    "qikPharmDyeData = pd.read_csv('QikPropAnd3PointPharmFPDyeData.csv')\n",
    "\n",
    "qikPharmDyeData.reset_index(drop=True, inplace=True)\n"
   ]
  },
  {
   "cell_type": "code",
   "execution_count": 21,
   "metadata": {},
   "outputs": [
    {
     "data": {
      "text/html": [
       "<div>\n",
       "<style scoped>\n",
       "    .dataframe tbody tr th:only-of-type {\n",
       "        vertical-align: middle;\n",
       "    }\n",
       "\n",
       "    .dataframe tbody tr th {\n",
       "        vertical-align: top;\n",
       "    }\n",
       "\n",
       "    .dataframe thead th {\n",
       "        text-align: right;\n",
       "    }\n",
       "</style>\n",
       "<table border=\"1\" class=\"dataframe\">\n",
       "  <thead>\n",
       "    <tr style=\"text-align: right;\">\n",
       "      <th></th>\n",
       "      <th>NAME</th>\n",
       "      <th>MW</th>\n",
       "      <th>AMW</th>\n",
       "      <th>Mp</th>\n",
       "      <th>nTA</th>\n",
       "      <th>RBF</th>\n",
       "      <th>nDB</th>\n",
       "      <th>nTB</th>\n",
       "      <th>nAB</th>\n",
       "      <th>nN</th>\n",
       "      <th>...</th>\n",
       "      <th>s1_relPathLength_2</th>\n",
       "      <th>s2_numSharedNeighbors</th>\n",
       "      <th>s3_numSharedNeighbors</th>\n",
       "      <th>s2_numRotBonds</th>\n",
       "      <th>s3_numRotBonds</th>\n",
       "      <th>s1_numAroBonds</th>\n",
       "      <th>s2_numAroBonds</th>\n",
       "      <th>s3_numAroBonds</th>\n",
       "      <th>PCE</th>\n",
       "      <th>Molecule keywords</th>\n",
       "    </tr>\n",
       "  </thead>\n",
       "  <tbody>\n",
       "    <tr>\n",
       "      <th>0</th>\n",
       "      <td>10.1016/j.dyepig.2012.02.011</td>\n",
       "      <td>907.17</td>\n",
       "      <td>8.807476</td>\n",
       "      <td>0.747356</td>\n",
       "      <td>8</td>\n",
       "      <td>0.155963</td>\n",
       "      <td>6</td>\n",
       "      <td>4</td>\n",
       "      <td>34</td>\n",
       "      <td>6</td>\n",
       "      <td>...</td>\n",
       "      <td>0.0</td>\n",
       "      <td>0.0</td>\n",
       "      <td>0.000000</td>\n",
       "      <td>0.000000</td>\n",
       "      <td>0.000000</td>\n",
       "      <td>0</td>\n",
       "      <td>0.0</td>\n",
       "      <td>0.000000</td>\n",
       "      <td>5.19</td>\n",
       "      <td>phenothiazine</td>\n",
       "    </tr>\n",
       "    <tr>\n",
       "      <th>1</th>\n",
       "      <td>10.1039/c0ee00218f</td>\n",
       "      <td>987.28</td>\n",
       "      <td>8.092459</td>\n",
       "      <td>0.717684</td>\n",
       "      <td>9</td>\n",
       "      <td>0.130769</td>\n",
       "      <td>8</td>\n",
       "      <td>1</td>\n",
       "      <td>40</td>\n",
       "      <td>4</td>\n",
       "      <td>...</td>\n",
       "      <td>0.0</td>\n",
       "      <td>0.0</td>\n",
       "      <td>0.000000</td>\n",
       "      <td>0.000000</td>\n",
       "      <td>0.000000</td>\n",
       "      <td>0</td>\n",
       "      <td>0.0</td>\n",
       "      <td>0.000000</td>\n",
       "      <td>6.00</td>\n",
       "      <td>coumarin, triphenylamine</td>\n",
       "    </tr>\n",
       "    <tr>\n",
       "      <th>2</th>\n",
       "      <td>10.1039/c0ee00218f</td>\n",
       "      <td>905.15</td>\n",
       "      <td>7.870870</td>\n",
       "      <td>0.705637</td>\n",
       "      <td>9</td>\n",
       "      <td>0.131148</td>\n",
       "      <td>8</td>\n",
       "      <td>1</td>\n",
       "      <td>35</td>\n",
       "      <td>4</td>\n",
       "      <td>...</td>\n",
       "      <td>0.0</td>\n",
       "      <td>0.0</td>\n",
       "      <td>0.000000</td>\n",
       "      <td>0.000000</td>\n",
       "      <td>0.000000</td>\n",
       "      <td>0</td>\n",
       "      <td>0.0</td>\n",
       "      <td>0.000000</td>\n",
       "      <td>6.20</td>\n",
       "      <td>coumarin, triphenylamine</td>\n",
       "    </tr>\n",
       "    <tr>\n",
       "      <th>3</th>\n",
       "      <td>10.1039/c0ee00218f</td>\n",
       "      <td>823.02</td>\n",
       "      <td>7.620556</td>\n",
       "      <td>0.692030</td>\n",
       "      <td>9</td>\n",
       "      <td>0.131579</td>\n",
       "      <td>8</td>\n",
       "      <td>1</td>\n",
       "      <td>30</td>\n",
       "      <td>4</td>\n",
       "      <td>...</td>\n",
       "      <td>0.0</td>\n",
       "      <td>0.0</td>\n",
       "      <td>0.000000</td>\n",
       "      <td>0.000000</td>\n",
       "      <td>0.000000</td>\n",
       "      <td>0</td>\n",
       "      <td>0.0</td>\n",
       "      <td>0.000000</td>\n",
       "      <td>5.50</td>\n",
       "      <td>coumarin, triphenylamine</td>\n",
       "    </tr>\n",
       "    <tr>\n",
       "      <th>4</th>\n",
       "      <td>10.1016/j.jphotochem.2014.06.001</td>\n",
       "      <td>782.04</td>\n",
       "      <td>9.537073</td>\n",
       "      <td>0.738429</td>\n",
       "      <td>11</td>\n",
       "      <td>0.137931</td>\n",
       "      <td>11</td>\n",
       "      <td>0</td>\n",
       "      <td>11</td>\n",
       "      <td>3</td>\n",
       "      <td>...</td>\n",
       "      <td>0.0</td>\n",
       "      <td>0.0</td>\n",
       "      <td>12.666667</td>\n",
       "      <td>0.666667</td>\n",
       "      <td>4.333333</td>\n",
       "      <td>0</td>\n",
       "      <td>0.0</td>\n",
       "      <td>3.666667</td>\n",
       "      <td>1.39</td>\n",
       "      <td>coumarin</td>\n",
       "    </tr>\n",
       "    <tr>\n",
       "      <th>...</th>\n",
       "      <td>...</td>\n",
       "      <td>...</td>\n",
       "      <td>...</td>\n",
       "      <td>...</td>\n",
       "      <td>...</td>\n",
       "      <td>...</td>\n",
       "      <td>...</td>\n",
       "      <td>...</td>\n",
       "      <td>...</td>\n",
       "      <td>...</td>\n",
       "      <td>...</td>\n",
       "      <td>...</td>\n",
       "      <td>...</td>\n",
       "      <td>...</td>\n",
       "      <td>...</td>\n",
       "      <td>...</td>\n",
       "      <td>...</td>\n",
       "      <td>...</td>\n",
       "      <td>...</td>\n",
       "      <td>...</td>\n",
       "      <td>...</td>\n",
       "    </tr>\n",
       "    <tr>\n",
       "      <th>1458</th>\n",
       "      <td>10.1016/j.dyepig.2012.02.014</td>\n",
       "      <td>595.74</td>\n",
       "      <td>8.891642</td>\n",
       "      <td>0.730752</td>\n",
       "      <td>6</td>\n",
       "      <td>0.140845</td>\n",
       "      <td>2</td>\n",
       "      <td>1</td>\n",
       "      <td>28</td>\n",
       "      <td>3</td>\n",
       "      <td>...</td>\n",
       "      <td>0.0</td>\n",
       "      <td>0.0</td>\n",
       "      <td>0.000000</td>\n",
       "      <td>0.000000</td>\n",
       "      <td>0.000000</td>\n",
       "      <td>0</td>\n",
       "      <td>0.0</td>\n",
       "      <td>0.000000</td>\n",
       "      <td>0.41</td>\n",
       "      <td>triphenylamine</td>\n",
       "    </tr>\n",
       "    <tr>\n",
       "      <th>1459</th>\n",
       "      <td>10.1016/j.dyepig.2012.02.014</td>\n",
       "      <td>563.74</td>\n",
       "      <td>8.672923</td>\n",
       "      <td>0.739252</td>\n",
       "      <td>6</td>\n",
       "      <td>0.115942</td>\n",
       "      <td>2</td>\n",
       "      <td>1</td>\n",
       "      <td>28</td>\n",
       "      <td>3</td>\n",
       "      <td>...</td>\n",
       "      <td>0.0</td>\n",
       "      <td>0.0</td>\n",
       "      <td>0.000000</td>\n",
       "      <td>0.000000</td>\n",
       "      <td>0.000000</td>\n",
       "      <td>0</td>\n",
       "      <td>0.0</td>\n",
       "      <td>0.000000</td>\n",
       "      <td>0.44</td>\n",
       "      <td>triphenylamine</td>\n",
       "    </tr>\n",
       "    <tr>\n",
       "      <th>1460</th>\n",
       "      <td>10.1021/am403668d</td>\n",
       "      <td>665.84</td>\n",
       "      <td>7.481348</td>\n",
       "      <td>0.685335</td>\n",
       "      <td>5</td>\n",
       "      <td>0.182796</td>\n",
       "      <td>4</td>\n",
       "      <td>1</td>\n",
       "      <td>29</td>\n",
       "      <td>3</td>\n",
       "      <td>...</td>\n",
       "      <td>0.0</td>\n",
       "      <td>0.0</td>\n",
       "      <td>0.000000</td>\n",
       "      <td>0.000000</td>\n",
       "      <td>0.000000</td>\n",
       "      <td>0</td>\n",
       "      <td>0.0</td>\n",
       "      <td>0.000000</td>\n",
       "      <td>5.94</td>\n",
       "      <td>triphenylamine</td>\n",
       "    </tr>\n",
       "    <tr>\n",
       "      <th>1461</th>\n",
       "      <td>10.1021/am403668d</td>\n",
       "      <td>707.93</td>\n",
       "      <td>7.223776</td>\n",
       "      <td>0.676316</td>\n",
       "      <td>7</td>\n",
       "      <td>0.176471</td>\n",
       "      <td>4</td>\n",
       "      <td>1</td>\n",
       "      <td>29</td>\n",
       "      <td>3</td>\n",
       "      <td>...</td>\n",
       "      <td>0.0</td>\n",
       "      <td>0.0</td>\n",
       "      <td>0.000000</td>\n",
       "      <td>0.000000</td>\n",
       "      <td>0.000000</td>\n",
       "      <td>0</td>\n",
       "      <td>0.0</td>\n",
       "      <td>0.000000</td>\n",
       "      <td>5.88</td>\n",
       "      <td>triphenylamine</td>\n",
       "    </tr>\n",
       "    <tr>\n",
       "      <th>1462</th>\n",
       "      <td>10.1021/am403668d</td>\n",
       "      <td>1195.52</td>\n",
       "      <td>7.472000</td>\n",
       "      <td>0.687719</td>\n",
       "      <td>8</td>\n",
       "      <td>0.190476</td>\n",
       "      <td>7</td>\n",
       "      <td>2</td>\n",
       "      <td>52</td>\n",
       "      <td>6</td>\n",
       "      <td>...</td>\n",
       "      <td>0.0</td>\n",
       "      <td>0.0</td>\n",
       "      <td>0.000000</td>\n",
       "      <td>0.000000</td>\n",
       "      <td>0.000000</td>\n",
       "      <td>0</td>\n",
       "      <td>0.0</td>\n",
       "      <td>0.000000</td>\n",
       "      <td>6.00</td>\n",
       "      <td>triphenylamine</td>\n",
       "    </tr>\n",
       "  </tbody>\n",
       "</table>\n",
       "<p>1463 rows × 801 columns</p>\n",
       "</div>"
      ],
      "text/plain": [
       "                                  NAME       MW       AMW        Mp  nTA  \\\n",
       "0         10.1016/j.dyepig.2012.02.011   907.17  8.807476  0.747356    8   \n",
       "1                   10.1039/c0ee00218f   987.28  8.092459  0.717684    9   \n",
       "2                   10.1039/c0ee00218f   905.15  7.870870  0.705637    9   \n",
       "3                   10.1039/c0ee00218f   823.02  7.620556  0.692030    9   \n",
       "4     10.1016/j.jphotochem.2014.06.001   782.04  9.537073  0.738429   11   \n",
       "...                                ...      ...       ...       ...  ...   \n",
       "1458      10.1016/j.dyepig.2012.02.014   595.74  8.891642  0.730752    6   \n",
       "1459      10.1016/j.dyepig.2012.02.014   563.74  8.672923  0.739252    6   \n",
       "1460                 10.1021/am403668d   665.84  7.481348  0.685335    5   \n",
       "1461                 10.1021/am403668d   707.93  7.223776  0.676316    7   \n",
       "1462                 10.1021/am403668d  1195.52  7.472000  0.687719    8   \n",
       "\n",
       "           RBF  nDB  nTB  nAB  nN  ...  s1_relPathLength_2  \\\n",
       "0     0.155963    6    4   34   6  ...                 0.0   \n",
       "1     0.130769    8    1   40   4  ...                 0.0   \n",
       "2     0.131148    8    1   35   4  ...                 0.0   \n",
       "3     0.131579    8    1   30   4  ...                 0.0   \n",
       "4     0.137931   11    0   11   3  ...                 0.0   \n",
       "...        ...  ...  ...  ...  ..  ...                 ...   \n",
       "1458  0.140845    2    1   28   3  ...                 0.0   \n",
       "1459  0.115942    2    1   28   3  ...                 0.0   \n",
       "1460  0.182796    4    1   29   3  ...                 0.0   \n",
       "1461  0.176471    4    1   29   3  ...                 0.0   \n",
       "1462  0.190476    7    2   52   6  ...                 0.0   \n",
       "\n",
       "      s2_numSharedNeighbors  s3_numSharedNeighbors  s2_numRotBonds  \\\n",
       "0                       0.0               0.000000        0.000000   \n",
       "1                       0.0               0.000000        0.000000   \n",
       "2                       0.0               0.000000        0.000000   \n",
       "3                       0.0               0.000000        0.000000   \n",
       "4                       0.0              12.666667        0.666667   \n",
       "...                     ...                    ...             ...   \n",
       "1458                    0.0               0.000000        0.000000   \n",
       "1459                    0.0               0.000000        0.000000   \n",
       "1460                    0.0               0.000000        0.000000   \n",
       "1461                    0.0               0.000000        0.000000   \n",
       "1462                    0.0               0.000000        0.000000   \n",
       "\n",
       "      s3_numRotBonds  s1_numAroBonds  s2_numAroBonds  s3_numAroBonds   PCE  \\\n",
       "0           0.000000               0             0.0        0.000000  5.19   \n",
       "1           0.000000               0             0.0        0.000000  6.00   \n",
       "2           0.000000               0             0.0        0.000000  6.20   \n",
       "3           0.000000               0             0.0        0.000000  5.50   \n",
       "4           4.333333               0             0.0        3.666667  1.39   \n",
       "...              ...             ...             ...             ...   ...   \n",
       "1458        0.000000               0             0.0        0.000000  0.41   \n",
       "1459        0.000000               0             0.0        0.000000  0.44   \n",
       "1460        0.000000               0             0.0        0.000000  5.94   \n",
       "1461        0.000000               0             0.0        0.000000  5.88   \n",
       "1462        0.000000               0             0.0        0.000000  6.00   \n",
       "\n",
       "             Molecule keywords  \n",
       "0                phenothiazine  \n",
       "1     coumarin, triphenylamine  \n",
       "2     coumarin, triphenylamine  \n",
       "3     coumarin, triphenylamine  \n",
       "4                     coumarin  \n",
       "...                        ...  \n",
       "1458            triphenylamine  \n",
       "1459            triphenylamine  \n",
       "1460            triphenylamine  \n",
       "1461            triphenylamine  \n",
       "1462            triphenylamine  \n",
       "\n",
       "[1463 rows x 801 columns]"
      ]
     },
     "execution_count": 21,
     "metadata": {},
     "output_type": "execute_result"
    }
   ],
   "source": [
    "dragonDatset = pd.concat([dragonDescriptors[cols[:]], qikPharmDyeData['PCE'], qikPharmDyeData['Molecule keywords']], axis=1)\n",
    "\n",
    "dragonDatset\n"
   ]
  },
  {
   "cell_type": "code",
   "execution_count": 22,
   "metadata": {},
   "outputs": [
    {
     "data": {
      "text/plain": [
       "((1170, 801), (293, 801))"
      ]
     },
     "execution_count": 22,
     "metadata": {},
     "output_type": "execute_result"
    }
   ],
   "source": [
    "from sklearn.model_selection import train_test_split\n",
    "\n",
    "modelSet, evalSet = train_test_split(dragonDatset, test_size=0.2, random_state=0)\n",
    "\n",
    "evalSetCols = list(evalSet.columns)\n",
    "\n",
    "evalSet_X = evalSet[evalSetCols[1:799]] # X values for all\n",
    "evalSet_Y = evalSet['PCE']\n",
    "\n",
    "modelSet.shape, evalSet.shape\n"
   ]
  },
  {
   "cell_type": "markdown",
   "metadata": {},
   "source": [
    "Family Datasets"
   ]
  },
  {
   "cell_type": "code",
   "execution_count": 23,
   "metadata": {},
   "outputs": [],
   "source": [
    "def splitDataset(globalDf, familyList):\n",
    "    familyDfs = []\n",
    "    for i in range(len(familyList)):\n",
    "        familyDfs.append(globalDf.loc[(globalDf['Molecule keywords'].str.contains(familyList[i]))])\n",
    "    familyDfs.append(\n",
    "        globalDf.loc[\n",
    "            (~globalDf['Molecule keywords'].str.contains('triphenylamine')) \n",
    "                            & (~globalDf['Molecule keywords'].str.contains('phenothiazine')) \n",
    "                            & (~globalDf['Molecule keywords'].str.contains('carbazole')) \n",
    "                            & (~globalDf['Molecule keywords'].str.contains('indoline')) \n",
    "                            & (~globalDf['Molecule keywords'].str.contains('coumarin')) \n",
    "                            & (~globalDf['Molecule keywords'].str.contains('diphenylamine'))\n",
    "        ]\n",
    "    )\n",
    "    return familyDfs"
   ]
  },
  {
   "cell_type": "markdown",
   "metadata": {},
   "source": [
    "Get Specific Descriptors"
   ]
  },
  {
   "cell_type": "code",
   "execution_count": 24,
   "metadata": {},
   "outputs": [],
   "source": [
    "def getDragonDescriptors(dataframe):\n",
    "    cols = list(dataframe.columns)\n",
    "    X = dataframe[cols[1:799]]\n",
    "    return X"
   ]
  },
  {
   "cell_type": "markdown",
   "metadata": {},
   "source": [
    "Scaling Data"
   ]
  },
  {
   "cell_type": "code",
   "execution_count": 25,
   "metadata": {},
   "outputs": [],
   "source": [
    "from sklearn.preprocessing import StandardScaler\n",
    "\n",
    "def scaleData(X_data):\n",
    "    scaled_array = StandardScaler().fit_transform(X_data)\n",
    "    scaledDataFrame = pd.DataFrame(scaled_array, index=X_data.index, columns=X_data.columns)\n",
    "    return scaledDataFrame"
   ]
  },
  {
   "cell_type": "markdown",
   "metadata": {},
   "source": [
    "Reduce the number of features for each family"
   ]
  },
  {
   "cell_type": "code",
   "execution_count": null,
   "metadata": {},
   "outputs": [],
   "source": []
  },
  {
   "cell_type": "code",
   "execution_count": 26,
   "metadata": {},
   "outputs": [],
   "source": [
    "cmpdFamList= ['triphenylamine', 'phenothiazine', 'carbazole', 'indoline', 'coumarin', 'diphenylamine']\n",
    "cmpdFamList\n",
    "familyDfs = splitDataset(modelSet, cmpdFamList)"
   ]
  },
  {
   "cell_type": "code",
   "execution_count": 27,
   "metadata": {},
   "outputs": [
    {
     "data": {
      "text/plain": [
       "((936, 798),\n",
       " (176, 798),\n",
       " (124, 798),\n",
       " (66, 798),\n",
       " (32, 798),\n",
       " (18, 798),\n",
       " (140, 798))"
      ]
     },
     "execution_count": 27,
     "metadata": {},
     "output_type": "execute_result"
    }
   ],
   "source": [
    "glob_train_X, glob_test_X, glob_train_Y, glob_test_Y = train_test_split(scaleData(getDragonDescriptors(modelSet)), modelSet['PCE'], test_size=0.2, random_state=0)\n",
    "triph_train_X, triph_test_X, triph_train_Y, triph_test_Y = train_test_split(scaleData(getDragonDescriptors(familyDfs[0])), familyDfs[0]['PCE'], test_size=0.2, random_state=0)\n",
    "phen_train_X, phen_test_X, phen_train_Y, phen_test_Y = train_test_split(scaleData(getDragonDescriptors(familyDfs[1])), familyDfs[1]['PCE'], test_size=0.2, random_state=0)\n",
    "carb_train_X, carb_test_X, carb_train_Y, carb_test_Y = train_test_split(scaleData(getDragonDescriptors(familyDfs[2])), familyDfs[2]['PCE'], test_size=0.2, random_state=0)\n",
    "indo_train_X, indo_test_X, indo_train_Y, indo_test_Y = train_test_split(scaleData(getDragonDescriptors(familyDfs[3])), familyDfs[3]['PCE'], test_size=0.2, random_state=0)\n",
    "coum_train_X, coum_test_X, coum_train_Y, coum_test_Y = train_test_split(scaleData(getDragonDescriptors(familyDfs[4])), familyDfs[4]['PCE'], test_size=0.2, random_state=0)\n",
    "diph_train_X, diph_test_X, diph_train_Y, diph_test_Y = train_test_split(scaleData(getDragonDescriptors(familyDfs[5])), familyDfs[5]['PCE'], test_size=0.2, random_state=0)\n",
    "othr_train_X, othr_test_X, othr_train_Y, othr_test_Y = train_test_split(scaleData(getDragonDescriptors(familyDfs[6])), familyDfs[6]['PCE'], test_size=0.2, random_state=0)\n",
    "\n",
    "glob_train_X.shape, phen_train_X.shape, carb_train_X.shape, indo_train_X.shape, coum_train_X.shape, diph_train_X.shape, othr_train_X.shape"
   ]
  },
  {
   "cell_type": "markdown",
   "metadata": {},
   "source": [
    "Feature Selection"
   ]
  },
  {
   "cell_type": "markdown",
   "metadata": {},
   "source": [
    "RFE With SVR and RFR"
   ]
  },
  {
   "cell_type": "code",
   "execution_count": 28,
   "metadata": {},
   "outputs": [
    {
     "ename": "KeyboardInterrupt",
     "evalue": "",
     "output_type": "error",
     "traceback": [
      "\u001b[1;31m---------------------------------------------------------------------------\u001b[0m",
      "\u001b[1;31mKeyboardInterrupt\u001b[0m                         Traceback (most recent call last)",
      "\u001b[1;32m~\\AppData\\Local\\Temp/ipykernel_20104/1255279256.py\u001b[0m in \u001b[0;36m<module>\u001b[1;34m\u001b[0m\n\u001b[0;32m     12\u001b[0m \u001b[0mrfecv\u001b[0m \u001b[1;33m=\u001b[0m \u001b[0mRFECV\u001b[0m\u001b[1;33m(\u001b[0m\u001b[0mestimator\u001b[0m\u001b[1;33m=\u001b[0m\u001b[0mrfr\u001b[0m\u001b[1;33m,\u001b[0m \u001b[0mstep\u001b[0m\u001b[1;33m=\u001b[0m\u001b[1;36m1\u001b[0m\u001b[1;33m,\u001b[0m \u001b[0mcv\u001b[0m\u001b[1;33m=\u001b[0m\u001b[1;36m2\u001b[0m\u001b[1;33m,\u001b[0m \u001b[0mscoring\u001b[0m\u001b[1;33m=\u001b[0m\u001b[1;34m'r2'\u001b[0m\u001b[1;33m,\u001b[0m \u001b[0mmin_features_to_select\u001b[0m\u001b[1;33m=\u001b[0m\u001b[0mmin_features\u001b[0m\u001b[1;33m)\u001b[0m\u001b[1;33m\u001b[0m\u001b[1;33m\u001b[0m\u001b[0m\n\u001b[0;32m     13\u001b[0m \u001b[1;33m\u001b[0m\u001b[0m\n\u001b[1;32m---> 14\u001b[1;33m \u001b[0mrfecv\u001b[0m\u001b[1;33m.\u001b[0m\u001b[0mfit\u001b[0m\u001b[1;33m(\u001b[0m\u001b[0mothr_train_X\u001b[0m\u001b[1;33m,\u001b[0m \u001b[0mothr_train_Y\u001b[0m\u001b[1;33m)\u001b[0m\u001b[1;33m\u001b[0m\u001b[1;33m\u001b[0m\u001b[0m\n\u001b[0m",
      "\u001b[1;32m~\\Anaconda3\\lib\\site-packages\\sklearn\\feature_selection\\_rfe.py\u001b[0m in \u001b[0;36mfit\u001b[1;34m(self, X, y, groups)\u001b[0m\n\u001b[0;32m    603\u001b[0m             \u001b[0mfunc\u001b[0m \u001b[1;33m=\u001b[0m \u001b[0mdelayed\u001b[0m\u001b[1;33m(\u001b[0m\u001b[0m_rfe_single_fit\u001b[0m\u001b[1;33m)\u001b[0m\u001b[1;33m\u001b[0m\u001b[1;33m\u001b[0m\u001b[0m\n\u001b[0;32m    604\u001b[0m \u001b[1;33m\u001b[0m\u001b[0m\n\u001b[1;32m--> 605\u001b[1;33m         scores = parallel(\n\u001b[0m\u001b[0;32m    606\u001b[0m             \u001b[0mfunc\u001b[0m\u001b[1;33m(\u001b[0m\u001b[0mrfe\u001b[0m\u001b[1;33m,\u001b[0m \u001b[0mself\u001b[0m\u001b[1;33m.\u001b[0m\u001b[0mestimator\u001b[0m\u001b[1;33m,\u001b[0m \u001b[0mX\u001b[0m\u001b[1;33m,\u001b[0m \u001b[0my\u001b[0m\u001b[1;33m,\u001b[0m \u001b[0mtrain\u001b[0m\u001b[1;33m,\u001b[0m \u001b[0mtest\u001b[0m\u001b[1;33m,\u001b[0m \u001b[0mscorer\u001b[0m\u001b[1;33m)\u001b[0m\u001b[1;33m\u001b[0m\u001b[1;33m\u001b[0m\u001b[0m\n\u001b[0;32m    607\u001b[0m             for train, test in cv.split(X, y, groups))\n",
      "\u001b[1;32m~\\Anaconda3\\lib\\site-packages\\sklearn\\feature_selection\\_rfe.py\u001b[0m in \u001b[0;36m<genexpr>\u001b[1;34m(.0)\u001b[0m\n\u001b[0;32m    604\u001b[0m \u001b[1;33m\u001b[0m\u001b[0m\n\u001b[0;32m    605\u001b[0m         scores = parallel(\n\u001b[1;32m--> 606\u001b[1;33m             \u001b[0mfunc\u001b[0m\u001b[1;33m(\u001b[0m\u001b[0mrfe\u001b[0m\u001b[1;33m,\u001b[0m \u001b[0mself\u001b[0m\u001b[1;33m.\u001b[0m\u001b[0mestimator\u001b[0m\u001b[1;33m,\u001b[0m \u001b[0mX\u001b[0m\u001b[1;33m,\u001b[0m \u001b[0my\u001b[0m\u001b[1;33m,\u001b[0m \u001b[0mtrain\u001b[0m\u001b[1;33m,\u001b[0m \u001b[0mtest\u001b[0m\u001b[1;33m,\u001b[0m \u001b[0mscorer\u001b[0m\u001b[1;33m)\u001b[0m\u001b[1;33m\u001b[0m\u001b[1;33m\u001b[0m\u001b[0m\n\u001b[0m\u001b[0;32m    607\u001b[0m             for train, test in cv.split(X, y, groups))\n\u001b[0;32m    608\u001b[0m \u001b[1;33m\u001b[0m\u001b[0m\n",
      "\u001b[1;32m~\\Anaconda3\\lib\\site-packages\\sklearn\\feature_selection\\_rfe.py\u001b[0m in \u001b[0;36m_rfe_single_fit\u001b[1;34m(rfe, estimator, X, y, train, test, scorer)\u001b[0m\n\u001b[0;32m     35\u001b[0m     \u001b[0mX_train\u001b[0m\u001b[1;33m,\u001b[0m \u001b[0my_train\u001b[0m \u001b[1;33m=\u001b[0m \u001b[0m_safe_split\u001b[0m\u001b[1;33m(\u001b[0m\u001b[0mestimator\u001b[0m\u001b[1;33m,\u001b[0m \u001b[0mX\u001b[0m\u001b[1;33m,\u001b[0m \u001b[0my\u001b[0m\u001b[1;33m,\u001b[0m \u001b[0mtrain\u001b[0m\u001b[1;33m)\u001b[0m\u001b[1;33m\u001b[0m\u001b[1;33m\u001b[0m\u001b[0m\n\u001b[0;32m     36\u001b[0m     \u001b[0mX_test\u001b[0m\u001b[1;33m,\u001b[0m \u001b[0my_test\u001b[0m \u001b[1;33m=\u001b[0m \u001b[0m_safe_split\u001b[0m\u001b[1;33m(\u001b[0m\u001b[0mestimator\u001b[0m\u001b[1;33m,\u001b[0m \u001b[0mX\u001b[0m\u001b[1;33m,\u001b[0m \u001b[0my\u001b[0m\u001b[1;33m,\u001b[0m \u001b[0mtest\u001b[0m\u001b[1;33m,\u001b[0m \u001b[0mtrain\u001b[0m\u001b[1;33m)\u001b[0m\u001b[1;33m\u001b[0m\u001b[1;33m\u001b[0m\u001b[0m\n\u001b[1;32m---> 37\u001b[1;33m     return rfe._fit(\n\u001b[0m\u001b[0;32m     38\u001b[0m         \u001b[0mX_train\u001b[0m\u001b[1;33m,\u001b[0m \u001b[0my_train\u001b[0m\u001b[1;33m,\u001b[0m\u001b[1;33m\u001b[0m\u001b[1;33m\u001b[0m\u001b[0m\n\u001b[0;32m     39\u001b[0m         lambda estimator, features: _score(\n",
      "\u001b[1;32m~\\Anaconda3\\lib\\site-packages\\sklearn\\feature_selection\\_rfe.py\u001b[0m in \u001b[0;36m_fit\u001b[1;34m(self, X, y, step_score)\u001b[0m\n\u001b[0;32m    239\u001b[0m                 \u001b[0mprint\u001b[0m\u001b[1;33m(\u001b[0m\u001b[1;34m\"Fitting estimator with %d features.\"\u001b[0m \u001b[1;33m%\u001b[0m \u001b[0mnp\u001b[0m\u001b[1;33m.\u001b[0m\u001b[0msum\u001b[0m\u001b[1;33m(\u001b[0m\u001b[0msupport_\u001b[0m\u001b[1;33m)\u001b[0m\u001b[1;33m)\u001b[0m\u001b[1;33m\u001b[0m\u001b[1;33m\u001b[0m\u001b[0m\n\u001b[0;32m    240\u001b[0m \u001b[1;33m\u001b[0m\u001b[0m\n\u001b[1;32m--> 241\u001b[1;33m             \u001b[0mestimator\u001b[0m\u001b[1;33m.\u001b[0m\u001b[0mfit\u001b[0m\u001b[1;33m(\u001b[0m\u001b[0mX\u001b[0m\u001b[1;33m[\u001b[0m\u001b[1;33m:\u001b[0m\u001b[1;33m,\u001b[0m \u001b[0mfeatures\u001b[0m\u001b[1;33m]\u001b[0m\u001b[1;33m,\u001b[0m \u001b[0my\u001b[0m\u001b[1;33m)\u001b[0m\u001b[1;33m\u001b[0m\u001b[1;33m\u001b[0m\u001b[0m\n\u001b[0m\u001b[0;32m    242\u001b[0m \u001b[1;33m\u001b[0m\u001b[0m\n\u001b[0;32m    243\u001b[0m             \u001b[1;31m# Get importance and rank them\u001b[0m\u001b[1;33m\u001b[0m\u001b[1;33m\u001b[0m\u001b[0m\n",
      "\u001b[1;32m~\\Anaconda3\\lib\\site-packages\\sklearn\\ensemble\\_forest.py\u001b[0m in \u001b[0;36mfit\u001b[1;34m(self, X, y, sample_weight)\u001b[0m\n\u001b[0;32m    385\u001b[0m             \u001b[1;31m# parallel_backend contexts set at a higher level,\u001b[0m\u001b[1;33m\u001b[0m\u001b[1;33m\u001b[0m\u001b[0m\n\u001b[0;32m    386\u001b[0m             \u001b[1;31m# since correctness does not rely on using threads.\u001b[0m\u001b[1;33m\u001b[0m\u001b[1;33m\u001b[0m\u001b[0m\n\u001b[1;32m--> 387\u001b[1;33m             trees = Parallel(n_jobs=self.n_jobs, verbose=self.verbose,\n\u001b[0m\u001b[0;32m    388\u001b[0m                              \u001b[1;33m**\u001b[0m\u001b[0m_joblib_parallel_args\u001b[0m\u001b[1;33m(\u001b[0m\u001b[0mprefer\u001b[0m\u001b[1;33m=\u001b[0m\u001b[1;34m'threads'\u001b[0m\u001b[1;33m)\u001b[0m\u001b[1;33m)\u001b[0m\u001b[1;33m(\u001b[0m\u001b[1;33m\u001b[0m\u001b[1;33m\u001b[0m\u001b[0m\n\u001b[0;32m    389\u001b[0m                 delayed(_parallel_build_trees)(\n",
      "\u001b[1;32m~\\Anaconda3\\lib\\site-packages\\joblib\\parallel.py\u001b[0m in \u001b[0;36m__call__\u001b[1;34m(self, iterable)\u001b[0m\n\u001b[0;32m   1044\u001b[0m                 \u001b[0mself\u001b[0m\u001b[1;33m.\u001b[0m\u001b[0m_iterating\u001b[0m \u001b[1;33m=\u001b[0m \u001b[0mself\u001b[0m\u001b[1;33m.\u001b[0m\u001b[0m_original_iterator\u001b[0m \u001b[1;32mis\u001b[0m \u001b[1;32mnot\u001b[0m \u001b[1;32mNone\u001b[0m\u001b[1;33m\u001b[0m\u001b[1;33m\u001b[0m\u001b[0m\n\u001b[0;32m   1045\u001b[0m \u001b[1;33m\u001b[0m\u001b[0m\n\u001b[1;32m-> 1046\u001b[1;33m             \u001b[1;32mwhile\u001b[0m \u001b[0mself\u001b[0m\u001b[1;33m.\u001b[0m\u001b[0mdispatch_one_batch\u001b[0m\u001b[1;33m(\u001b[0m\u001b[0miterator\u001b[0m\u001b[1;33m)\u001b[0m\u001b[1;33m:\u001b[0m\u001b[1;33m\u001b[0m\u001b[1;33m\u001b[0m\u001b[0m\n\u001b[0m\u001b[0;32m   1047\u001b[0m                 \u001b[1;32mpass\u001b[0m\u001b[1;33m\u001b[0m\u001b[1;33m\u001b[0m\u001b[0m\n\u001b[0;32m   1048\u001b[0m \u001b[1;33m\u001b[0m\u001b[0m\n",
      "\u001b[1;32m~\\Anaconda3\\lib\\site-packages\\joblib\\parallel.py\u001b[0m in \u001b[0;36mdispatch_one_batch\u001b[1;34m(self, iterator)\u001b[0m\n\u001b[0;32m    859\u001b[0m                 \u001b[1;32mreturn\u001b[0m \u001b[1;32mFalse\u001b[0m\u001b[1;33m\u001b[0m\u001b[1;33m\u001b[0m\u001b[0m\n\u001b[0;32m    860\u001b[0m             \u001b[1;32melse\u001b[0m\u001b[1;33m:\u001b[0m\u001b[1;33m\u001b[0m\u001b[1;33m\u001b[0m\u001b[0m\n\u001b[1;32m--> 861\u001b[1;33m                 \u001b[0mself\u001b[0m\u001b[1;33m.\u001b[0m\u001b[0m_dispatch\u001b[0m\u001b[1;33m(\u001b[0m\u001b[0mtasks\u001b[0m\u001b[1;33m)\u001b[0m\u001b[1;33m\u001b[0m\u001b[1;33m\u001b[0m\u001b[0m\n\u001b[0m\u001b[0;32m    862\u001b[0m                 \u001b[1;32mreturn\u001b[0m \u001b[1;32mTrue\u001b[0m\u001b[1;33m\u001b[0m\u001b[1;33m\u001b[0m\u001b[0m\n\u001b[0;32m    863\u001b[0m \u001b[1;33m\u001b[0m\u001b[0m\n",
      "\u001b[1;32m~\\Anaconda3\\lib\\site-packages\\joblib\\parallel.py\u001b[0m in \u001b[0;36m_dispatch\u001b[1;34m(self, batch)\u001b[0m\n\u001b[0;32m    777\u001b[0m         \u001b[1;32mwith\u001b[0m \u001b[0mself\u001b[0m\u001b[1;33m.\u001b[0m\u001b[0m_lock\u001b[0m\u001b[1;33m:\u001b[0m\u001b[1;33m\u001b[0m\u001b[1;33m\u001b[0m\u001b[0m\n\u001b[0;32m    778\u001b[0m             \u001b[0mjob_idx\u001b[0m \u001b[1;33m=\u001b[0m \u001b[0mlen\u001b[0m\u001b[1;33m(\u001b[0m\u001b[0mself\u001b[0m\u001b[1;33m.\u001b[0m\u001b[0m_jobs\u001b[0m\u001b[1;33m)\u001b[0m\u001b[1;33m\u001b[0m\u001b[1;33m\u001b[0m\u001b[0m\n\u001b[1;32m--> 779\u001b[1;33m             \u001b[0mjob\u001b[0m \u001b[1;33m=\u001b[0m \u001b[0mself\u001b[0m\u001b[1;33m.\u001b[0m\u001b[0m_backend\u001b[0m\u001b[1;33m.\u001b[0m\u001b[0mapply_async\u001b[0m\u001b[1;33m(\u001b[0m\u001b[0mbatch\u001b[0m\u001b[1;33m,\u001b[0m \u001b[0mcallback\u001b[0m\u001b[1;33m=\u001b[0m\u001b[0mcb\u001b[0m\u001b[1;33m)\u001b[0m\u001b[1;33m\u001b[0m\u001b[1;33m\u001b[0m\u001b[0m\n\u001b[0m\u001b[0;32m    780\u001b[0m             \u001b[1;31m# A job can complete so quickly than its callback is\u001b[0m\u001b[1;33m\u001b[0m\u001b[1;33m\u001b[0m\u001b[0m\n\u001b[0;32m    781\u001b[0m             \u001b[1;31m# called before we get here, causing self._jobs to\u001b[0m\u001b[1;33m\u001b[0m\u001b[1;33m\u001b[0m\u001b[0m\n",
      "\u001b[1;32m~\\Anaconda3\\lib\\site-packages\\joblib\\_parallel_backends.py\u001b[0m in \u001b[0;36mapply_async\u001b[1;34m(self, func, callback)\u001b[0m\n\u001b[0;32m    206\u001b[0m     \u001b[1;32mdef\u001b[0m \u001b[0mapply_async\u001b[0m\u001b[1;33m(\u001b[0m\u001b[0mself\u001b[0m\u001b[1;33m,\u001b[0m \u001b[0mfunc\u001b[0m\u001b[1;33m,\u001b[0m \u001b[0mcallback\u001b[0m\u001b[1;33m=\u001b[0m\u001b[1;32mNone\u001b[0m\u001b[1;33m)\u001b[0m\u001b[1;33m:\u001b[0m\u001b[1;33m\u001b[0m\u001b[1;33m\u001b[0m\u001b[0m\n\u001b[0;32m    207\u001b[0m         \u001b[1;34m\"\"\"Schedule a func to be run\"\"\"\u001b[0m\u001b[1;33m\u001b[0m\u001b[1;33m\u001b[0m\u001b[0m\n\u001b[1;32m--> 208\u001b[1;33m         \u001b[0mresult\u001b[0m \u001b[1;33m=\u001b[0m \u001b[0mImmediateResult\u001b[0m\u001b[1;33m(\u001b[0m\u001b[0mfunc\u001b[0m\u001b[1;33m)\u001b[0m\u001b[1;33m\u001b[0m\u001b[1;33m\u001b[0m\u001b[0m\n\u001b[0m\u001b[0;32m    209\u001b[0m         \u001b[1;32mif\u001b[0m \u001b[0mcallback\u001b[0m\u001b[1;33m:\u001b[0m\u001b[1;33m\u001b[0m\u001b[1;33m\u001b[0m\u001b[0m\n\u001b[0;32m    210\u001b[0m             \u001b[0mcallback\u001b[0m\u001b[1;33m(\u001b[0m\u001b[0mresult\u001b[0m\u001b[1;33m)\u001b[0m\u001b[1;33m\u001b[0m\u001b[1;33m\u001b[0m\u001b[0m\n",
      "\u001b[1;32m~\\Anaconda3\\lib\\site-packages\\joblib\\_parallel_backends.py\u001b[0m in \u001b[0;36m__init__\u001b[1;34m(self, batch)\u001b[0m\n\u001b[0;32m    570\u001b[0m         \u001b[1;31m# Don't delay the application, to avoid keeping the input\u001b[0m\u001b[1;33m\u001b[0m\u001b[1;33m\u001b[0m\u001b[0m\n\u001b[0;32m    571\u001b[0m         \u001b[1;31m# arguments in memory\u001b[0m\u001b[1;33m\u001b[0m\u001b[1;33m\u001b[0m\u001b[0m\n\u001b[1;32m--> 572\u001b[1;33m         \u001b[0mself\u001b[0m\u001b[1;33m.\u001b[0m\u001b[0mresults\u001b[0m \u001b[1;33m=\u001b[0m \u001b[0mbatch\u001b[0m\u001b[1;33m(\u001b[0m\u001b[1;33m)\u001b[0m\u001b[1;33m\u001b[0m\u001b[1;33m\u001b[0m\u001b[0m\n\u001b[0m\u001b[0;32m    573\u001b[0m \u001b[1;33m\u001b[0m\u001b[0m\n\u001b[0;32m    574\u001b[0m     \u001b[1;32mdef\u001b[0m \u001b[0mget\u001b[0m\u001b[1;33m(\u001b[0m\u001b[0mself\u001b[0m\u001b[1;33m)\u001b[0m\u001b[1;33m:\u001b[0m\u001b[1;33m\u001b[0m\u001b[1;33m\u001b[0m\u001b[0m\n",
      "\u001b[1;32m~\\Anaconda3\\lib\\site-packages\\joblib\\parallel.py\u001b[0m in \u001b[0;36m__call__\u001b[1;34m(self)\u001b[0m\n\u001b[0;32m    260\u001b[0m         \u001b[1;31m# change the default number of processes to -1\u001b[0m\u001b[1;33m\u001b[0m\u001b[1;33m\u001b[0m\u001b[0m\n\u001b[0;32m    261\u001b[0m         \u001b[1;32mwith\u001b[0m \u001b[0mparallel_backend\u001b[0m\u001b[1;33m(\u001b[0m\u001b[0mself\u001b[0m\u001b[1;33m.\u001b[0m\u001b[0m_backend\u001b[0m\u001b[1;33m,\u001b[0m \u001b[0mn_jobs\u001b[0m\u001b[1;33m=\u001b[0m\u001b[0mself\u001b[0m\u001b[1;33m.\u001b[0m\u001b[0m_n_jobs\u001b[0m\u001b[1;33m)\u001b[0m\u001b[1;33m:\u001b[0m\u001b[1;33m\u001b[0m\u001b[1;33m\u001b[0m\u001b[0m\n\u001b[1;32m--> 262\u001b[1;33m             return [func(*args, **kwargs)\n\u001b[0m\u001b[0;32m    263\u001b[0m                     for func, args, kwargs in self.items]\n\u001b[0;32m    264\u001b[0m \u001b[1;33m\u001b[0m\u001b[0m\n",
      "\u001b[1;32m~\\Anaconda3\\lib\\site-packages\\joblib\\parallel.py\u001b[0m in \u001b[0;36m<listcomp>\u001b[1;34m(.0)\u001b[0m\n\u001b[0;32m    260\u001b[0m         \u001b[1;31m# change the default number of processes to -1\u001b[0m\u001b[1;33m\u001b[0m\u001b[1;33m\u001b[0m\u001b[0m\n\u001b[0;32m    261\u001b[0m         \u001b[1;32mwith\u001b[0m \u001b[0mparallel_backend\u001b[0m\u001b[1;33m(\u001b[0m\u001b[0mself\u001b[0m\u001b[1;33m.\u001b[0m\u001b[0m_backend\u001b[0m\u001b[1;33m,\u001b[0m \u001b[0mn_jobs\u001b[0m\u001b[1;33m=\u001b[0m\u001b[0mself\u001b[0m\u001b[1;33m.\u001b[0m\u001b[0m_n_jobs\u001b[0m\u001b[1;33m)\u001b[0m\u001b[1;33m:\u001b[0m\u001b[1;33m\u001b[0m\u001b[1;33m\u001b[0m\u001b[0m\n\u001b[1;32m--> 262\u001b[1;33m             return [func(*args, **kwargs)\n\u001b[0m\u001b[0;32m    263\u001b[0m                     for func, args, kwargs in self.items]\n\u001b[0;32m    264\u001b[0m \u001b[1;33m\u001b[0m\u001b[0m\n",
      "\u001b[1;32m~\\Anaconda3\\lib\\site-packages\\sklearn\\utils\\fixes.py\u001b[0m in \u001b[0;36m__call__\u001b[1;34m(self, *args, **kwargs)\u001b[0m\n\u001b[0;32m    220\u001b[0m     \u001b[1;32mdef\u001b[0m \u001b[0m__call__\u001b[0m\u001b[1;33m(\u001b[0m\u001b[0mself\u001b[0m\u001b[1;33m,\u001b[0m \u001b[1;33m*\u001b[0m\u001b[0margs\u001b[0m\u001b[1;33m,\u001b[0m \u001b[1;33m**\u001b[0m\u001b[0mkwargs\u001b[0m\u001b[1;33m)\u001b[0m\u001b[1;33m:\u001b[0m\u001b[1;33m\u001b[0m\u001b[1;33m\u001b[0m\u001b[0m\n\u001b[0;32m    221\u001b[0m         \u001b[1;32mwith\u001b[0m \u001b[0mconfig_context\u001b[0m\u001b[1;33m(\u001b[0m\u001b[1;33m**\u001b[0m\u001b[0mself\u001b[0m\u001b[1;33m.\u001b[0m\u001b[0mconfig\u001b[0m\u001b[1;33m)\u001b[0m\u001b[1;33m:\u001b[0m\u001b[1;33m\u001b[0m\u001b[1;33m\u001b[0m\u001b[0m\n\u001b[1;32m--> 222\u001b[1;33m             \u001b[1;32mreturn\u001b[0m \u001b[0mself\u001b[0m\u001b[1;33m.\u001b[0m\u001b[0mfunction\u001b[0m\u001b[1;33m(\u001b[0m\u001b[1;33m*\u001b[0m\u001b[0margs\u001b[0m\u001b[1;33m,\u001b[0m \u001b[1;33m**\u001b[0m\u001b[0mkwargs\u001b[0m\u001b[1;33m)\u001b[0m\u001b[1;33m\u001b[0m\u001b[1;33m\u001b[0m\u001b[0m\n\u001b[0m",
      "\u001b[1;32m~\\Anaconda3\\lib\\site-packages\\sklearn\\ensemble\\_forest.py\u001b[0m in \u001b[0;36m_parallel_build_trees\u001b[1;34m(tree, forest, X, y, sample_weight, tree_idx, n_trees, verbose, class_weight, n_samples_bootstrap)\u001b[0m\n\u001b[0;32m    167\u001b[0m                                                         indices=indices)\n\u001b[0;32m    168\u001b[0m \u001b[1;33m\u001b[0m\u001b[0m\n\u001b[1;32m--> 169\u001b[1;33m         \u001b[0mtree\u001b[0m\u001b[1;33m.\u001b[0m\u001b[0mfit\u001b[0m\u001b[1;33m(\u001b[0m\u001b[0mX\u001b[0m\u001b[1;33m,\u001b[0m \u001b[0my\u001b[0m\u001b[1;33m,\u001b[0m \u001b[0msample_weight\u001b[0m\u001b[1;33m=\u001b[0m\u001b[0mcurr_sample_weight\u001b[0m\u001b[1;33m,\u001b[0m \u001b[0mcheck_input\u001b[0m\u001b[1;33m=\u001b[0m\u001b[1;32mFalse\u001b[0m\u001b[1;33m)\u001b[0m\u001b[1;33m\u001b[0m\u001b[1;33m\u001b[0m\u001b[0m\n\u001b[0m\u001b[0;32m    170\u001b[0m     \u001b[1;32melse\u001b[0m\u001b[1;33m:\u001b[0m\u001b[1;33m\u001b[0m\u001b[1;33m\u001b[0m\u001b[0m\n\u001b[0;32m    171\u001b[0m         \u001b[0mtree\u001b[0m\u001b[1;33m.\u001b[0m\u001b[0mfit\u001b[0m\u001b[1;33m(\u001b[0m\u001b[0mX\u001b[0m\u001b[1;33m,\u001b[0m \u001b[0my\u001b[0m\u001b[1;33m,\u001b[0m \u001b[0msample_weight\u001b[0m\u001b[1;33m=\u001b[0m\u001b[0msample_weight\u001b[0m\u001b[1;33m,\u001b[0m \u001b[0mcheck_input\u001b[0m\u001b[1;33m=\u001b[0m\u001b[1;32mFalse\u001b[0m\u001b[1;33m)\u001b[0m\u001b[1;33m\u001b[0m\u001b[1;33m\u001b[0m\u001b[0m\n",
      "\u001b[1;32m~\\Anaconda3\\lib\\site-packages\\sklearn\\tree\\_classes.py\u001b[0m in \u001b[0;36mfit\u001b[1;34m(self, X, y, sample_weight, check_input, X_idx_sorted)\u001b[0m\n\u001b[0;32m   1250\u001b[0m         \"\"\"\n\u001b[0;32m   1251\u001b[0m \u001b[1;33m\u001b[0m\u001b[0m\n\u001b[1;32m-> 1252\u001b[1;33m         super().fit(\n\u001b[0m\u001b[0;32m   1253\u001b[0m             \u001b[0mX\u001b[0m\u001b[1;33m,\u001b[0m \u001b[0my\u001b[0m\u001b[1;33m,\u001b[0m\u001b[1;33m\u001b[0m\u001b[1;33m\u001b[0m\u001b[0m\n\u001b[0;32m   1254\u001b[0m             \u001b[0msample_weight\u001b[0m\u001b[1;33m=\u001b[0m\u001b[0msample_weight\u001b[0m\u001b[1;33m,\u001b[0m\u001b[1;33m\u001b[0m\u001b[1;33m\u001b[0m\u001b[0m\n",
      "\u001b[1;32m~\\Anaconda3\\lib\\site-packages\\sklearn\\tree\\_classes.py\u001b[0m in \u001b[0;36mfit\u001b[1;34m(self, X, y, sample_weight, check_input, X_idx_sorted)\u001b[0m\n\u001b[0;32m    392\u001b[0m                                            min_impurity_split)\n\u001b[0;32m    393\u001b[0m \u001b[1;33m\u001b[0m\u001b[0m\n\u001b[1;32m--> 394\u001b[1;33m         \u001b[0mbuilder\u001b[0m\u001b[1;33m.\u001b[0m\u001b[0mbuild\u001b[0m\u001b[1;33m(\u001b[0m\u001b[0mself\u001b[0m\u001b[1;33m.\u001b[0m\u001b[0mtree_\u001b[0m\u001b[1;33m,\u001b[0m \u001b[0mX\u001b[0m\u001b[1;33m,\u001b[0m \u001b[0my\u001b[0m\u001b[1;33m,\u001b[0m \u001b[0msample_weight\u001b[0m\u001b[1;33m)\u001b[0m\u001b[1;33m\u001b[0m\u001b[1;33m\u001b[0m\u001b[0m\n\u001b[0m\u001b[0;32m    395\u001b[0m \u001b[1;33m\u001b[0m\u001b[0m\n\u001b[0;32m    396\u001b[0m         \u001b[1;32mif\u001b[0m \u001b[0mself\u001b[0m\u001b[1;33m.\u001b[0m\u001b[0mn_outputs_\u001b[0m \u001b[1;33m==\u001b[0m \u001b[1;36m1\u001b[0m \u001b[1;32mand\u001b[0m \u001b[0mis_classifier\u001b[0m\u001b[1;33m(\u001b[0m\u001b[0mself\u001b[0m\u001b[1;33m)\u001b[0m\u001b[1;33m:\u001b[0m\u001b[1;33m\u001b[0m\u001b[1;33m\u001b[0m\u001b[0m\n",
      "\u001b[1;31mKeyboardInterrupt\u001b[0m: "
     ]
    }
   ],
   "source": [
    "from sklearn.svm import SVR\n",
    "from sklearn.ensemble import RandomForestRegressor\n",
    "from sklearn.model_selection import StratifiedKFold\n",
    "from sklearn.feature_selection import RFECV\n",
    "import matplotlib.pyplot as plt\n",
    "\n",
    "svr = SVR(kernel=\"linear\")\n",
    "rfr = RandomForestRegressor()\n",
    "# svr.fit(triph_train_X, triph_train_Y)\n",
    "\n",
    "min_features = 1\n",
    "rfecv = RFECV(estimator=rfr, step=1, cv=2, scoring='r2', min_features_to_select=min_features)\n",
    "\n",
    "rfecv.fit(othr_train_X, othr_train_Y)"
   ]
  },
  {
   "cell_type": "code",
   "execution_count": null,
   "metadata": {},
   "outputs": [
    {
     "name": "stdout",
     "output_type": "stream",
     "text": [
      "Optimal number of features : 677\n"
     ]
    }
   ],
   "source": [
    "print(\"Optimal number of features : %d\" % rfecv.n_features_)\n",
    "# print(rfecv.cv_results_)\n",
    "\n",
    "# RF triph 517\n",
    "# phen 542 (but could use just 100)\n",
    "# carb 582 (but again it plateaus at 100)\n",
    "# indo 656 (let's try 60 features)\n",
    "# coum 713 (again the distribution is completely square)\n",
    "# diph 560 (This time it really did go up with the number of features but we're talking about only 18 instances here)\n",
    "# othr 677 (but again, square data is fine)"
   ]
  },
  {
   "cell_type": "code",
   "execution_count": null,
   "metadata": {},
   "outputs": [],
   "source": [
    "plt.figure()\n",
    "plt.xlabel(\"Number of features selected\")\n",
    "plt.ylabel(\"Cross validation score (r2)\")\n",
    "plt.plot(\n",
    "    range(\n",
    "        0, len(rfecv.feature_names_in_)\n",
    "    ), rfecv.cv_results_['mean_test_score']\n",
    "\n",
    ")\n",
    "plt.savefig('featureSelectionRFothr')"
   ]
  },
  {
   "cell_type": "markdown",
   "metadata": {},
   "source": [
    "Feature Selection"
   ]
  },
  {
   "cell_type": "markdown",
   "metadata": {},
   "source": [
    "Disregarding Y"
   ]
  },
  {
   "cell_type": "markdown",
   "metadata": {},
   "source": [
    "Variance Threshold"
   ]
  },
  {
   "cell_type": "code",
   "execution_count": 29,
   "metadata": {},
   "outputs": [],
   "source": [
    "# will be done by length of the datasets themselves\n",
    "# bottom up approach\n",
    "\n",
    "from sklearn.feature_selection import VarianceThreshold\n",
    "\n",
    "def remove_low_variance(input_data, threshold=0.1):\n",
    "    selection = VarianceThreshold(threshold)\n",
    "    selection.fit(input_data)\n",
    "    return input_data[input_data.columns[selection.get_support(indices=True)]]\n",
    "\n",
    "# test until square data"
   ]
  },
  {
   "cell_type": "markdown",
   "metadata": {},
   "source": [
    "Using Y"
   ]
  },
  {
   "cell_type": "markdown",
   "metadata": {},
   "source": [
    "Univariate"
   ]
  },
  {
   "cell_type": "code",
   "execution_count": 30,
   "metadata": {},
   "outputs": [],
   "source": [
    "from sklearn.feature_selection import SelectKBest, f_regression, SelectPercentile\n",
    "\n",
    "def select_univariate(input_data_X, input_data_Y):\n",
    "    if len(input_data_X) > len(input_data_X.columns):\n",
    "        X = SelectPercentile(score_func=f_regression, percentile=30)\n",
    "    else:\n",
    "        X = SelectKBest(f_regression, k=len(input_data_X)).fit_transform(input_data_X, input_data_Y)\n",
    "    return X"
   ]
  },
  {
   "cell_type": "markdown",
   "metadata": {},
   "source": [
    "Sequential Feature Selection Ridge"
   ]
  },
  {
   "cell_type": "code",
   "execution_count": 31,
   "metadata": {},
   "outputs": [],
   "source": [
    "from sklearn.feature_selection import SequentialFeatureSelector, SelectFromModel\n",
    "from sklearn.linear_model import RidgeCV, Ridge, LassoCV, Lasso\n",
    "\n",
    "def sequen_features(input_X, input_Y):\n",
    "    ridge = RidgeCV(alphas=np.logspace(-6,6,num=5)).fit(input_X, input_Y)\n",
    "    if len(input_X) > len(input_X.columns):\n",
    "        X=SequentialFeatureSelector(ridge, n_features_to_select=0.3, direction=\"forward\").fit_transform(input_X, input_Y)\n",
    "    else:\n",
    "        X=SequentialFeatureSelector(ridge, n_features_to_select=len(input_X)*0.3, direction=\"forward\").fit_transform(input_X,input_Y)\n",
    "    return X\n",
    "\n"
   ]
  },
  {
   "cell_type": "markdown",
   "metadata": {},
   "source": [
    "Select from Model - Lasso"
   ]
  },
  {
   "cell_type": "code",
   "execution_count": 32,
   "metadata": {},
   "outputs": [],
   "source": [
    "#this will give features that are linearly aligned\n",
    "\n",
    "def lasso_features(input_X, input_Y):\n",
    "    lasso = LassoCV(alphas=np.arange(0.1, 5, 0.1)).fit(input_X, input_Y)\n",
    "    model = SelectFromModel(lasso, prefit=True)\n",
    "    X_new = model.transform(input_X)\n",
    "    return X_new\n",
    "    "
   ]
  },
  {
   "cell_type": "markdown",
   "metadata": {},
   "source": [
    "Select from Model - Tree"
   ]
  },
  {
   "cell_type": "code",
   "execution_count": 35,
   "metadata": {},
   "outputs": [],
   "source": [
    "from sklearn.ensemble import ExtraTreesRegressor\n",
    "\n",
    "\n",
    "def tree_features(input_X, input_Y):\n",
    "    treeReg = ExtraTreesRegressor(n_estimators=100)\n",
    "    treeReg = treeReg.fit(input_X, input_Y)\n",
    "    model = SelectFromModel(treeReg, prefit=True)\n",
    "    X_new = model.transform(input_X)\n",
    "    return X_new"
   ]
  },
  {
   "cell_type": "markdown",
   "metadata": {},
   "source": [
    "Store Methods of Feature Selection"
   ]
  },
  {
   "cell_type": "code",
   "execution_count": null,
   "metadata": {},
   "outputs": [],
   "source": [
    "currentFamilySets = [   [glob_train_X, glob_train_Y],\n",
    "                        [triph_train_X,triph_train_Y],\n",
    "                        [phen_train_X, phen_train_Y],\n",
    "                        [carb_train_X, carb_train_Y],\n",
    "                        [indo_train_X, indo_train_Y],\n",
    "                        [coum_train_X, coum_train_Y],\n",
    "                        [diph_train_X, diph_train_Y],\n",
    "                        [othr_train_X, othr_train_Y]\n",
    "                    ]\n",
    "\n",
    "def allMethodsFeatureSelect(familyTrainingData):\n",
    "    selected_X = []\n",
    "    for i in range(len(familyTrainingData)):\n",
    "        selected_X.append(\n",
    "                            [remove_low_variance(familyTrainingData[i][0], threshold=0.5),\n",
    "                            select_univariate(familyTrainingData[i][0],familyTrainingData[i][1]),\n",
    "                            tree_features(familyTrainingData[i][0],familyTrainingData[i][1]),\n",
    "                            sequen_features(familyTrainingData[i][0],familyTrainingData[i][1]),\n",
    "                            lasso_features(familyTrainingData[i][0],familyTrainingData[i][1])\n",
    "                            ]\n",
    "                        \n",
    "                        )\n",
    "    return selected_X\n",
    "\n",
    "selected_X = allMethodsFeatureSelect(currentFamilySets)\n",
    "\n",
    "selected_X[0][0].shape"
   ]
  },
  {
   "cell_type": "markdown",
   "metadata": {},
   "source": [
    "Models"
   ]
  },
  {
   "cell_type": "markdown",
   "metadata": {},
   "source": [
    "Ridge"
   ]
  },
  {
   "cell_type": "code",
   "execution_count": null,
   "metadata": {},
   "outputs": [],
   "source": [
    "from sklearn.model_selection import GridSearchCV\n",
    "# GridSearchCV for best parameters in training set\n",
    "tuned_params_Ridge = {'alpha' : np.arange(0.1, 10, 0.1), 'fit_intercept' : [True, False]}\n",
    "\n",
    "gsRidge = GridSearchCV(Ridge(), tuned_params_Ridge, cv=3, scoring='r2')\n",
    "gsRidge.fit(selected_X[0][0], currentFamilySets[0][1])\n",
    "\n",
    "# Apply model with best obtained parameters\n",
    "\n",
    "# Validate with family test set\n",
    "\n",
    "# Grid of results Y Pred vs Y True\n",
    "#   For each family --> results_X[i]\n",
    "#       For each feature select method --> results_X[i][j]"
   ]
  },
  {
   "cell_type": "markdown",
   "metadata": {},
   "source": [
    "Lasso"
   ]
  },
  {
   "cell_type": "code",
   "execution_count": null,
   "metadata": {},
   "outputs": [],
   "source": []
  },
  {
   "cell_type": "markdown",
   "metadata": {},
   "source": [
    "PLS"
   ]
  },
  {
   "cell_type": "code",
   "execution_count": null,
   "metadata": {},
   "outputs": [],
   "source": []
  },
  {
   "cell_type": "markdown",
   "metadata": {},
   "source": [
    "Find Latent Variables"
   ]
  },
  {
   "cell_type": "code",
   "execution_count": null,
   "metadata": {},
   "outputs": [],
   "source": []
  },
  {
   "cell_type": "markdown",
   "metadata": {},
   "source": [
    "SVR - Linear Kernel"
   ]
  },
  {
   "cell_type": "code",
   "execution_count": null,
   "metadata": {},
   "outputs": [],
   "source": []
  },
  {
   "cell_type": "markdown",
   "metadata": {},
   "source": [
    "SVR - RBF Kernel"
   ]
  },
  {
   "cell_type": "code",
   "execution_count": null,
   "metadata": {},
   "outputs": [],
   "source": []
  },
  {
   "cell_type": "markdown",
   "metadata": {},
   "source": [
    "Random Forest"
   ]
  },
  {
   "cell_type": "code",
   "execution_count": null,
   "metadata": {},
   "outputs": [],
   "source": []
  },
  {
   "cell_type": "markdown",
   "metadata": {},
   "source": [
    "GTM"
   ]
  },
  {
   "cell_type": "code",
   "execution_count": null,
   "metadata": {},
   "outputs": [
    {
     "name": "stderr",
     "output_type": "stream",
     "text": [
      "C:\\Users\\Paul\\AppData\\Local\\Programs\\Python\\Python38-32\\lib\\site-packages\\sklearn\\model_selection\\_validation.py:372: FitFailedWarning: \n",
      "126 fits failed out of a total of 378.\n",
      "The score on these train-test partitions for these parameters will be set to nan.\n",
      "If these failures are not expected, you can try to debug them by setting error_score='raise'.\n",
      "\n",
      "Below are more details about the failures:\n",
      "--------------------------------------------------------------------------------\n",
      "126 fits failed with the following error:\n",
      "Traceback (most recent call last):\n",
      "  File \"C:\\Users\\Paul\\AppData\\Local\\Programs\\Python\\Python38-32\\lib\\site-packages\\sklearn\\model_selection\\_validation.py\", line 680, in _fit_and_score\n",
      "    estimator.fit(X_train, y_train, **fit_params)\n",
      "  File \"C:\\Users\\Paul\\AppData\\Local\\Programs\\Python\\Python38-32\\lib\\site-packages\\ugtm\\ugtm_sklearn.py\", line 456, in fit\n",
      "    self.initialModel = ugtm_gtm.initialize(X, self.k,\n",
      "  File \"C:\\Users\\Paul\\AppData\\Local\\Programs\\Python\\Python38-32\\lib\\site-packages\\ugtm\\ugtm_gtm.py\", line 90, in initialize\n",
      "    matW = ugtm_core.createWMatrix(matX, matPhiMPlusOne, Uobj.matU,\n",
      "  File \"C:\\Users\\Paul\\AppData\\Local\\Programs\\Python\\Python38-32\\lib\\site-packages\\ugtm\\ugtm_core.py\", line 143, in createWMatrix\n",
      "    NormX = scale(matX, axis=0, with_mean=True, with_std=True)\n",
      "  File \"C:\\Users\\Paul\\AppData\\Local\\Programs\\Python\\Python38-32\\lib\\site-packages\\sklearn\\preprocessing\\_data.py\", line 194, in scale\n",
      "    X = check_array(\n",
      "  File \"C:\\Users\\Paul\\AppData\\Local\\Programs\\Python\\Python38-32\\lib\\site-packages\\sklearn\\utils\\validation.py\", line 805, in check_array\n",
      "    raise ValueError(\n",
      "ValueError: Found array with 0 sample(s) (shape=(0, 2)) while a minimum of 1 is required by the scale function.\n",
      "\n",
      "  warnings.warn(some_fits_failed_message, FitFailedWarning)\n",
      "C:\\Users\\Paul\\AppData\\Local\\Programs\\Python\\Python38-32\\lib\\site-packages\\sklearn\\model_selection\\_search.py:969: UserWarning: One or more of the test scores are non-finite: [        nan         nan         nan         nan         nan         nan\n",
      "         nan         nan         nan         nan         nan         nan\n",
      "         nan         nan         nan         nan         nan         nan\n",
      "         nan         nan         nan         nan         nan         nan\n",
      "         nan         nan         nan         nan         nan         nan\n",
      "         nan         nan         nan         nan         nan         nan\n",
      "         nan         nan         nan         nan         nan         nan\n",
      " -0.21530287 -0.22076452 -0.09128693 -0.08472267 -0.16185125 -0.11665569\n",
      " -0.16556782 -0.06228962 -0.08877179 -0.30034335 -0.16029062 -0.13047275\n",
      " -0.2396537  -0.11339814 -0.12836536 -0.09310234 -0.38771384 -0.28422175\n",
      " -0.0175234   0.00041417 -0.08235695 -0.02595913 -0.14630213 -0.0108077\n",
      " -0.06169312 -0.11238247  0.06580803 -0.14889569 -0.005998   -0.09103289\n",
      " -0.09297904 -0.07262776 -0.0293547  -0.27114784 -0.26275018 -0.16157851\n",
      " -0.09277856 -0.12672045 -0.16401165  0.02609838 -0.06322716 -0.13935455\n",
      " -0.08715925 -0.18498943 -0.1494918  -0.06977695 -0.20692476 -0.17114177\n",
      " -0.21410245 -0.20036605 -0.17136852 -0.31089822 -0.13134326 -0.08687\n",
      " -0.19073587 -0.21995056 -0.17081269 -0.05123833 -0.25388747 -0.24834745\n",
      " -0.00105769  0.0100521  -0.08642917 -0.14968462 -0.10299491 -0.01673945\n",
      " -0.1109313  -0.17945523 -0.08468456 -0.10489441 -0.18110917 -0.13942845\n",
      " -0.15772725 -0.24216147 -0.13138247 -0.16010741 -0.34586518 -0.21749642\n",
      " -0.03610901 -0.11237378 -0.16911499  0.0244978  -0.04470942 -0.07284005]\n",
      "  warnings.warn(\n"
     ]
    },
    {
     "name": "stdout",
     "output_type": "stream",
     "text": [
      "{'k': 16, 'm': 5, 'regul': 0.001, 's': 0.3}\n"
     ]
    }
   ],
   "source": [
    "from ugtm import eGTR\n",
    "from sklearn.model_selection import GridSearchCV\n",
    "\n",
    "tuned_params = {'regul': [0.0001, 0.001, 0.01, 0.1, 1, 10, 100],\n",
    "                's': [0.1, 0.2, 0.3],\n",
    "                'k': [0, 16, 25],\n",
    "                'm': [4, 5]\n",
    "}\n",
    "\n",
    "gs = GridSearchCV(eGTR(), tuned_params, cv=3, scoring='r2') # error_score='raise'\n",
    "gs.fit(triph_train_X, triph_train_Y)\n",
    "print(gs.best_params_)"
   ]
  },
  {
   "cell_type": "code",
   "execution_count": null,
   "metadata": {},
   "outputs": [
    {
     "name": "stdout",
     "output_type": "stream",
     "text": [
      "0.20175921560726226\n"
     ]
    }
   ],
   "source": [
    "print(gs.best_score_)"
   ]
  },
  {
   "cell_type": "code",
   "execution_count": null,
   "metadata": {},
   "outputs": [],
   "source": [
    "gtr = eGTR(k=16, m=4, regul=0.0001, s=0.3) # \n",
    "\n",
    "gtr = gtr.fit(othr_train_X, othr_train_Y)\n",
    "\n"
   ]
  },
  {
   "cell_type": "markdown",
   "metadata": {},
   "source": [
    "Visualise GTR"
   ]
  },
  {
   "cell_type": "code",
   "execution_count": null,
   "metadata": {},
   "outputs": [
    {
     "data": {
      "text/html": [
       "\n",
       "<div id=\"altair-viz-32073999181945b3ac51d8fd7454e84c\"></div>\n",
       "<script type=\"text/javascript\">\n",
       "  var VEGA_DEBUG = (typeof VEGA_DEBUG == \"undefined\") ? {} : VEGA_DEBUG;\n",
       "  (function(spec, embedOpt){\n",
       "    let outputDiv = document.currentScript.previousElementSibling;\n",
       "    if (outputDiv.id !== \"altair-viz-32073999181945b3ac51d8fd7454e84c\") {\n",
       "      outputDiv = document.getElementById(\"altair-viz-32073999181945b3ac51d8fd7454e84c\");\n",
       "    }\n",
       "    const paths = {\n",
       "      \"vega\": \"https://cdn.jsdelivr.net/npm//vega@5?noext\",\n",
       "      \"vega-lib\": \"https://cdn.jsdelivr.net/npm//vega-lib?noext\",\n",
       "      \"vega-lite\": \"https://cdn.jsdelivr.net/npm//vega-lite@4.17.0?noext\",\n",
       "      \"vega-embed\": \"https://cdn.jsdelivr.net/npm//vega-embed@6?noext\",\n",
       "    };\n",
       "\n",
       "    function maybeLoadScript(lib, version) {\n",
       "      var key = `${lib.replace(\"-\", \"\")}_version`;\n",
       "      return (VEGA_DEBUG[key] == version) ?\n",
       "        Promise.resolve(paths[lib]) :\n",
       "        new Promise(function(resolve, reject) {\n",
       "          var s = document.createElement('script');\n",
       "          document.getElementsByTagName(\"head\")[0].appendChild(s);\n",
       "          s.async = true;\n",
       "          s.onload = () => {\n",
       "            VEGA_DEBUG[key] = version;\n",
       "            return resolve(paths[lib]);\n",
       "          };\n",
       "          s.onerror = () => reject(`Error loading script: ${paths[lib]}`);\n",
       "          s.src = paths[lib];\n",
       "        });\n",
       "    }\n",
       "\n",
       "    function showError(err) {\n",
       "      outputDiv.innerHTML = `<div class=\"error\" style=\"color:red;\">${err}</div>`;\n",
       "      throw err;\n",
       "    }\n",
       "\n",
       "    function displayChart(vegaEmbed) {\n",
       "      vegaEmbed(outputDiv, spec, embedOpt)\n",
       "        .catch(err => showError(`Javascript Error: ${err.message}<br>This usually means there's a typo in your chart specification. See the javascript console for the full traceback.`));\n",
       "    }\n",
       "\n",
       "    if(typeof define === \"function\" && define.amd) {\n",
       "      requirejs.config({paths});\n",
       "      require([\"vega-embed\"], displayChart, err => showError(`Error loading script: ${err.message}`));\n",
       "    } else {\n",
       "      maybeLoadScript(\"vega\", \"5\")\n",
       "        .then(() => maybeLoadScript(\"vega-lite\", \"4.17.0\"))\n",
       "        .then(() => maybeLoadScript(\"vega-embed\", \"6\"))\n",
       "        .catch(showError)\n",
       "        .then(() => displayChart(vegaEmbed));\n",
       "    }\n",
       "  })({\"config\": {\"view\": {\"continuousWidth\": 400, \"continuousHeight\": 300}}, \"data\": {\"name\": \"data-ff769d85f4077b80a000c40e2421f82c\"}, \"mark\": \"square\", \"encoding\": {\"color\": {\"field\": \"predicted_node_label\", \"legend\": {\"title\": \"PCE\"}, \"scale\": {\"scheme\": \"greenblue\"}, \"type\": \"quantitative\"}, \"size\": {\"value\": 50}, \"tooltip\": [{\"field\": \"x1\", \"type\": \"quantitative\"}, {\"field\": \"x2\", \"type\": \"quantitative\"}, {\"field\": \"predicted_node_label\", \"type\": \"quantitative\"}], \"x\": {\"field\": \"x1\", \"type\": \"quantitative\"}, \"y\": {\"field\": \"x2\", \"type\": \"quantitative\"}}, \"height\": 200, \"title\": \"Dye-Sensitised Solar Cells\", \"width\": 200, \"$schema\": \"https://vega.github.io/schema/vega-lite/v4.17.0.json\", \"datasets\": {\"data-ff769d85f4077b80a000c40e2421f82c\": [{\"x1\": -1.0, \"x2\": -1.0, \"predicted_node_label\": 1.480010713325006}, {\"x1\": -1.0, \"x2\": -0.8666666666666667, \"predicted_node_label\": 3.0104857142857133}, {\"x1\": -1.0, \"x2\": -0.7333333333333334, \"predicted_node_label\": 3.0104857142857133}, {\"x1\": -1.0, \"x2\": -0.6, \"predicted_node_label\": 3.0104857142857133}, {\"x1\": -1.0, \"x2\": -0.4666666666666667, \"predicted_node_label\": 3.0104857142857133}, {\"x1\": -1.0, \"x2\": -0.33333333333333337, \"predicted_node_label\": 3.0104857142857133}, {\"x1\": -1.0, \"x2\": -0.19999999999999996, \"predicted_node_label\": 3.0104857142857133}, {\"x1\": -1.0, \"x2\": -0.06666666666666665, \"predicted_node_label\": 6.057494666326767}, {\"x1\": -1.0, \"x2\": 0.06666666666666665, \"predicted_node_label\": 4.19998334703314}, {\"x1\": -1.0, \"x2\": 0.19999999999999996, \"predicted_node_label\": 3.0104857142857133}, {\"x1\": -1.0, \"x2\": 0.33333333333333326, \"predicted_node_label\": 6.519950867487853}, {\"x1\": -1.0, \"x2\": 0.46666666666666656, \"predicted_node_label\": 3.0104857142857133}, {\"x1\": -1.0, \"x2\": 0.6000000000000001, \"predicted_node_label\": 3.0104857142857133}, {\"x1\": -1.0, \"x2\": 0.7333333333333334, \"predicted_node_label\": 8.009930007779882}, {\"x1\": -1.0, \"x2\": 0.8666666666666667, \"predicted_node_label\": 5.849960247594016}, {\"x1\": -1.0, \"x2\": 1.0, \"predicted_node_label\": 3.0104857142857133}, {\"x1\": -0.8666666666666667, \"x2\": -1.0, \"predicted_node_label\": 3.0104857142857133}, {\"x1\": -0.8666666666666667, \"x2\": -0.8666666666666667, \"predicted_node_label\": 3.0104857142857133}, {\"x1\": -0.8666666666666667, \"x2\": -0.7333333333333334, \"predicted_node_label\": 3.0104857142857133}, {\"x1\": -0.8666666666666667, \"x2\": -0.6, \"predicted_node_label\": 3.0104857142857133}, {\"x1\": -0.8666666666666667, \"x2\": -0.4666666666666667, \"predicted_node_label\": 3.0104857142857133}, {\"x1\": -0.8666666666666667, \"x2\": -0.33333333333333337, \"predicted_node_label\": 0.6500330463373512}, {\"x1\": -0.8666666666666667, \"x2\": -0.19999999999999996, \"predicted_node_label\": 3.0104857142857133}, {\"x1\": -0.8666666666666667, \"x2\": -0.06666666666666665, \"predicted_node_label\": 4.294990996296077}, {\"x1\": -0.8666666666666667, \"x2\": 0.06666666666666665, \"predicted_node_label\": 3.2799962268528025}, {\"x1\": -0.8666666666666667, \"x2\": 0.19999999999999996, \"predicted_node_label\": 3.0104857142857133}, {\"x1\": -0.8666666666666667, \"x2\": 0.33333333333333326, \"predicted_node_label\": 3.0104857142857133}, {\"x1\": -0.8666666666666667, \"x2\": 0.46666666666666656, \"predicted_node_label\": 3.0104857142857133}, {\"x1\": -0.8666666666666667, \"x2\": 0.6000000000000001, \"predicted_node_label\": 3.0104857142857133}, {\"x1\": -0.8666666666666667, \"x2\": 0.7333333333333334, \"predicted_node_label\": 3.0104857142857133}, {\"x1\": -0.8666666666666667, \"x2\": 0.8666666666666667, \"predicted_node_label\": 3.0104857142857133}, {\"x1\": -0.8666666666666667, \"x2\": 1.0, \"predicted_node_label\": 3.0104857142857133}, {\"x1\": -0.7333333333333334, \"x2\": -1.0, \"predicted_node_label\": 2.040006190039467}, {\"x1\": -0.7333333333333334, \"x2\": -0.8666666666666667, \"predicted_node_label\": 3.0104857142857133}, {\"x1\": -0.7333333333333334, \"x2\": -0.7333333333333334, \"predicted_node_label\": 3.0104857142857133}, {\"x1\": -0.7333333333333334, \"x2\": -0.6, \"predicted_node_label\": 3.0104857142857133}, {\"x1\": -0.7333333333333334, \"x2\": -0.4666666666666667, \"predicted_node_label\": 3.0104857142857124}, {\"x1\": -0.7333333333333334, \"x2\": -0.33333333333333337, \"predicted_node_label\": 5.619963467296439}, {\"x1\": -0.7333333333333334, \"x2\": -0.19999999999999996, \"predicted_node_label\": 3.0387676740846596}, {\"x1\": -0.7333333333333334, \"x2\": -0.06666666666666665, \"predicted_node_label\": 3.0104857142857133}, {\"x1\": -0.7333333333333334, \"x2\": 0.06666666666666665, \"predicted_node_label\": 3.449960600981689}, {\"x1\": -0.7333333333333334, \"x2\": 0.19999999999999996, \"predicted_node_label\": 3.01048571431165}, {\"x1\": -0.7333333333333334, \"x2\": 0.33333333333333326, \"predicted_node_label\": 3.0104857142857133}, {\"x1\": -0.7333333333333334, \"x2\": 0.46666666666666656, \"predicted_node_label\": 3.0104857142857133}, {\"x1\": -0.7333333333333334, \"x2\": 0.6000000000000001, \"predicted_node_label\": 3.0104857142857133}, {\"x1\": -0.7333333333333334, \"x2\": 0.7333333333333334, \"predicted_node_label\": 3.0104857142857133}, {\"x1\": -0.7333333333333334, \"x2\": 0.8666666666666667, \"predicted_node_label\": 3.0104857142857133}, {\"x1\": -0.7333333333333334, \"x2\": 1.0, \"predicted_node_label\": 3.0104857142857133}, {\"x1\": -0.6, \"x2\": -1.0, \"predicted_node_label\": 3.0104857139330155}, {\"x1\": -0.6, \"x2\": -0.8666666666666667, \"predicted_node_label\": 2.3573074011327106}, {\"x1\": -0.6, \"x2\": -0.7333333333333334, \"predicted_node_label\": 3.0104857142857133}, {\"x1\": -0.6, \"x2\": -0.6, \"predicted_node_label\": 3.0104857142857133}, {\"x1\": -0.6, \"x2\": -0.4666666666666667, \"predicted_node_label\": 3.0104857143024932}, {\"x1\": -0.6, \"x2\": -0.33333333333333337, \"predicted_node_label\": 3.010485714285753}, {\"x1\": -0.6, \"x2\": -0.19999999999999996, \"predicted_node_label\": 3.0104857142857133}, {\"x1\": -0.6, \"x2\": -0.06666666666666665, \"predicted_node_label\": 3.0104857142857133}, {\"x1\": -0.6, \"x2\": 0.06666666666666665, \"predicted_node_label\": 2.750003647971442}, {\"x1\": -0.6, \"x2\": 0.19999999999999996, \"predicted_node_label\": 5.20661566319959}, {\"x1\": -0.6, \"x2\": 0.33333333333333326, \"predicted_node_label\": 4.991677424099391}, {\"x1\": -0.6, \"x2\": 0.46666666666666656, \"predicted_node_label\": 3.161851446540872}, {\"x1\": -0.6, \"x2\": 0.6000000000000001, \"predicted_node_label\": 3.010485780450756}, {\"x1\": -0.6, \"x2\": 0.7333333333333334, \"predicted_node_label\": 3.0104857142857133}, {\"x1\": -0.6, \"x2\": 0.8666666666666667, \"predicted_node_label\": 3.010485714282124}, {\"x1\": -0.6, \"x2\": 1.0, \"predicted_node_label\": 2.7800010755949813}, {\"x1\": -0.4666666666666667, \"x2\": -1.0, \"predicted_node_label\": 3.0104857142857133}, {\"x1\": -0.4666666666666667, \"x2\": -0.8666666666666667, \"predicted_node_label\": 3.0104857142857133}, {\"x1\": -0.4666666666666667, \"x2\": -0.7333333333333334, \"predicted_node_label\": 3.0104857142946724}, {\"x1\": -0.4666666666666667, \"x2\": -0.6, \"predicted_node_label\": 2.1200062333563667}, {\"x1\": -0.4666666666666667, \"x2\": -0.4666666666666667, \"predicted_node_label\": 2.0500276449519976}, {\"x1\": -0.4666666666666667, \"x2\": -0.33333333333333337, \"predicted_node_label\": 2.9602422827110977}, {\"x1\": -0.4666666666666667, \"x2\": -0.19999999999999996, \"predicted_node_label\": 3.0104857142857133}, {\"x1\": -0.4666666666666667, \"x2\": -0.06666666666666665, \"predicted_node_label\": 3.0104857142857133}, {\"x1\": -0.4666666666666667, \"x2\": 0.06666666666666665, \"predicted_node_label\": 3.0104857142857133}, {\"x1\": -0.4666666666666667, \"x2\": 0.19999999999999996, \"predicted_node_label\": 3.3224532239721527}, {\"x1\": -0.4666666666666667, \"x2\": 0.33333333333333326, \"predicted_node_label\": 3.930064144823585}, {\"x1\": -0.4666666666666667, \"x2\": 0.46666666666666656, \"predicted_node_label\": 3.6676896384694575}, {\"x1\": -0.4666666666666667, \"x2\": 0.6000000000000001, \"predicted_node_label\": 3.010485714210625}, {\"x1\": -0.4666666666666667, \"x2\": 0.7333333333333334, \"predicted_node_label\": 3.0104857142857133}, {\"x1\": -0.4666666666666667, \"x2\": 0.8666666666666667, \"predicted_node_label\": 3.0104857142506947}, {\"x1\": -0.4666666666666667, \"x2\": 1.0, \"predicted_node_label\": 5.338327901702423}, {\"x1\": -0.33333333333333337, \"x2\": -1.0, \"predicted_node_label\": 4.339981387060579}, {\"x1\": -0.33333333333333337, \"x2\": -0.8666666666666667, \"predicted_node_label\": 3.0104857142857133}, {\"x1\": -0.33333333333333337, \"x2\": -0.7333333333333334, \"predicted_node_label\": 3.0104857142857133}, {\"x1\": -0.33333333333333337, \"x2\": -0.6, \"predicted_node_label\": 3.0104857138441683}, {\"x1\": -0.33333333333333337, \"x2\": -0.4666666666666667, \"predicted_node_label\": 0.4133445375454769}, {\"x1\": -0.33333333333333337, \"x2\": -0.33333333333333337, \"predicted_node_label\": 3.0104857114156993}, {\"x1\": -0.33333333333333337, \"x2\": -0.19999999999999996, \"predicted_node_label\": 3.0104857142857133}, {\"x1\": -0.33333333333333337, \"x2\": -0.06666666666666665, \"predicted_node_label\": 3.0104857142857133}, {\"x1\": -0.33333333333333337, \"x2\": 0.06666666666666665, \"predicted_node_label\": 3.0104857142857133}, {\"x1\": -0.33333333333333337, \"x2\": 0.19999999999999996, \"predicted_node_label\": 3.010485714096992}, {\"x1\": -0.33333333333333337, \"x2\": 0.33333333333333326, \"predicted_node_label\": 2.0300137266078244}, {\"x1\": -0.33333333333333337, \"x2\": 0.46666666666666656, \"predicted_node_label\": 3.010484948146913}, {\"x1\": -0.33333333333333337, \"x2\": 0.6000000000000001, \"predicted_node_label\": 2.0200138666361123}, {\"x1\": -0.33333333333333337, \"x2\": 0.7333333333333334, \"predicted_node_label\": 3.01049468966425}, {\"x1\": -0.33333333333333337, \"x2\": 0.8666666666666667, \"predicted_node_label\": 3.0104857142857133}, {\"x1\": -0.33333333333333337, \"x2\": 1.0, \"predicted_node_label\": 3.0104860010810572}, {\"x1\": -0.19999999999999996, \"x2\": -1.0, \"predicted_node_label\": 3.769994683437213}, {\"x1\": -0.19999999999999996, \"x2\": -0.8666666666666667, \"predicted_node_label\": 3.0104857142857133}, {\"x1\": -0.19999999999999996, \"x2\": -0.7333333333333334, \"predicted_node_label\": 3.0104857142857133}, {\"x1\": -0.19999999999999996, \"x2\": -0.6, \"predicted_node_label\": 3.0104857142857133}, {\"x1\": -0.19999999999999996, \"x2\": -0.4666666666666667, \"predicted_node_label\": 3.010485689998618}, {\"x1\": -0.19999999999999996, \"x2\": -0.33333333333333337, \"predicted_node_label\": 3.0104857142857133}, {\"x1\": -0.19999999999999996, \"x2\": -0.19999999999999996, \"predicted_node_label\": 3.0104857142857133}, {\"x1\": -0.19999999999999996, \"x2\": -0.06666666666666665, \"predicted_node_label\": 3.0104857142857133}, {\"x1\": -0.19999999999999996, \"x2\": 0.06666666666666665, \"predicted_node_label\": 3.0104857142857817}, {\"x1\": -0.19999999999999996, \"x2\": 0.19999999999999996, \"predicted_node_label\": 5.042659416335531}, {\"x1\": -0.19999999999999996, \"x2\": 0.33333333333333326, \"predicted_node_label\": 3.010485714250404}, {\"x1\": -0.19999999999999996, \"x2\": 0.46666666666666656, \"predicted_node_label\": 3.0104857142857133}, {\"x1\": -0.19999999999999996, \"x2\": 0.6000000000000001, \"predicted_node_label\": 3.172333596903144}, {\"x1\": -0.19999999999999996, \"x2\": 0.7333333333333334, \"predicted_node_label\": 5.189969487148147}, {\"x1\": -0.19999999999999996, \"x2\": 0.8666666666666667, \"predicted_node_label\": 3.0104857143165784}, {\"x1\": -0.19999999999999996, \"x2\": 1.0, \"predicted_node_label\": 3.0104857142857133}, {\"x1\": -0.06666666666666665, \"x2\": -1.0, \"predicted_node_label\": 3.0104857142856942}, {\"x1\": -0.06666666666666665, \"x2\": -0.8666666666666667, \"predicted_node_label\": 0.07004116622367287}, {\"x1\": -0.06666666666666665, \"x2\": -0.7333333333333334, \"predicted_node_label\": 3.0104857142857133}, {\"x1\": -0.06666666666666665, \"x2\": -0.6, \"predicted_node_label\": 3.0104857142857133}, {\"x1\": -0.06666666666666665, \"x2\": -0.4666666666666667, \"predicted_node_label\": 3.0104857142857133}, {\"x1\": -0.06666666666666665, \"x2\": -0.33333333333333337, \"predicted_node_label\": 3.0104857142857133}, {\"x1\": -0.06666666666666665, \"x2\": -0.19999999999999996, \"predicted_node_label\": 3.0104857142857133}, {\"x1\": -0.06666666666666665, \"x2\": -0.06666666666666665, \"predicted_node_label\": 3.0104857142857133}, {\"x1\": -0.06666666666666665, \"x2\": 0.06666666666666665, \"predicted_node_label\": 2.9757701782752375}, {\"x1\": -0.06666666666666665, \"x2\": 0.19999999999999996, \"predicted_node_label\": 4.665197660869}, {\"x1\": -0.06666666666666665, \"x2\": 0.33333333333333326, \"predicted_node_label\": 3.0147495178159995}, {\"x1\": -0.06666666666666665, \"x2\": 0.46666666666666656, \"predicted_node_label\": 3.0104857625190187}, {\"x1\": -0.06666666666666665, \"x2\": 0.6000000000000001, \"predicted_node_label\": 3.010485714288945}, {\"x1\": -0.06666666666666665, \"x2\": 0.7333333333333334, \"predicted_node_label\": 4.199984816340975}, {\"x1\": -0.06666666666666665, \"x2\": 0.8666666666666667, \"predicted_node_label\": 5.2399687872360925}, {\"x1\": -0.06666666666666665, \"x2\": 1.0, \"predicted_node_label\": 2.740003786746982}, {\"x1\": 0.06666666666666665, \"x2\": -1.0, \"predicted_node_label\": 3.0104857142857133}, {\"x1\": 0.06666666666666665, \"x2\": -0.8666666666666667, \"predicted_node_label\": 3.0104857142857133}, {\"x1\": 0.06666666666666665, \"x2\": -0.7333333333333334, \"predicted_node_label\": 3.0104857142857133}, {\"x1\": 0.06666666666666665, \"x2\": -0.6, \"predicted_node_label\": 3.0104857142857133}, {\"x1\": 0.06666666666666665, \"x2\": -0.4666666666666667, \"predicted_node_label\": 3.0104857142857133}, {\"x1\": 0.06666666666666665, \"x2\": -0.33333333333333337, \"predicted_node_label\": 3.0104857142857133}, {\"x1\": 0.06666666666666665, \"x2\": -0.19999999999999996, \"predicted_node_label\": 3.0104857142857133}, {\"x1\": 0.06666666666666665, \"x2\": -0.06666666666666665, \"predicted_node_label\": 3.0104857142857133}, {\"x1\": 0.06666666666666665, \"x2\": 0.06666666666666665, \"predicted_node_label\": 4.692246332495735}, {\"x1\": 0.06666666666666665, \"x2\": 0.19999999999999996, \"predicted_node_label\": 7.199955114881492}, {\"x1\": 0.06666666666666665, \"x2\": 0.33333333333333326, \"predicted_node_label\": 3.0292455405892924}, {\"x1\": 0.06666666666666665, \"x2\": 0.46666666666666656, \"predicted_node_label\": 3.0104857142984223}, {\"x1\": 0.06666666666666665, \"x2\": 0.6000000000000001, \"predicted_node_label\": 3.010488074159588}, {\"x1\": 0.06666666666666665, \"x2\": 0.7333333333333334, \"predicted_node_label\": 3.0104854384316897}, {\"x1\": 0.06666666666666665, \"x2\": 0.8666666666666667, \"predicted_node_label\": 2.491506054378097}, {\"x1\": 0.06666666666666665, \"x2\": 1.0, \"predicted_node_label\": 3.0104857142856587}, {\"x1\": 0.19999999999999996, \"x2\": -1.0, \"predicted_node_label\": 0.27667942442935267}, {\"x1\": 0.19999999999999996, \"x2\": -0.8666666666666667, \"predicted_node_label\": 3.0104857142857133}, {\"x1\": 0.19999999999999996, \"x2\": -0.7333333333333334, \"predicted_node_label\": 3.0104857142857133}, {\"x1\": 0.19999999999999996, \"x2\": -0.6, \"predicted_node_label\": 3.0104857142857133}, {\"x1\": 0.19999999999999996, \"x2\": -0.4666666666666667, \"predicted_node_label\": 3.0104857142857133}, {\"x1\": 0.19999999999999996, \"x2\": -0.33333333333333337, \"predicted_node_label\": 3.010485714049134}, {\"x1\": 0.19999999999999996, \"x2\": -0.19999999999999996, \"predicted_node_label\": 3.0104857142857133}, {\"x1\": 0.19999999999999996, \"x2\": -0.06666666666666665, \"predicted_node_label\": 3.0104857142857133}, {\"x1\": 0.19999999999999996, \"x2\": 0.06666666666666665, \"predicted_node_label\": 3.0157754288791216}, {\"x1\": 0.19999999999999996, \"x2\": 0.19999999999999996, \"predicted_node_label\": 3.010485714285749}, {\"x1\": 0.19999999999999996, \"x2\": 0.33333333333333326, \"predicted_node_label\": 3.0104857142857124}, {\"x1\": 0.19999999999999996, \"x2\": 0.46666666666666656, \"predicted_node_label\": 3.010485714178916}, {\"x1\": 0.19999999999999996, \"x2\": 0.6000000000000001, \"predicted_node_label\": 3.0104805294322037}, {\"x1\": 0.19999999999999996, \"x2\": 0.7333333333333334, \"predicted_node_label\": 3.010485714266693}, {\"x1\": 0.19999999999999996, \"x2\": 0.8666666666666667, \"predicted_node_label\": 1.1050093481848233}, {\"x1\": 0.19999999999999996, \"x2\": 1.0, \"predicted_node_label\": 2.9627145242934723}, {\"x1\": 0.33333333333333326, \"x2\": -1.0, \"predicted_node_label\": 3.0104857142857133}, {\"x1\": 0.33333333333333326, \"x2\": -0.8666666666666667, \"predicted_node_label\": 3.0104857142857133}, {\"x1\": 0.33333333333333326, \"x2\": -0.7333333333333334, \"predicted_node_label\": 3.0104857142857133}, {\"x1\": 0.33333333333333326, \"x2\": -0.6, \"predicted_node_label\": 3.0104857142857133}, {\"x1\": 0.33333333333333326, \"x2\": -0.4666666666666667, \"predicted_node_label\": 3.0104857112535957}, {\"x1\": 0.33333333333333326, \"x2\": -0.33333333333333337, \"predicted_node_label\": 2.336669811179183}, {\"x1\": 0.33333333333333326, \"x2\": -0.19999999999999996, \"predicted_node_label\": 3.0104857142856627}, {\"x1\": 0.33333333333333326, \"x2\": -0.06666666666666665, \"predicted_node_label\": 3.0104857142857133}, {\"x1\": 0.33333333333333326, \"x2\": 0.06666666666666665, \"predicted_node_label\": 3.0104857142860815}, {\"x1\": 0.33333333333333326, \"x2\": 0.19999999999999996, \"predicted_node_label\": 3.0104857142857133}, {\"x1\": 0.33333333333333326, \"x2\": 0.33333333333333326, \"predicted_node_label\": 3.01048571395344}, {\"x1\": 0.33333333333333326, \"x2\": 0.46666666666666656, \"predicted_node_label\": 2.9880511579282296}, {\"x1\": 0.33333333333333326, \"x2\": 0.6000000000000001, \"predicted_node_label\": 2.1027381678753807}, {\"x1\": 0.33333333333333326, \"x2\": 0.7333333333333334, \"predicted_node_label\": 3.010488849179366}, {\"x1\": 0.33333333333333326, \"x2\": 0.8666666666666667, \"predicted_node_label\": 2.67000476674501}, {\"x1\": 0.33333333333333326, \"x2\": 1.0, \"predicted_node_label\": 2.580005758337844}, {\"x1\": 0.46666666666666656, \"x2\": -1.0, \"predicted_node_label\": 0.0966734655619137}, {\"x1\": 0.46666666666666656, \"x2\": -0.8666666666666667, \"predicted_node_label\": 3.0104857142857133}, {\"x1\": 0.46666666666666656, \"x2\": -0.7333333333333334, \"predicted_node_label\": 3.0104857142857133}, {\"x1\": 0.46666666666666656, \"x2\": -0.6, \"predicted_node_label\": 3.0104857142857133}, {\"x1\": 0.46666666666666656, \"x2\": -0.4666666666666667, \"predicted_node_label\": 3.010485714285711}, {\"x1\": 0.46666666666666656, \"x2\": -0.33333333333333337, \"predicted_node_label\": 3.0104708268112828}, {\"x1\": 0.46666666666666656, \"x2\": -0.19999999999999996, \"predicted_node_label\": 3.0104857142857133}, {\"x1\": 0.46666666666666656, \"x2\": -0.06666666666666665, \"predicted_node_label\": 3.0104857142857133}, {\"x1\": 0.46666666666666656, \"x2\": 0.06666666666666665, \"predicted_node_label\": 3.0104874876365737}, {\"x1\": 0.46666666666666656, \"x2\": 0.19999999999999996, \"predicted_node_label\": 3.010485714281284}, {\"x1\": 0.46666666666666656, \"x2\": 0.33333333333333326, \"predicted_node_label\": 2.706281029396613}, {\"x1\": 0.46666666666666656, \"x2\": 0.46666666666666656, \"predicted_node_label\": 2.8124503617344128}, {\"x1\": 0.46666666666666656, \"x2\": 0.6000000000000001, \"predicted_node_label\": 2.487108259387823}, {\"x1\": 0.46666666666666656, \"x2\": 0.7333333333333334, \"predicted_node_label\": 3.010485714285877}, {\"x1\": 0.46666666666666656, \"x2\": 0.8666666666666667, \"predicted_node_label\": 3.010300363817827}, {\"x1\": 0.46666666666666656, \"x2\": 1.0, \"predicted_node_label\": 2.4850044979848134}, {\"x1\": 0.6000000000000001, \"x2\": -1.0, \"predicted_node_label\": 3.0104857142857133}, {\"x1\": 0.6000000000000001, \"x2\": -0.8666666666666667, \"predicted_node_label\": 0.6633442866599956}, {\"x1\": 0.6000000000000001, \"x2\": -0.7333333333333334, \"predicted_node_label\": 1.310023806466709}, {\"x1\": 0.6000000000000001, \"x2\": -0.6, \"predicted_node_label\": 3.0104857142857133}, {\"x1\": 0.6000000000000001, \"x2\": -0.4666666666666667, \"predicted_node_label\": 3.0104857142857133}, {\"x1\": 0.6000000000000001, \"x2\": -0.33333333333333337, \"predicted_node_label\": 3.0104857142857133}, {\"x1\": 0.6000000000000001, \"x2\": -0.19999999999999996, \"predicted_node_label\": 3.0104857142857133}, {\"x1\": 0.6000000000000001, \"x2\": -0.06666666666666665, \"predicted_node_label\": 3.0104857142857133}, {\"x1\": 0.6000000000000001, \"x2\": 0.06666666666666665, \"predicted_node_label\": 4.214991568453797}, {\"x1\": 0.6000000000000001, \"x2\": 0.19999999999999996, \"predicted_node_label\": 0.5305237530827123}, {\"x1\": 0.6000000000000001, \"x2\": 0.33333333333333326, \"predicted_node_label\": 0.8172154759504949}, {\"x1\": 0.6000000000000001, \"x2\": 0.46666666666666656, \"predicted_node_label\": 2.957683169915527}, {\"x1\": 0.6000000000000001, \"x2\": 0.6000000000000001, \"predicted_node_label\": 3.0114530723350055}, {\"x1\": 0.6000000000000001, \"x2\": 0.7333333333333334, \"predicted_node_label\": 4.489979285838421}, {\"x1\": 0.6000000000000001, \"x2\": 0.8666666666666667, \"predicted_node_label\": 4.211641900763068}, {\"x1\": 0.6000000000000001, \"x2\": 1.0, \"predicted_node_label\": 2.140006093375468}, {\"x1\": 0.7333333333333334, \"x2\": -1.0, \"predicted_node_label\": 3.0104857142857133}, {\"x1\": 0.7333333333333334, \"x2\": -0.8666666666666667, \"predicted_node_label\": 3.0104857142857133}, {\"x1\": 0.7333333333333334, \"x2\": -0.7333333333333334, \"predicted_node_label\": 3.0104857142857133}, {\"x1\": 0.7333333333333334, \"x2\": -0.6, \"predicted_node_label\": 3.0104853257489355}, {\"x1\": 0.7333333333333334, \"x2\": -0.4666666666666667, \"predicted_node_label\": 3.0104857142857133}, {\"x1\": 0.7333333333333334, \"x2\": -0.33333333333333337, \"predicted_node_label\": 3.0104857142857133}, {\"x1\": 0.7333333333333334, \"x2\": -0.19999999999999996, \"predicted_node_label\": 3.0104857142857133}, {\"x1\": 0.7333333333333334, \"x2\": -0.06666666666666665, \"predicted_node_label\": 3.0104857142857133}, {\"x1\": 0.7333333333333334, \"x2\": 0.06666666666666665, \"predicted_node_label\": 3.01048571428586}, {\"x1\": 0.7333333333333334, \"x2\": 0.19999999999999996, \"predicted_node_label\": 3.4900095431335414}, {\"x1\": 0.7333333333333334, \"x2\": 0.33333333333333326, \"predicted_node_label\": 5.079970958686604}, {\"x1\": 0.7333333333333334, \"x2\": 0.46666666666666656, \"predicted_node_label\": 5.067739691498947}, {\"x1\": 0.7333333333333334, \"x2\": 0.6000000000000001, \"predicted_node_label\": 3.0104857142857497}, {\"x1\": 0.7333333333333334, \"x2\": 0.7333333333333334, \"predicted_node_label\": 3.0104736142855026}, {\"x1\": 0.7333333333333334, \"x2\": 0.8666666666666667, \"predicted_node_label\": 2.049974879330502}, {\"x1\": 0.7333333333333334, \"x2\": 1.0, \"predicted_node_label\": 3.010477691754992}, {\"x1\": 0.8666666666666667, \"x2\": -1.0, \"predicted_node_label\": 3.0104857142857133}, {\"x1\": 0.8666666666666667, \"x2\": -0.8666666666666667, \"predicted_node_label\": 3.0104857142857133}, {\"x1\": 0.8666666666666667, \"x2\": -0.7333333333333334, \"predicted_node_label\": 3.0104857142857133}, {\"x1\": 0.8666666666666667, \"x2\": -0.6, \"predicted_node_label\": 3.0104857142857133}, {\"x1\": 0.8666666666666667, \"x2\": -0.4666666666666667, \"predicted_node_label\": 0.7550157882896353}, {\"x1\": 0.8666666666666667, \"x2\": -0.33333333333333337, \"predicted_node_label\": 3.0104857142857133}, {\"x1\": 0.8666666666666667, \"x2\": -0.19999999999999996, \"predicted_node_label\": 3.0104857142857133}, {\"x1\": 0.8666666666666667, \"x2\": -0.06666666666666665, \"predicted_node_label\": 3.0104857142857133}, {\"x1\": 0.8666666666666667, \"x2\": 0.06666666666666665, \"predicted_node_label\": 3.0104857142857133}, {\"x1\": 0.8666666666666667, \"x2\": 0.19999999999999996, \"predicted_node_label\": 3.010485714245027}, {\"x1\": 0.8666666666666667, \"x2\": 0.33333333333333326, \"predicted_node_label\": 3.0104857142857133}, {\"x1\": 0.8666666666666667, \"x2\": 0.46666666666666656, \"predicted_node_label\": 3.0104857142857133}, {\"x1\": 0.8666666666666667, \"x2\": 0.6000000000000001, \"predicted_node_label\": 3.0104857142857133}, {\"x1\": 0.8666666666666667, \"x2\": 0.7333333333333334, \"predicted_node_label\": 3.0104857139739423}, {\"x1\": 0.8666666666666667, \"x2\": 0.8666666666666667, \"predicted_node_label\": 0.25003864762758576}, {\"x1\": 0.8666666666666667, \"x2\": 1.0, \"predicted_node_label\": 3.010485714284966}, {\"x1\": 1.0, \"x2\": -1.0, \"predicted_node_label\": 3.0104857142857133}, {\"x1\": 1.0, \"x2\": -0.8666666666666667, \"predicted_node_label\": 3.0104857142857133}, {\"x1\": 1.0, \"x2\": -0.7333333333333334, \"predicted_node_label\": 3.0104857142857133}, {\"x1\": 1.0, \"x2\": -0.6, \"predicted_node_label\": 3.0104857142857133}, {\"x1\": 1.0, \"x2\": -0.4666666666666667, \"predicted_node_label\": 1.0140093168898539}, {\"x1\": 1.0, \"x2\": -0.33333333333333337, \"predicted_node_label\": 0.033347226646275645}, {\"x1\": 1.0, \"x2\": -0.19999999999999996, \"predicted_node_label\": 3.010485714285713}, {\"x1\": 1.0, \"x2\": -0.06666666666666665, \"predicted_node_label\": 0.41603632725834544}, {\"x1\": 1.0, \"x2\": 0.06666666666666665, \"predicted_node_label\": 0.6569835988466866}, {\"x1\": 1.0, \"x2\": 0.19999999999999996, \"predicted_node_label\": 1.2900240864627892}, {\"x1\": 1.0, \"x2\": 0.33333333333333326, \"predicted_node_label\": 3.0104857142857133}, {\"x1\": 1.0, \"x2\": 0.46666666666666656, \"predicted_node_label\": 3.0104857142857133}, {\"x1\": 1.0, \"x2\": 0.6000000000000001, \"predicted_node_label\": 3.0104857142857133}, {\"x1\": 1.0, \"x2\": 0.7333333333333334, \"predicted_node_label\": 3.0104857142857133}, {\"x1\": 1.0, \"x2\": 0.8666666666666667, \"predicted_node_label\": 2.3600091066725053}, {\"x1\": 1.0, \"x2\": 1.0, \"predicted_node_label\": 3.0104857142857133}]}}, {\"mode\": \"vega-lite\"});\n",
       "</script>"
      ],
      "text/plain": [
       "alt.Chart(...)"
      ]
     },
     "execution_count": 105,
     "metadata": {},
     "output_type": "execute_result"
    }
   ],
   "source": [
    "import altair as alt\n",
    "\n",
    "dfclassmap = pd.DataFrame(gtr.optimizedModel.matX, columns=[\"x1\",\"x2\"])\n",
    "dfclassmap[\"predicted_node_label\"] = gtr.node_label\n",
    "\n",
    "alt.Chart(dfclassmap).mark_square().encode(\n",
    "    x='x1',\n",
    "    y='x2',\n",
    "    color=alt.Color(\n",
    "        'predicted_node_label:Q',\n",
    "        scale = alt.Scale(scheme='greenblue'),\n",
    "        legend=alt.Legend(title=\"PCE\")\n",
    "    ),\n",
    "    size=alt.value(50),\n",
    "    tooltip=['x1','x2', 'predicted_node_label:Q']\n",
    ").properties(title=\"Dye-Sensitised Solar Cells\", width=200, height=200)"
   ]
  },
  {
   "cell_type": "code",
   "execution_count": null,
   "metadata": {},
   "outputs": [
    {
     "data": {
      "text/plain": [
       "(0.5932559500104309,\n",
       " 1.3763942858013114,\n",
       " 0.8199555459804353,\n",
       " 0.012036851053051523)"
      ]
     },
     "execution_count": 106,
     "metadata": {},
     "output_type": "execute_result"
    }
   ],
   "source": [
    "from sklearn.metrics import mean_absolute_error, r2_score\n",
    "\n",
    "Y_pred_train = gtr.predict(othr_train_X)\n",
    "Y_pred_test = gtr.predict(othr_test_X)\n",
    "\n",
    "mae_train = mean_absolute_error(othr_train_Y, Y_pred_train)\n",
    "mae_test = mean_absolute_error(othr_test_Y, Y_pred_test)\n",
    "\n",
    "r2_train = r2_score(othr_train_Y, Y_pred_train)\n",
    "r2_test = r2_score(othr_test_Y, Y_pred_test)\n",
    "\n",
    "mae_train, mae_test, r2_train, r2_test"
   ]
  }
 ],
 "metadata": {
  "interpreter": {
   "hash": "3b8ec48292f9edac753a52644039e260cac62e40bfe2d61360b00aa8a3ffa825"
  },
  "kernelspec": {
   "display_name": "Python 3 (ipykernel)",
   "language": "python",
   "name": "python3"
  },
  "language_info": {
   "codemirror_mode": {
    "name": "ipython",
    "version": 3
   },
   "file_extension": ".py",
   "mimetype": "text/x-python",
   "name": "python",
   "nbconvert_exporter": "python",
   "pygments_lexer": "ipython3",
   "version": "3.9.7"
  }
 },
 "nbformat": 4,
 "nbformat_minor": 2
}
