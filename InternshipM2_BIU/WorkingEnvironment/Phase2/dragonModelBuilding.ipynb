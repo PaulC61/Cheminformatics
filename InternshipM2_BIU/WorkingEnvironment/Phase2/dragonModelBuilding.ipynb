{
 "cells": [
  {
   "cell_type": "code",
   "execution_count": 8,
   "metadata": {},
   "outputs": [],
   "source": [
    "import pandas as pd\n",
    "import numpy as np "
   ]
  },
  {
   "cell_type": "markdown",
   "metadata": {},
   "source": [
    "Combine Dragon and Dye PCE Data"
   ]
  },
  {
   "cell_type": "code",
   "execution_count": 9,
   "metadata": {},
   "outputs": [],
   "source": [
    "dragonDescriptors = pd.read_csv('dragonReduced.csv', index_col=0)\n",
    "\n",
    "cols = list(dragonDescriptors.columns)\n",
    "\n",
    "dragonDescriptors.reset_index(drop=True, inplace=True)"
   ]
  },
  {
   "cell_type": "code",
   "execution_count": 10,
   "metadata": {},
   "outputs": [],
   "source": [
    "qikPharmDyeData = pd.read_csv('QikPropAnd3PointPharmFPDyeData.csv')\n",
    "\n",
    "qikPharmDyeData.reset_index(drop=True, inplace=True)\n"
   ]
  },
  {
   "cell_type": "code",
   "execution_count": 11,
   "metadata": {},
   "outputs": [
    {
     "data": {
      "text/html": [
       "<div>\n",
       "<style scoped>\n",
       "    .dataframe tbody tr th:only-of-type {\n",
       "        vertical-align: middle;\n",
       "    }\n",
       "\n",
       "    .dataframe tbody tr th {\n",
       "        vertical-align: top;\n",
       "    }\n",
       "\n",
       "    .dataframe thead th {\n",
       "        text-align: right;\n",
       "    }\n",
       "</style>\n",
       "<table border=\"1\" class=\"dataframe\">\n",
       "  <thead>\n",
       "    <tr style=\"text-align: right;\">\n",
       "      <th></th>\n",
       "      <th>NAME</th>\n",
       "      <th>MW</th>\n",
       "      <th>AMW</th>\n",
       "      <th>Mp</th>\n",
       "      <th>nTA</th>\n",
       "      <th>RBF</th>\n",
       "      <th>nDB</th>\n",
       "      <th>nTB</th>\n",
       "      <th>nAB</th>\n",
       "      <th>nN</th>\n",
       "      <th>...</th>\n",
       "      <th>s1_relPathLength_2</th>\n",
       "      <th>s2_numSharedNeighbors</th>\n",
       "      <th>s3_numSharedNeighbors</th>\n",
       "      <th>s2_numRotBonds</th>\n",
       "      <th>s3_numRotBonds</th>\n",
       "      <th>s1_numAroBonds</th>\n",
       "      <th>s2_numAroBonds</th>\n",
       "      <th>s3_numAroBonds</th>\n",
       "      <th>PCE</th>\n",
       "      <th>Molecule keywords</th>\n",
       "    </tr>\n",
       "  </thead>\n",
       "  <tbody>\n",
       "    <tr>\n",
       "      <th>0</th>\n",
       "      <td>10.1016/j.dyepig.2012.02.011</td>\n",
       "      <td>907.17</td>\n",
       "      <td>8.807476</td>\n",
       "      <td>0.747356</td>\n",
       "      <td>8</td>\n",
       "      <td>0.155963</td>\n",
       "      <td>6</td>\n",
       "      <td>4</td>\n",
       "      <td>34</td>\n",
       "      <td>6</td>\n",
       "      <td>...</td>\n",
       "      <td>0.0</td>\n",
       "      <td>0.0</td>\n",
       "      <td>0.000000</td>\n",
       "      <td>0.000000</td>\n",
       "      <td>0.000000</td>\n",
       "      <td>0</td>\n",
       "      <td>0.0</td>\n",
       "      <td>0.000000</td>\n",
       "      <td>5.19</td>\n",
       "      <td>phenothiazine</td>\n",
       "    </tr>\n",
       "    <tr>\n",
       "      <th>1</th>\n",
       "      <td>10.1039/c0ee00218f</td>\n",
       "      <td>987.28</td>\n",
       "      <td>8.092459</td>\n",
       "      <td>0.717684</td>\n",
       "      <td>9</td>\n",
       "      <td>0.130769</td>\n",
       "      <td>8</td>\n",
       "      <td>1</td>\n",
       "      <td>40</td>\n",
       "      <td>4</td>\n",
       "      <td>...</td>\n",
       "      <td>0.0</td>\n",
       "      <td>0.0</td>\n",
       "      <td>0.000000</td>\n",
       "      <td>0.000000</td>\n",
       "      <td>0.000000</td>\n",
       "      <td>0</td>\n",
       "      <td>0.0</td>\n",
       "      <td>0.000000</td>\n",
       "      <td>6.00</td>\n",
       "      <td>coumarin, triphenylamine</td>\n",
       "    </tr>\n",
       "    <tr>\n",
       "      <th>2</th>\n",
       "      <td>10.1039/c0ee00218f</td>\n",
       "      <td>905.15</td>\n",
       "      <td>7.870870</td>\n",
       "      <td>0.705637</td>\n",
       "      <td>9</td>\n",
       "      <td>0.131148</td>\n",
       "      <td>8</td>\n",
       "      <td>1</td>\n",
       "      <td>35</td>\n",
       "      <td>4</td>\n",
       "      <td>...</td>\n",
       "      <td>0.0</td>\n",
       "      <td>0.0</td>\n",
       "      <td>0.000000</td>\n",
       "      <td>0.000000</td>\n",
       "      <td>0.000000</td>\n",
       "      <td>0</td>\n",
       "      <td>0.0</td>\n",
       "      <td>0.000000</td>\n",
       "      <td>6.20</td>\n",
       "      <td>coumarin, triphenylamine</td>\n",
       "    </tr>\n",
       "    <tr>\n",
       "      <th>3</th>\n",
       "      <td>10.1039/c0ee00218f</td>\n",
       "      <td>823.02</td>\n",
       "      <td>7.620556</td>\n",
       "      <td>0.692030</td>\n",
       "      <td>9</td>\n",
       "      <td>0.131579</td>\n",
       "      <td>8</td>\n",
       "      <td>1</td>\n",
       "      <td>30</td>\n",
       "      <td>4</td>\n",
       "      <td>...</td>\n",
       "      <td>0.0</td>\n",
       "      <td>0.0</td>\n",
       "      <td>0.000000</td>\n",
       "      <td>0.000000</td>\n",
       "      <td>0.000000</td>\n",
       "      <td>0</td>\n",
       "      <td>0.0</td>\n",
       "      <td>0.000000</td>\n",
       "      <td>5.50</td>\n",
       "      <td>coumarin, triphenylamine</td>\n",
       "    </tr>\n",
       "    <tr>\n",
       "      <th>4</th>\n",
       "      <td>10.1016/j.jphotochem.2014.06.001</td>\n",
       "      <td>782.04</td>\n",
       "      <td>9.537073</td>\n",
       "      <td>0.738429</td>\n",
       "      <td>11</td>\n",
       "      <td>0.137931</td>\n",
       "      <td>11</td>\n",
       "      <td>0</td>\n",
       "      <td>11</td>\n",
       "      <td>3</td>\n",
       "      <td>...</td>\n",
       "      <td>0.0</td>\n",
       "      <td>0.0</td>\n",
       "      <td>12.666667</td>\n",
       "      <td>0.666667</td>\n",
       "      <td>4.333333</td>\n",
       "      <td>0</td>\n",
       "      <td>0.0</td>\n",
       "      <td>3.666667</td>\n",
       "      <td>1.39</td>\n",
       "      <td>coumarin</td>\n",
       "    </tr>\n",
       "    <tr>\n",
       "      <th>...</th>\n",
       "      <td>...</td>\n",
       "      <td>...</td>\n",
       "      <td>...</td>\n",
       "      <td>...</td>\n",
       "      <td>...</td>\n",
       "      <td>...</td>\n",
       "      <td>...</td>\n",
       "      <td>...</td>\n",
       "      <td>...</td>\n",
       "      <td>...</td>\n",
       "      <td>...</td>\n",
       "      <td>...</td>\n",
       "      <td>...</td>\n",
       "      <td>...</td>\n",
       "      <td>...</td>\n",
       "      <td>...</td>\n",
       "      <td>...</td>\n",
       "      <td>...</td>\n",
       "      <td>...</td>\n",
       "      <td>...</td>\n",
       "      <td>...</td>\n",
       "    </tr>\n",
       "    <tr>\n",
       "      <th>1458</th>\n",
       "      <td>10.1016/j.dyepig.2012.02.014</td>\n",
       "      <td>595.74</td>\n",
       "      <td>8.891642</td>\n",
       "      <td>0.730752</td>\n",
       "      <td>6</td>\n",
       "      <td>0.140845</td>\n",
       "      <td>2</td>\n",
       "      <td>1</td>\n",
       "      <td>28</td>\n",
       "      <td>3</td>\n",
       "      <td>...</td>\n",
       "      <td>0.0</td>\n",
       "      <td>0.0</td>\n",
       "      <td>0.000000</td>\n",
       "      <td>0.000000</td>\n",
       "      <td>0.000000</td>\n",
       "      <td>0</td>\n",
       "      <td>0.0</td>\n",
       "      <td>0.000000</td>\n",
       "      <td>0.41</td>\n",
       "      <td>triphenylamine</td>\n",
       "    </tr>\n",
       "    <tr>\n",
       "      <th>1459</th>\n",
       "      <td>10.1016/j.dyepig.2012.02.014</td>\n",
       "      <td>563.74</td>\n",
       "      <td>8.672923</td>\n",
       "      <td>0.739252</td>\n",
       "      <td>6</td>\n",
       "      <td>0.115942</td>\n",
       "      <td>2</td>\n",
       "      <td>1</td>\n",
       "      <td>28</td>\n",
       "      <td>3</td>\n",
       "      <td>...</td>\n",
       "      <td>0.0</td>\n",
       "      <td>0.0</td>\n",
       "      <td>0.000000</td>\n",
       "      <td>0.000000</td>\n",
       "      <td>0.000000</td>\n",
       "      <td>0</td>\n",
       "      <td>0.0</td>\n",
       "      <td>0.000000</td>\n",
       "      <td>0.44</td>\n",
       "      <td>triphenylamine</td>\n",
       "    </tr>\n",
       "    <tr>\n",
       "      <th>1460</th>\n",
       "      <td>10.1021/am403668d</td>\n",
       "      <td>665.84</td>\n",
       "      <td>7.481348</td>\n",
       "      <td>0.685335</td>\n",
       "      <td>5</td>\n",
       "      <td>0.182796</td>\n",
       "      <td>4</td>\n",
       "      <td>1</td>\n",
       "      <td>29</td>\n",
       "      <td>3</td>\n",
       "      <td>...</td>\n",
       "      <td>0.0</td>\n",
       "      <td>0.0</td>\n",
       "      <td>0.000000</td>\n",
       "      <td>0.000000</td>\n",
       "      <td>0.000000</td>\n",
       "      <td>0</td>\n",
       "      <td>0.0</td>\n",
       "      <td>0.000000</td>\n",
       "      <td>5.94</td>\n",
       "      <td>triphenylamine</td>\n",
       "    </tr>\n",
       "    <tr>\n",
       "      <th>1461</th>\n",
       "      <td>10.1021/am403668d</td>\n",
       "      <td>707.93</td>\n",
       "      <td>7.223776</td>\n",
       "      <td>0.676316</td>\n",
       "      <td>7</td>\n",
       "      <td>0.176471</td>\n",
       "      <td>4</td>\n",
       "      <td>1</td>\n",
       "      <td>29</td>\n",
       "      <td>3</td>\n",
       "      <td>...</td>\n",
       "      <td>0.0</td>\n",
       "      <td>0.0</td>\n",
       "      <td>0.000000</td>\n",
       "      <td>0.000000</td>\n",
       "      <td>0.000000</td>\n",
       "      <td>0</td>\n",
       "      <td>0.0</td>\n",
       "      <td>0.000000</td>\n",
       "      <td>5.88</td>\n",
       "      <td>triphenylamine</td>\n",
       "    </tr>\n",
       "    <tr>\n",
       "      <th>1462</th>\n",
       "      <td>10.1021/am403668d</td>\n",
       "      <td>1195.52</td>\n",
       "      <td>7.472000</td>\n",
       "      <td>0.687719</td>\n",
       "      <td>8</td>\n",
       "      <td>0.190476</td>\n",
       "      <td>7</td>\n",
       "      <td>2</td>\n",
       "      <td>52</td>\n",
       "      <td>6</td>\n",
       "      <td>...</td>\n",
       "      <td>0.0</td>\n",
       "      <td>0.0</td>\n",
       "      <td>0.000000</td>\n",
       "      <td>0.000000</td>\n",
       "      <td>0.000000</td>\n",
       "      <td>0</td>\n",
       "      <td>0.0</td>\n",
       "      <td>0.000000</td>\n",
       "      <td>6.00</td>\n",
       "      <td>triphenylamine</td>\n",
       "    </tr>\n",
       "  </tbody>\n",
       "</table>\n",
       "<p>1463 rows × 801 columns</p>\n",
       "</div>"
      ],
      "text/plain": [
       "                                  NAME       MW       AMW        Mp  nTA  \\\n",
       "0         10.1016/j.dyepig.2012.02.011   907.17  8.807476  0.747356    8   \n",
       "1                   10.1039/c0ee00218f   987.28  8.092459  0.717684    9   \n",
       "2                   10.1039/c0ee00218f   905.15  7.870870  0.705637    9   \n",
       "3                   10.1039/c0ee00218f   823.02  7.620556  0.692030    9   \n",
       "4     10.1016/j.jphotochem.2014.06.001   782.04  9.537073  0.738429   11   \n",
       "...                                ...      ...       ...       ...  ...   \n",
       "1458      10.1016/j.dyepig.2012.02.014   595.74  8.891642  0.730752    6   \n",
       "1459      10.1016/j.dyepig.2012.02.014   563.74  8.672923  0.739252    6   \n",
       "1460                 10.1021/am403668d   665.84  7.481348  0.685335    5   \n",
       "1461                 10.1021/am403668d   707.93  7.223776  0.676316    7   \n",
       "1462                 10.1021/am403668d  1195.52  7.472000  0.687719    8   \n",
       "\n",
       "           RBF  nDB  nTB  nAB  nN  ...  s1_relPathLength_2  \\\n",
       "0     0.155963    6    4   34   6  ...                 0.0   \n",
       "1     0.130769    8    1   40   4  ...                 0.0   \n",
       "2     0.131148    8    1   35   4  ...                 0.0   \n",
       "3     0.131579    8    1   30   4  ...                 0.0   \n",
       "4     0.137931   11    0   11   3  ...                 0.0   \n",
       "...        ...  ...  ...  ...  ..  ...                 ...   \n",
       "1458  0.140845    2    1   28   3  ...                 0.0   \n",
       "1459  0.115942    2    1   28   3  ...                 0.0   \n",
       "1460  0.182796    4    1   29   3  ...                 0.0   \n",
       "1461  0.176471    4    1   29   3  ...                 0.0   \n",
       "1462  0.190476    7    2   52   6  ...                 0.0   \n",
       "\n",
       "      s2_numSharedNeighbors  s3_numSharedNeighbors  s2_numRotBonds  \\\n",
       "0                       0.0               0.000000        0.000000   \n",
       "1                       0.0               0.000000        0.000000   \n",
       "2                       0.0               0.000000        0.000000   \n",
       "3                       0.0               0.000000        0.000000   \n",
       "4                       0.0              12.666667        0.666667   \n",
       "...                     ...                    ...             ...   \n",
       "1458                    0.0               0.000000        0.000000   \n",
       "1459                    0.0               0.000000        0.000000   \n",
       "1460                    0.0               0.000000        0.000000   \n",
       "1461                    0.0               0.000000        0.000000   \n",
       "1462                    0.0               0.000000        0.000000   \n",
       "\n",
       "      s3_numRotBonds  s1_numAroBonds  s2_numAroBonds  s3_numAroBonds   PCE  \\\n",
       "0           0.000000               0             0.0        0.000000  5.19   \n",
       "1           0.000000               0             0.0        0.000000  6.00   \n",
       "2           0.000000               0             0.0        0.000000  6.20   \n",
       "3           0.000000               0             0.0        0.000000  5.50   \n",
       "4           4.333333               0             0.0        3.666667  1.39   \n",
       "...              ...             ...             ...             ...   ...   \n",
       "1458        0.000000               0             0.0        0.000000  0.41   \n",
       "1459        0.000000               0             0.0        0.000000  0.44   \n",
       "1460        0.000000               0             0.0        0.000000  5.94   \n",
       "1461        0.000000               0             0.0        0.000000  5.88   \n",
       "1462        0.000000               0             0.0        0.000000  6.00   \n",
       "\n",
       "             Molecule keywords  \n",
       "0                phenothiazine  \n",
       "1     coumarin, triphenylamine  \n",
       "2     coumarin, triphenylamine  \n",
       "3     coumarin, triphenylamine  \n",
       "4                     coumarin  \n",
       "...                        ...  \n",
       "1458            triphenylamine  \n",
       "1459            triphenylamine  \n",
       "1460            triphenylamine  \n",
       "1461            triphenylamine  \n",
       "1462            triphenylamine  \n",
       "\n",
       "[1463 rows x 801 columns]"
      ]
     },
     "execution_count": 11,
     "metadata": {},
     "output_type": "execute_result"
    }
   ],
   "source": [
    "dragonDatset = pd.concat([dragonDescriptors[cols[:]], qikPharmDyeData['PCE'], qikPharmDyeData['Molecule keywords']], axis=1)\n",
    "\n",
    "dragonDatset\n"
   ]
  },
  {
   "cell_type": "code",
   "execution_count": 12,
   "metadata": {},
   "outputs": [
    {
     "data": {
      "text/plain": [
       "((1170, 801), (293, 801))"
      ]
     },
     "execution_count": 12,
     "metadata": {},
     "output_type": "execute_result"
    }
   ],
   "source": [
    "from sklearn.model_selection import train_test_split\n",
    "\n",
    "modelSet, evalSet = train_test_split(dragonDatset, test_size=0.2, random_state=0)\n",
    "\n",
    "evalSetCols = list(evalSet.columns)\n",
    "\n",
    "evalSet_X = evalSet[evalSetCols[1:799]] # X values for all\n",
    "evalSet_Y = evalSet['PCE']\n",
    "\n",
    "modelSet.shape, evalSet.shape\n"
   ]
  },
  {
   "cell_type": "markdown",
   "metadata": {},
   "source": [
    "Family Datasets"
   ]
  },
  {
   "cell_type": "code",
   "execution_count": 13,
   "metadata": {},
   "outputs": [],
   "source": [
    "def splitDataset(globalDf, familyList):\n",
    "    familyDfs = []\n",
    "    for i in range(len(familyList)):\n",
    "        familyDfs.append(globalDf.loc[(globalDf['Molecule keywords'].str.contains(familyList[i]))])\n",
    "    familyDfs.append(\n",
    "        globalDf.loc[\n",
    "            (~globalDf['Molecule keywords'].str.contains('triphenylamine')) \n",
    "                            & (~globalDf['Molecule keywords'].str.contains('phenothiazine')) \n",
    "                            & (~globalDf['Molecule keywords'].str.contains('carbazole')) \n",
    "                            & (~globalDf['Molecule keywords'].str.contains('indoline')) \n",
    "                            & (~globalDf['Molecule keywords'].str.contains('coumarin')) \n",
    "                            & (~globalDf['Molecule keywords'].str.contains('diphenylamine'))\n",
    "        ]\n",
    "    )\n",
    "    return familyDfs"
   ]
  },
  {
   "cell_type": "markdown",
   "metadata": {},
   "source": [
    "Get Specific Descriptors"
   ]
  },
  {
   "cell_type": "code",
   "execution_count": 14,
   "metadata": {},
   "outputs": [],
   "source": [
    "def getDragonDescriptors(dataframe):\n",
    "    cols = list(dataframe.columns)\n",
    "    X = dataframe[cols[1:799]]\n",
    "    return X"
   ]
  },
  {
   "cell_type": "markdown",
   "metadata": {},
   "source": [
    "Scaling Data"
   ]
  },
  {
   "cell_type": "code",
   "execution_count": 15,
   "metadata": {},
   "outputs": [],
   "source": [
    "from sklearn.preprocessing import StandardScaler\n",
    "\n",
    "def scaleData(X_data):\n",
    "    scaled_array = StandardScaler().fit_transform(X_data)\n",
    "    scaledDataFrame = pd.DataFrame(scaled_array, index=X_data.index, columns=X_data.columns)\n",
    "    return scaledDataFrame"
   ]
  },
  {
   "cell_type": "markdown",
   "metadata": {},
   "source": [
    "Reduce the number of features for each family"
   ]
  },
  {
   "cell_type": "code",
   "execution_count": null,
   "metadata": {},
   "outputs": [],
   "source": []
  },
  {
   "cell_type": "code",
   "execution_count": 16,
   "metadata": {},
   "outputs": [],
   "source": [
    "cmpdFamList= ['triphenylamine', 'phenothiazine', 'carbazole', 'indoline', 'coumarin', 'diphenylamine']\n",
    "cmpdFamList\n",
    "familyDfs = splitDataset(modelSet, cmpdFamList)"
   ]
  },
  {
   "cell_type": "code",
   "execution_count": 26,
   "metadata": {},
   "outputs": [
    {
     "data": {
      "text/plain": [
       "((936, 798),\n",
       " (176, 798),\n",
       " (124, 798),\n",
       " (66, 798),\n",
       " (32, 798),\n",
       " (18, 798),\n",
       " (140, 798))"
      ]
     },
     "execution_count": 26,
     "metadata": {},
     "output_type": "execute_result"
    }
   ],
   "source": [
    "glob_train_X, glob_test_X, glob_train_Y, glob_test_Y = train_test_split(scaleData(getDragonDescriptors(modelSet)), modelSet['PCE'], test_size=0.2, random_state=0)\n",
    "triph_train_X, triph_test_X, triph_train_Y, triph_test_Y = train_test_split(scaleData(getDragonDescriptors(familyDfs[0])), familyDfs[0]['PCE'], test_size=0.2, random_state=0)\n",
    "phen_train_X, phen_test_X, phen_train_Y, phen_test_Y = train_test_split(scaleData(getDragonDescriptors(familyDfs[1])), familyDfs[1]['PCE'], test_size=0.2, random_state=0)\n",
    "carb_train_X, carb_test_X, carb_train_Y, carb_test_Y = train_test_split(scaleData(getDragonDescriptors(familyDfs[2])), familyDfs[2]['PCE'], test_size=0.2, random_state=0)\n",
    "indo_train_X, indo_test_X, indo_train_Y, indo_test_Y = train_test_split(scaleData(getDragonDescriptors(familyDfs[3])), familyDfs[3]['PCE'], test_size=0.2, random_state=0)\n",
    "coum_train_X, coum_test_X, coum_train_Y, coum_test_Y = train_test_split(scaleData(getDragonDescriptors(familyDfs[4])), familyDfs[4]['PCE'], test_size=0.2, random_state=0)\n",
    "diph_train_X, diph_test_X, diph_train_Y, diph_test_Y = train_test_split(scaleData(getDragonDescriptors(familyDfs[5])), familyDfs[5]['PCE'], test_size=0.2, random_state=0)\n",
    "othr_train_X, othr_test_X, othr_train_Y, othr_test_Y = train_test_split(scaleData(getDragonDescriptors(familyDfs[6])), familyDfs[6]['PCE'], test_size=0.2, random_state=0)\n",
    "\n",
    "glob_train_X.shape, phen_train_X.shape, carb_train_X.shape, indo_train_X.shape, coum_train_X.shape, diph_train_X.shape, othr_train_X.shape"
   ]
  },
  {
   "cell_type": "markdown",
   "metadata": {},
   "source": [
    "Feature Selection"
   ]
  },
  {
   "cell_type": "markdown",
   "metadata": {},
   "source": [
    "RFE With SVR and RFR"
   ]
  },
  {
   "cell_type": "code",
   "execution_count": 18,
   "metadata": {},
   "outputs": [
    {
     "ename": "KeyboardInterrupt",
     "evalue": "",
     "output_type": "error",
     "traceback": [
      "\u001b[1;31m---------------------------------------------------------------------------\u001b[0m",
      "\u001b[1;31mKeyboardInterrupt\u001b[0m                         Traceback (most recent call last)",
      "\u001b[1;32mc:\\Users\\Paul\\Git\\Cheminformatics\\InternshipM2_BIU\\WorkingEnvironment\\Phase2\\dragonModelBuilding.ipynb Cell 19'\u001b[0m in \u001b[0;36m<module>\u001b[1;34m\u001b[0m\n\u001b[0;32m     <a href='vscode-notebook-cell:/c%3A/Users/Paul/Git/Cheminformatics/InternshipM2_BIU/WorkingEnvironment/Phase2/dragonModelBuilding.ipynb#ch0000018?line=10'>11</a>\u001b[0m min_features \u001b[39m=\u001b[39m \u001b[39m1\u001b[39m\n\u001b[0;32m     <a href='vscode-notebook-cell:/c%3A/Users/Paul/Git/Cheminformatics/InternshipM2_BIU/WorkingEnvironment/Phase2/dragonModelBuilding.ipynb#ch0000018?line=11'>12</a>\u001b[0m rfecv \u001b[39m=\u001b[39m RFECV(estimator\u001b[39m=\u001b[39mrfr, step\u001b[39m=\u001b[39m\u001b[39m1\u001b[39m, cv\u001b[39m=\u001b[39m\u001b[39m2\u001b[39m, scoring\u001b[39m=\u001b[39m\u001b[39m'\u001b[39m\u001b[39mr2\u001b[39m\u001b[39m'\u001b[39m, min_features_to_select\u001b[39m=\u001b[39mmin_features)\n\u001b[1;32m---> <a href='vscode-notebook-cell:/c%3A/Users/Paul/Git/Cheminformatics/InternshipM2_BIU/WorkingEnvironment/Phase2/dragonModelBuilding.ipynb#ch0000018?line=13'>14</a>\u001b[0m rfecv\u001b[39m.\u001b[39;49mfit(othr_train_X, othr_train_Y)\n",
      "File \u001b[1;32m~\\AppData\\Local\\Programs\\Python\\Python38-32\\lib\\site-packages\\sklearn\\feature_selection\\_rfe.py:710\u001b[0m, in \u001b[0;36mRFECV.fit\u001b[1;34m(self, X, y, groups)\u001b[0m\n\u001b[0;32m    <a href='file:///~/AppData/Local/Programs/Python/Python38-32/lib/site-packages/sklearn/feature_selection/_rfe.py?line=706'>707</a>\u001b[0m     parallel \u001b[39m=\u001b[39m Parallel(n_jobs\u001b[39m=\u001b[39m\u001b[39mself\u001b[39m\u001b[39m.\u001b[39mn_jobs)\n\u001b[0;32m    <a href='file:///~/AppData/Local/Programs/Python/Python38-32/lib/site-packages/sklearn/feature_selection/_rfe.py?line=707'>708</a>\u001b[0m     func \u001b[39m=\u001b[39m delayed(_rfe_single_fit)\n\u001b[1;32m--> <a href='file:///~/AppData/Local/Programs/Python/Python38-32/lib/site-packages/sklearn/feature_selection/_rfe.py?line=709'>710</a>\u001b[0m scores \u001b[39m=\u001b[39m parallel(\n\u001b[0;32m    <a href='file:///~/AppData/Local/Programs/Python/Python38-32/lib/site-packages/sklearn/feature_selection/_rfe.py?line=710'>711</a>\u001b[0m     func(rfe, \u001b[39mself\u001b[39;49m\u001b[39m.\u001b[39;49mestimator, X, y, train, test, scorer)\n\u001b[0;32m    <a href='file:///~/AppData/Local/Programs/Python/Python38-32/lib/site-packages/sklearn/feature_selection/_rfe.py?line=711'>712</a>\u001b[0m     \u001b[39mfor\u001b[39;49;00m train, test \u001b[39min\u001b[39;49;00m cv\u001b[39m.\u001b[39;49msplit(X, y, groups)\n\u001b[0;32m    <a href='file:///~/AppData/Local/Programs/Python/Python38-32/lib/site-packages/sklearn/feature_selection/_rfe.py?line=712'>713</a>\u001b[0m )\n\u001b[0;32m    <a href='file:///~/AppData/Local/Programs/Python/Python38-32/lib/site-packages/sklearn/feature_selection/_rfe.py?line=714'>715</a>\u001b[0m scores \u001b[39m=\u001b[39m np\u001b[39m.\u001b[39marray(scores)\n\u001b[0;32m    <a href='file:///~/AppData/Local/Programs/Python/Python38-32/lib/site-packages/sklearn/feature_selection/_rfe.py?line=715'>716</a>\u001b[0m scores_sum \u001b[39m=\u001b[39m np\u001b[39m.\u001b[39msum(scores, axis\u001b[39m=\u001b[39m\u001b[39m0\u001b[39m)\n",
      "File \u001b[1;32m~\\AppData\\Local\\Programs\\Python\\Python38-32\\lib\\site-packages\\sklearn\\feature_selection\\_rfe.py:711\u001b[0m, in \u001b[0;36m<genexpr>\u001b[1;34m(.0)\u001b[0m\n\u001b[0;32m    <a href='file:///~/AppData/Local/Programs/Python/Python38-32/lib/site-packages/sklearn/feature_selection/_rfe.py?line=706'>707</a>\u001b[0m     parallel \u001b[39m=\u001b[39m Parallel(n_jobs\u001b[39m=\u001b[39m\u001b[39mself\u001b[39m\u001b[39m.\u001b[39mn_jobs)\n\u001b[0;32m    <a href='file:///~/AppData/Local/Programs/Python/Python38-32/lib/site-packages/sklearn/feature_selection/_rfe.py?line=707'>708</a>\u001b[0m     func \u001b[39m=\u001b[39m delayed(_rfe_single_fit)\n\u001b[0;32m    <a href='file:///~/AppData/Local/Programs/Python/Python38-32/lib/site-packages/sklearn/feature_selection/_rfe.py?line=709'>710</a>\u001b[0m scores \u001b[39m=\u001b[39m parallel(\n\u001b[1;32m--> <a href='file:///~/AppData/Local/Programs/Python/Python38-32/lib/site-packages/sklearn/feature_selection/_rfe.py?line=710'>711</a>\u001b[0m     func(rfe, \u001b[39mself\u001b[39;49m\u001b[39m.\u001b[39;49mestimator, X, y, train, test, scorer)\n\u001b[0;32m    <a href='file:///~/AppData/Local/Programs/Python/Python38-32/lib/site-packages/sklearn/feature_selection/_rfe.py?line=711'>712</a>\u001b[0m     \u001b[39mfor\u001b[39;00m train, test \u001b[39min\u001b[39;00m cv\u001b[39m.\u001b[39msplit(X, y, groups)\n\u001b[0;32m    <a href='file:///~/AppData/Local/Programs/Python/Python38-32/lib/site-packages/sklearn/feature_selection/_rfe.py?line=712'>713</a>\u001b[0m )\n\u001b[0;32m    <a href='file:///~/AppData/Local/Programs/Python/Python38-32/lib/site-packages/sklearn/feature_selection/_rfe.py?line=714'>715</a>\u001b[0m scores \u001b[39m=\u001b[39m np\u001b[39m.\u001b[39marray(scores)\n\u001b[0;32m    <a href='file:///~/AppData/Local/Programs/Python/Python38-32/lib/site-packages/sklearn/feature_selection/_rfe.py?line=715'>716</a>\u001b[0m scores_sum \u001b[39m=\u001b[39m np\u001b[39m.\u001b[39msum(scores, axis\u001b[39m=\u001b[39m\u001b[39m0\u001b[39m)\n",
      "File \u001b[1;32m~\\AppData\\Local\\Programs\\Python\\Python38-32\\lib\\site-packages\\sklearn\\feature_selection\\_rfe.py:37\u001b[0m, in \u001b[0;36m_rfe_single_fit\u001b[1;34m(rfe, estimator, X, y, train, test, scorer)\u001b[0m\n\u001b[0;32m     <a href='file:///~/AppData/Local/Programs/Python/Python38-32/lib/site-packages/sklearn/feature_selection/_rfe.py?line=34'>35</a>\u001b[0m X_train, y_train \u001b[39m=\u001b[39m _safe_split(estimator, X, y, train)\n\u001b[0;32m     <a href='file:///~/AppData/Local/Programs/Python/Python38-32/lib/site-packages/sklearn/feature_selection/_rfe.py?line=35'>36</a>\u001b[0m X_test, y_test \u001b[39m=\u001b[39m _safe_split(estimator, X, y, test, train)\n\u001b[1;32m---> <a href='file:///~/AppData/Local/Programs/Python/Python38-32/lib/site-packages/sklearn/feature_selection/_rfe.py?line=36'>37</a>\u001b[0m \u001b[39mreturn\u001b[39;00m rfe\u001b[39m.\u001b[39;49m_fit(\n\u001b[0;32m     <a href='file:///~/AppData/Local/Programs/Python/Python38-32/lib/site-packages/sklearn/feature_selection/_rfe.py?line=37'>38</a>\u001b[0m     X_train,\n\u001b[0;32m     <a href='file:///~/AppData/Local/Programs/Python/Python38-32/lib/site-packages/sklearn/feature_selection/_rfe.py?line=38'>39</a>\u001b[0m     y_train,\n\u001b[0;32m     <a href='file:///~/AppData/Local/Programs/Python/Python38-32/lib/site-packages/sklearn/feature_selection/_rfe.py?line=39'>40</a>\u001b[0m     \u001b[39mlambda\u001b[39;49;00m estimator, features: _score(\n\u001b[0;32m     <a href='file:///~/AppData/Local/Programs/Python/Python38-32/lib/site-packages/sklearn/feature_selection/_rfe.py?line=40'>41</a>\u001b[0m         estimator, X_test[:, features], y_test, scorer\n\u001b[0;32m     <a href='file:///~/AppData/Local/Programs/Python/Python38-32/lib/site-packages/sklearn/feature_selection/_rfe.py?line=41'>42</a>\u001b[0m     ),\n\u001b[0;32m     <a href='file:///~/AppData/Local/Programs/Python/Python38-32/lib/site-packages/sklearn/feature_selection/_rfe.py?line=42'>43</a>\u001b[0m )\u001b[39m.\u001b[39mscores_\n",
      "File \u001b[1;32m~\\AppData\\Local\\Programs\\Python\\Python38-32\\lib\\site-packages\\sklearn\\feature_selection\\_rfe.py:283\u001b[0m, in \u001b[0;36mRFE._fit\u001b[1;34m(self, X, y, step_score, **fit_params)\u001b[0m\n\u001b[0;32m    <a href='file:///~/AppData/Local/Programs/Python/Python38-32/lib/site-packages/sklearn/feature_selection/_rfe.py?line=279'>280</a>\u001b[0m \u001b[39mif\u001b[39;00m \u001b[39mself\u001b[39m\u001b[39m.\u001b[39mverbose \u001b[39m>\u001b[39m \u001b[39m0\u001b[39m:\n\u001b[0;32m    <a href='file:///~/AppData/Local/Programs/Python/Python38-32/lib/site-packages/sklearn/feature_selection/_rfe.py?line=280'>281</a>\u001b[0m     \u001b[39mprint\u001b[39m(\u001b[39m\"\u001b[39m\u001b[39mFitting estimator with \u001b[39m\u001b[39m%d\u001b[39;00m\u001b[39m features.\u001b[39m\u001b[39m\"\u001b[39m \u001b[39m%\u001b[39m np\u001b[39m.\u001b[39msum(support_))\n\u001b[1;32m--> <a href='file:///~/AppData/Local/Programs/Python/Python38-32/lib/site-packages/sklearn/feature_selection/_rfe.py?line=282'>283</a>\u001b[0m estimator\u001b[39m.\u001b[39;49mfit(X[:, features], y, \u001b[39m*\u001b[39;49m\u001b[39m*\u001b[39;49mfit_params)\n\u001b[0;32m    <a href='file:///~/AppData/Local/Programs/Python/Python38-32/lib/site-packages/sklearn/feature_selection/_rfe.py?line=284'>285</a>\u001b[0m \u001b[39m# Get importance and rank them\u001b[39;00m\n\u001b[0;32m    <a href='file:///~/AppData/Local/Programs/Python/Python38-32/lib/site-packages/sklearn/feature_selection/_rfe.py?line=285'>286</a>\u001b[0m importances \u001b[39m=\u001b[39m _get_feature_importances(\n\u001b[0;32m    <a href='file:///~/AppData/Local/Programs/Python/Python38-32/lib/site-packages/sklearn/feature_selection/_rfe.py?line=286'>287</a>\u001b[0m     estimator,\n\u001b[0;32m    <a href='file:///~/AppData/Local/Programs/Python/Python38-32/lib/site-packages/sklearn/feature_selection/_rfe.py?line=287'>288</a>\u001b[0m     \u001b[39mself\u001b[39m\u001b[39m.\u001b[39mimportance_getter,\n\u001b[0;32m    <a href='file:///~/AppData/Local/Programs/Python/Python38-32/lib/site-packages/sklearn/feature_selection/_rfe.py?line=288'>289</a>\u001b[0m     transform_func\u001b[39m=\u001b[39m\u001b[39m\"\u001b[39m\u001b[39msquare\u001b[39m\u001b[39m\"\u001b[39m,\n\u001b[0;32m    <a href='file:///~/AppData/Local/Programs/Python/Python38-32/lib/site-packages/sklearn/feature_selection/_rfe.py?line=289'>290</a>\u001b[0m )\n",
      "File \u001b[1;32m~\\AppData\\Local\\Programs\\Python\\Python38-32\\lib\\site-packages\\sklearn\\ensemble\\_forest.py:450\u001b[0m, in \u001b[0;36mBaseForest.fit\u001b[1;34m(self, X, y, sample_weight)\u001b[0m\n\u001b[0;32m    <a href='file:///~/AppData/Local/Programs/Python/Python38-32/lib/site-packages/sklearn/ensemble/_forest.py?line=438'>439</a>\u001b[0m trees \u001b[39m=\u001b[39m [\n\u001b[0;32m    <a href='file:///~/AppData/Local/Programs/Python/Python38-32/lib/site-packages/sklearn/ensemble/_forest.py?line=439'>440</a>\u001b[0m     \u001b[39mself\u001b[39m\u001b[39m.\u001b[39m_make_estimator(append\u001b[39m=\u001b[39m\u001b[39mFalse\u001b[39;00m, random_state\u001b[39m=\u001b[39mrandom_state)\n\u001b[0;32m    <a href='file:///~/AppData/Local/Programs/Python/Python38-32/lib/site-packages/sklearn/ensemble/_forest.py?line=440'>441</a>\u001b[0m     \u001b[39mfor\u001b[39;00m i \u001b[39min\u001b[39;00m \u001b[39mrange\u001b[39m(n_more_estimators)\n\u001b[0;32m    <a href='file:///~/AppData/Local/Programs/Python/Python38-32/lib/site-packages/sklearn/ensemble/_forest.py?line=441'>442</a>\u001b[0m ]\n\u001b[0;32m    <a href='file:///~/AppData/Local/Programs/Python/Python38-32/lib/site-packages/sklearn/ensemble/_forest.py?line=443'>444</a>\u001b[0m \u001b[39m# Parallel loop: we prefer the threading backend as the Cython code\u001b[39;00m\n\u001b[0;32m    <a href='file:///~/AppData/Local/Programs/Python/Python38-32/lib/site-packages/sklearn/ensemble/_forest.py?line=444'>445</a>\u001b[0m \u001b[39m# for fitting the trees is internally releasing the Python GIL\u001b[39;00m\n\u001b[0;32m    <a href='file:///~/AppData/Local/Programs/Python/Python38-32/lib/site-packages/sklearn/ensemble/_forest.py?line=445'>446</a>\u001b[0m \u001b[39m# making threading more efficient than multiprocessing in\u001b[39;00m\n\u001b[0;32m    <a href='file:///~/AppData/Local/Programs/Python/Python38-32/lib/site-packages/sklearn/ensemble/_forest.py?line=446'>447</a>\u001b[0m \u001b[39m# that case. However, for joblib 0.12+ we respect any\u001b[39;00m\n\u001b[0;32m    <a href='file:///~/AppData/Local/Programs/Python/Python38-32/lib/site-packages/sklearn/ensemble/_forest.py?line=447'>448</a>\u001b[0m \u001b[39m# parallel_backend contexts set at a higher level,\u001b[39;00m\n\u001b[0;32m    <a href='file:///~/AppData/Local/Programs/Python/Python38-32/lib/site-packages/sklearn/ensemble/_forest.py?line=448'>449</a>\u001b[0m \u001b[39m# since correctness does not rely on using threads.\u001b[39;00m\n\u001b[1;32m--> <a href='file:///~/AppData/Local/Programs/Python/Python38-32/lib/site-packages/sklearn/ensemble/_forest.py?line=449'>450</a>\u001b[0m trees \u001b[39m=\u001b[39m Parallel(\n\u001b[0;32m    <a href='file:///~/AppData/Local/Programs/Python/Python38-32/lib/site-packages/sklearn/ensemble/_forest.py?line=450'>451</a>\u001b[0m     n_jobs\u001b[39m=\u001b[39;49m\u001b[39mself\u001b[39;49m\u001b[39m.\u001b[39;49mn_jobs,\n\u001b[0;32m    <a href='file:///~/AppData/Local/Programs/Python/Python38-32/lib/site-packages/sklearn/ensemble/_forest.py?line=451'>452</a>\u001b[0m     verbose\u001b[39m=\u001b[39;49m\u001b[39mself\u001b[39;49m\u001b[39m.\u001b[39;49mverbose,\n\u001b[0;32m    <a href='file:///~/AppData/Local/Programs/Python/Python38-32/lib/site-packages/sklearn/ensemble/_forest.py?line=452'>453</a>\u001b[0m     \u001b[39m*\u001b[39;49m\u001b[39m*\u001b[39;49m_joblib_parallel_args(prefer\u001b[39m=\u001b[39;49m\u001b[39m\"\u001b[39;49m\u001b[39mthreads\u001b[39;49m\u001b[39m\"\u001b[39;49m),\n\u001b[0;32m    <a href='file:///~/AppData/Local/Programs/Python/Python38-32/lib/site-packages/sklearn/ensemble/_forest.py?line=453'>454</a>\u001b[0m )(\n\u001b[0;32m    <a href='file:///~/AppData/Local/Programs/Python/Python38-32/lib/site-packages/sklearn/ensemble/_forest.py?line=454'>455</a>\u001b[0m     delayed(_parallel_build_trees)(\n\u001b[0;32m    <a href='file:///~/AppData/Local/Programs/Python/Python38-32/lib/site-packages/sklearn/ensemble/_forest.py?line=455'>456</a>\u001b[0m         t,\n\u001b[0;32m    <a href='file:///~/AppData/Local/Programs/Python/Python38-32/lib/site-packages/sklearn/ensemble/_forest.py?line=456'>457</a>\u001b[0m         \u001b[39mself\u001b[39;49m,\n\u001b[0;32m    <a href='file:///~/AppData/Local/Programs/Python/Python38-32/lib/site-packages/sklearn/ensemble/_forest.py?line=457'>458</a>\u001b[0m         X,\n\u001b[0;32m    <a href='file:///~/AppData/Local/Programs/Python/Python38-32/lib/site-packages/sklearn/ensemble/_forest.py?line=458'>459</a>\u001b[0m         y,\n\u001b[0;32m    <a href='file:///~/AppData/Local/Programs/Python/Python38-32/lib/site-packages/sklearn/ensemble/_forest.py?line=459'>460</a>\u001b[0m         sample_weight,\n\u001b[0;32m    <a href='file:///~/AppData/Local/Programs/Python/Python38-32/lib/site-packages/sklearn/ensemble/_forest.py?line=460'>461</a>\u001b[0m         i,\n\u001b[0;32m    <a href='file:///~/AppData/Local/Programs/Python/Python38-32/lib/site-packages/sklearn/ensemble/_forest.py?line=461'>462</a>\u001b[0m         \u001b[39mlen\u001b[39;49m(trees),\n\u001b[0;32m    <a href='file:///~/AppData/Local/Programs/Python/Python38-32/lib/site-packages/sklearn/ensemble/_forest.py?line=462'>463</a>\u001b[0m         verbose\u001b[39m=\u001b[39;49m\u001b[39mself\u001b[39;49m\u001b[39m.\u001b[39;49mverbose,\n\u001b[0;32m    <a href='file:///~/AppData/Local/Programs/Python/Python38-32/lib/site-packages/sklearn/ensemble/_forest.py?line=463'>464</a>\u001b[0m         class_weight\u001b[39m=\u001b[39;49m\u001b[39mself\u001b[39;49m\u001b[39m.\u001b[39;49mclass_weight,\n\u001b[0;32m    <a href='file:///~/AppData/Local/Programs/Python/Python38-32/lib/site-packages/sklearn/ensemble/_forest.py?line=464'>465</a>\u001b[0m         n_samples_bootstrap\u001b[39m=\u001b[39;49mn_samples_bootstrap,\n\u001b[0;32m    <a href='file:///~/AppData/Local/Programs/Python/Python38-32/lib/site-packages/sklearn/ensemble/_forest.py?line=465'>466</a>\u001b[0m     )\n\u001b[0;32m    <a href='file:///~/AppData/Local/Programs/Python/Python38-32/lib/site-packages/sklearn/ensemble/_forest.py?line=466'>467</a>\u001b[0m     \u001b[39mfor\u001b[39;49;00m i, t \u001b[39min\u001b[39;49;00m \u001b[39menumerate\u001b[39;49m(trees)\n\u001b[0;32m    <a href='file:///~/AppData/Local/Programs/Python/Python38-32/lib/site-packages/sklearn/ensemble/_forest.py?line=467'>468</a>\u001b[0m )\n\u001b[0;32m    <a href='file:///~/AppData/Local/Programs/Python/Python38-32/lib/site-packages/sklearn/ensemble/_forest.py?line=469'>470</a>\u001b[0m \u001b[39m# Collect newly grown trees\u001b[39;00m\n\u001b[0;32m    <a href='file:///~/AppData/Local/Programs/Python/Python38-32/lib/site-packages/sklearn/ensemble/_forest.py?line=470'>471</a>\u001b[0m \u001b[39mself\u001b[39m\u001b[39m.\u001b[39mestimators_\u001b[39m.\u001b[39mextend(trees)\n",
      "File \u001b[1;32m~\\AppData\\Local\\Programs\\Python\\Python38-32\\lib\\site-packages\\joblib\\parallel.py:1046\u001b[0m, in \u001b[0;36mParallel.__call__\u001b[1;34m(self, iterable)\u001b[0m\n\u001b[0;32m   <a href='file:///~/AppData/Local/Programs/Python/Python38-32/lib/site-packages/joblib/parallel.py?line=1042'>1043</a>\u001b[0m \u001b[39mif\u001b[39;00m \u001b[39mself\u001b[39m\u001b[39m.\u001b[39mdispatch_one_batch(iterator):\n\u001b[0;32m   <a href='file:///~/AppData/Local/Programs/Python/Python38-32/lib/site-packages/joblib/parallel.py?line=1043'>1044</a>\u001b[0m     \u001b[39mself\u001b[39m\u001b[39m.\u001b[39m_iterating \u001b[39m=\u001b[39m \u001b[39mself\u001b[39m\u001b[39m.\u001b[39m_original_iterator \u001b[39mis\u001b[39;00m \u001b[39mnot\u001b[39;00m \u001b[39mNone\u001b[39;00m\n\u001b[1;32m-> <a href='file:///~/AppData/Local/Programs/Python/Python38-32/lib/site-packages/joblib/parallel.py?line=1045'>1046</a>\u001b[0m \u001b[39mwhile\u001b[39;00m \u001b[39mself\u001b[39;49m\u001b[39m.\u001b[39;49mdispatch_one_batch(iterator):\n\u001b[0;32m   <a href='file:///~/AppData/Local/Programs/Python/Python38-32/lib/site-packages/joblib/parallel.py?line=1046'>1047</a>\u001b[0m     \u001b[39mpass\u001b[39;00m\n\u001b[0;32m   <a href='file:///~/AppData/Local/Programs/Python/Python38-32/lib/site-packages/joblib/parallel.py?line=1048'>1049</a>\u001b[0m \u001b[39mif\u001b[39;00m pre_dispatch \u001b[39m==\u001b[39m \u001b[39m\"\u001b[39m\u001b[39mall\u001b[39m\u001b[39m\"\u001b[39m \u001b[39mor\u001b[39;00m n_jobs \u001b[39m==\u001b[39m \u001b[39m1\u001b[39m:\n\u001b[0;32m   <a href='file:///~/AppData/Local/Programs/Python/Python38-32/lib/site-packages/joblib/parallel.py?line=1049'>1050</a>\u001b[0m     \u001b[39m# The iterable was consumed all at once by the above for loop.\u001b[39;00m\n\u001b[0;32m   <a href='file:///~/AppData/Local/Programs/Python/Python38-32/lib/site-packages/joblib/parallel.py?line=1050'>1051</a>\u001b[0m     \u001b[39m# No need to wait for async callbacks to trigger to\u001b[39;00m\n\u001b[0;32m   <a href='file:///~/AppData/Local/Programs/Python/Python38-32/lib/site-packages/joblib/parallel.py?line=1051'>1052</a>\u001b[0m     \u001b[39m# consumption.\u001b[39;00m\n",
      "File \u001b[1;32m~\\AppData\\Local\\Programs\\Python\\Python38-32\\lib\\site-packages\\joblib\\parallel.py:861\u001b[0m, in \u001b[0;36mParallel.dispatch_one_batch\u001b[1;34m(self, iterator)\u001b[0m\n\u001b[0;32m    <a href='file:///~/AppData/Local/Programs/Python/Python38-32/lib/site-packages/joblib/parallel.py?line=858'>859</a>\u001b[0m     \u001b[39mreturn\u001b[39;00m \u001b[39mFalse\u001b[39;00m\n\u001b[0;32m    <a href='file:///~/AppData/Local/Programs/Python/Python38-32/lib/site-packages/joblib/parallel.py?line=859'>860</a>\u001b[0m \u001b[39melse\u001b[39;00m:\n\u001b[1;32m--> <a href='file:///~/AppData/Local/Programs/Python/Python38-32/lib/site-packages/joblib/parallel.py?line=860'>861</a>\u001b[0m     \u001b[39mself\u001b[39;49m\u001b[39m.\u001b[39;49m_dispatch(tasks)\n\u001b[0;32m    <a href='file:///~/AppData/Local/Programs/Python/Python38-32/lib/site-packages/joblib/parallel.py?line=861'>862</a>\u001b[0m     \u001b[39mreturn\u001b[39;00m \u001b[39mTrue\u001b[39;00m\n",
      "File \u001b[1;32m~\\AppData\\Local\\Programs\\Python\\Python38-32\\lib\\site-packages\\joblib\\parallel.py:779\u001b[0m, in \u001b[0;36mParallel._dispatch\u001b[1;34m(self, batch)\u001b[0m\n\u001b[0;32m    <a href='file:///~/AppData/Local/Programs/Python/Python38-32/lib/site-packages/joblib/parallel.py?line=776'>777</a>\u001b[0m \u001b[39mwith\u001b[39;00m \u001b[39mself\u001b[39m\u001b[39m.\u001b[39m_lock:\n\u001b[0;32m    <a href='file:///~/AppData/Local/Programs/Python/Python38-32/lib/site-packages/joblib/parallel.py?line=777'>778</a>\u001b[0m     job_idx \u001b[39m=\u001b[39m \u001b[39mlen\u001b[39m(\u001b[39mself\u001b[39m\u001b[39m.\u001b[39m_jobs)\n\u001b[1;32m--> <a href='file:///~/AppData/Local/Programs/Python/Python38-32/lib/site-packages/joblib/parallel.py?line=778'>779</a>\u001b[0m     job \u001b[39m=\u001b[39m \u001b[39mself\u001b[39;49m\u001b[39m.\u001b[39;49m_backend\u001b[39m.\u001b[39;49mapply_async(batch, callback\u001b[39m=\u001b[39;49mcb)\n\u001b[0;32m    <a href='file:///~/AppData/Local/Programs/Python/Python38-32/lib/site-packages/joblib/parallel.py?line=779'>780</a>\u001b[0m     \u001b[39m# A job can complete so quickly than its callback is\u001b[39;00m\n\u001b[0;32m    <a href='file:///~/AppData/Local/Programs/Python/Python38-32/lib/site-packages/joblib/parallel.py?line=780'>781</a>\u001b[0m     \u001b[39m# called before we get here, causing self._jobs to\u001b[39;00m\n\u001b[0;32m    <a href='file:///~/AppData/Local/Programs/Python/Python38-32/lib/site-packages/joblib/parallel.py?line=781'>782</a>\u001b[0m     \u001b[39m# grow. To ensure correct results ordering, .insert is\u001b[39;00m\n\u001b[0;32m    <a href='file:///~/AppData/Local/Programs/Python/Python38-32/lib/site-packages/joblib/parallel.py?line=782'>783</a>\u001b[0m     \u001b[39m# used (rather than .append) in the following line\u001b[39;00m\n\u001b[0;32m    <a href='file:///~/AppData/Local/Programs/Python/Python38-32/lib/site-packages/joblib/parallel.py?line=783'>784</a>\u001b[0m     \u001b[39mself\u001b[39m\u001b[39m.\u001b[39m_jobs\u001b[39m.\u001b[39minsert(job_idx, job)\n",
      "File \u001b[1;32m~\\AppData\\Local\\Programs\\Python\\Python38-32\\lib\\site-packages\\joblib\\_parallel_backends.py:208\u001b[0m, in \u001b[0;36mSequentialBackend.apply_async\u001b[1;34m(self, func, callback)\u001b[0m\n\u001b[0;32m    <a href='file:///~/AppData/Local/Programs/Python/Python38-32/lib/site-packages/joblib/_parallel_backends.py?line=205'>206</a>\u001b[0m \u001b[39mdef\u001b[39;00m \u001b[39mapply_async\u001b[39m(\u001b[39mself\u001b[39m, func, callback\u001b[39m=\u001b[39m\u001b[39mNone\u001b[39;00m):\n\u001b[0;32m    <a href='file:///~/AppData/Local/Programs/Python/Python38-32/lib/site-packages/joblib/_parallel_backends.py?line=206'>207</a>\u001b[0m     \u001b[39m\"\"\"Schedule a func to be run\"\"\"\u001b[39;00m\n\u001b[1;32m--> <a href='file:///~/AppData/Local/Programs/Python/Python38-32/lib/site-packages/joblib/_parallel_backends.py?line=207'>208</a>\u001b[0m     result \u001b[39m=\u001b[39m ImmediateResult(func)\n\u001b[0;32m    <a href='file:///~/AppData/Local/Programs/Python/Python38-32/lib/site-packages/joblib/_parallel_backends.py?line=208'>209</a>\u001b[0m     \u001b[39mif\u001b[39;00m callback:\n\u001b[0;32m    <a href='file:///~/AppData/Local/Programs/Python/Python38-32/lib/site-packages/joblib/_parallel_backends.py?line=209'>210</a>\u001b[0m         callback(result)\n",
      "File \u001b[1;32m~\\AppData\\Local\\Programs\\Python\\Python38-32\\lib\\site-packages\\joblib\\_parallel_backends.py:572\u001b[0m, in \u001b[0;36mImmediateResult.__init__\u001b[1;34m(self, batch)\u001b[0m\n\u001b[0;32m    <a href='file:///~/AppData/Local/Programs/Python/Python38-32/lib/site-packages/joblib/_parallel_backends.py?line=568'>569</a>\u001b[0m \u001b[39mdef\u001b[39;00m \u001b[39m__init__\u001b[39m(\u001b[39mself\u001b[39m, batch):\n\u001b[0;32m    <a href='file:///~/AppData/Local/Programs/Python/Python38-32/lib/site-packages/joblib/_parallel_backends.py?line=569'>570</a>\u001b[0m     \u001b[39m# Don't delay the application, to avoid keeping the input\u001b[39;00m\n\u001b[0;32m    <a href='file:///~/AppData/Local/Programs/Python/Python38-32/lib/site-packages/joblib/_parallel_backends.py?line=570'>571</a>\u001b[0m     \u001b[39m# arguments in memory\u001b[39;00m\n\u001b[1;32m--> <a href='file:///~/AppData/Local/Programs/Python/Python38-32/lib/site-packages/joblib/_parallel_backends.py?line=571'>572</a>\u001b[0m     \u001b[39mself\u001b[39m\u001b[39m.\u001b[39mresults \u001b[39m=\u001b[39m batch()\n",
      "File \u001b[1;32m~\\AppData\\Local\\Programs\\Python\\Python38-32\\lib\\site-packages\\joblib\\parallel.py:262\u001b[0m, in \u001b[0;36mBatchedCalls.__call__\u001b[1;34m(self)\u001b[0m\n\u001b[0;32m    <a href='file:///~/AppData/Local/Programs/Python/Python38-32/lib/site-packages/joblib/parallel.py?line=257'>258</a>\u001b[0m \u001b[39mdef\u001b[39;00m \u001b[39m__call__\u001b[39m(\u001b[39mself\u001b[39m):\n\u001b[0;32m    <a href='file:///~/AppData/Local/Programs/Python/Python38-32/lib/site-packages/joblib/parallel.py?line=258'>259</a>\u001b[0m     \u001b[39m# Set the default nested backend to self._backend but do not set the\u001b[39;00m\n\u001b[0;32m    <a href='file:///~/AppData/Local/Programs/Python/Python38-32/lib/site-packages/joblib/parallel.py?line=259'>260</a>\u001b[0m     \u001b[39m# change the default number of processes to -1\u001b[39;00m\n\u001b[0;32m    <a href='file:///~/AppData/Local/Programs/Python/Python38-32/lib/site-packages/joblib/parallel.py?line=260'>261</a>\u001b[0m     \u001b[39mwith\u001b[39;00m parallel_backend(\u001b[39mself\u001b[39m\u001b[39m.\u001b[39m_backend, n_jobs\u001b[39m=\u001b[39m\u001b[39mself\u001b[39m\u001b[39m.\u001b[39m_n_jobs):\n\u001b[1;32m--> <a href='file:///~/AppData/Local/Programs/Python/Python38-32/lib/site-packages/joblib/parallel.py?line=261'>262</a>\u001b[0m         \u001b[39mreturn\u001b[39;00m [func(\u001b[39m*\u001b[39margs, \u001b[39m*\u001b[39m\u001b[39m*\u001b[39mkwargs)\n\u001b[0;32m    <a href='file:///~/AppData/Local/Programs/Python/Python38-32/lib/site-packages/joblib/parallel.py?line=262'>263</a>\u001b[0m                 \u001b[39mfor\u001b[39;00m func, args, kwargs \u001b[39min\u001b[39;00m \u001b[39mself\u001b[39m\u001b[39m.\u001b[39mitems]\n",
      "File \u001b[1;32m~\\AppData\\Local\\Programs\\Python\\Python38-32\\lib\\site-packages\\joblib\\parallel.py:262\u001b[0m, in \u001b[0;36m<listcomp>\u001b[1;34m(.0)\u001b[0m\n\u001b[0;32m    <a href='file:///~/AppData/Local/Programs/Python/Python38-32/lib/site-packages/joblib/parallel.py?line=257'>258</a>\u001b[0m \u001b[39mdef\u001b[39;00m \u001b[39m__call__\u001b[39m(\u001b[39mself\u001b[39m):\n\u001b[0;32m    <a href='file:///~/AppData/Local/Programs/Python/Python38-32/lib/site-packages/joblib/parallel.py?line=258'>259</a>\u001b[0m     \u001b[39m# Set the default nested backend to self._backend but do not set the\u001b[39;00m\n\u001b[0;32m    <a href='file:///~/AppData/Local/Programs/Python/Python38-32/lib/site-packages/joblib/parallel.py?line=259'>260</a>\u001b[0m     \u001b[39m# change the default number of processes to -1\u001b[39;00m\n\u001b[0;32m    <a href='file:///~/AppData/Local/Programs/Python/Python38-32/lib/site-packages/joblib/parallel.py?line=260'>261</a>\u001b[0m     \u001b[39mwith\u001b[39;00m parallel_backend(\u001b[39mself\u001b[39m\u001b[39m.\u001b[39m_backend, n_jobs\u001b[39m=\u001b[39m\u001b[39mself\u001b[39m\u001b[39m.\u001b[39m_n_jobs):\n\u001b[1;32m--> <a href='file:///~/AppData/Local/Programs/Python/Python38-32/lib/site-packages/joblib/parallel.py?line=261'>262</a>\u001b[0m         \u001b[39mreturn\u001b[39;00m [func(\u001b[39m*\u001b[39;49margs, \u001b[39m*\u001b[39;49m\u001b[39m*\u001b[39;49mkwargs)\n\u001b[0;32m    <a href='file:///~/AppData/Local/Programs/Python/Python38-32/lib/site-packages/joblib/parallel.py?line=262'>263</a>\u001b[0m                 \u001b[39mfor\u001b[39;00m func, args, kwargs \u001b[39min\u001b[39;00m \u001b[39mself\u001b[39m\u001b[39m.\u001b[39mitems]\n",
      "File \u001b[1;32m~\\AppData\\Local\\Programs\\Python\\Python38-32\\lib\\site-packages\\sklearn\\utils\\fixes.py:216\u001b[0m, in \u001b[0;36m_FuncWrapper.__call__\u001b[1;34m(self, *args, **kwargs)\u001b[0m\n\u001b[0;32m    <a href='file:///~/AppData/Local/Programs/Python/Python38-32/lib/site-packages/sklearn/utils/fixes.py?line=213'>214</a>\u001b[0m \u001b[39mdef\u001b[39;00m \u001b[39m__call__\u001b[39m(\u001b[39mself\u001b[39m, \u001b[39m*\u001b[39margs, \u001b[39m*\u001b[39m\u001b[39m*\u001b[39mkwargs):\n\u001b[0;32m    <a href='file:///~/AppData/Local/Programs/Python/Python38-32/lib/site-packages/sklearn/utils/fixes.py?line=214'>215</a>\u001b[0m     \u001b[39mwith\u001b[39;00m config_context(\u001b[39m*\u001b[39m\u001b[39m*\u001b[39m\u001b[39mself\u001b[39m\u001b[39m.\u001b[39mconfig):\n\u001b[1;32m--> <a href='file:///~/AppData/Local/Programs/Python/Python38-32/lib/site-packages/sklearn/utils/fixes.py?line=215'>216</a>\u001b[0m         \u001b[39mreturn\u001b[39;00m \u001b[39mself\u001b[39;49m\u001b[39m.\u001b[39;49mfunction(\u001b[39m*\u001b[39;49margs, \u001b[39m*\u001b[39;49m\u001b[39m*\u001b[39;49mkwargs)\n",
      "File \u001b[1;32m~\\AppData\\Local\\Programs\\Python\\Python38-32\\lib\\site-packages\\sklearn\\ensemble\\_forest.py:185\u001b[0m, in \u001b[0;36m_parallel_build_trees\u001b[1;34m(tree, forest, X, y, sample_weight, tree_idx, n_trees, verbose, class_weight, n_samples_bootstrap)\u001b[0m\n\u001b[0;32m    <a href='file:///~/AppData/Local/Programs/Python/Python38-32/lib/site-packages/sklearn/ensemble/_forest.py?line=181'>182</a>\u001b[0m     \u001b[39melif\u001b[39;00m class_weight \u001b[39m==\u001b[39m \u001b[39m\"\u001b[39m\u001b[39mbalanced_subsample\u001b[39m\u001b[39m\"\u001b[39m:\n\u001b[0;32m    <a href='file:///~/AppData/Local/Programs/Python/Python38-32/lib/site-packages/sklearn/ensemble/_forest.py?line=182'>183</a>\u001b[0m         curr_sample_weight \u001b[39m*\u001b[39m\u001b[39m=\u001b[39m compute_sample_weight(\u001b[39m\"\u001b[39m\u001b[39mbalanced\u001b[39m\u001b[39m\"\u001b[39m, y, indices\u001b[39m=\u001b[39mindices)\n\u001b[1;32m--> <a href='file:///~/AppData/Local/Programs/Python/Python38-32/lib/site-packages/sklearn/ensemble/_forest.py?line=184'>185</a>\u001b[0m     tree\u001b[39m.\u001b[39;49mfit(X, y, sample_weight\u001b[39m=\u001b[39;49mcurr_sample_weight, check_input\u001b[39m=\u001b[39;49m\u001b[39mFalse\u001b[39;49;00m)\n\u001b[0;32m    <a href='file:///~/AppData/Local/Programs/Python/Python38-32/lib/site-packages/sklearn/ensemble/_forest.py?line=185'>186</a>\u001b[0m \u001b[39melse\u001b[39;00m:\n\u001b[0;32m    <a href='file:///~/AppData/Local/Programs/Python/Python38-32/lib/site-packages/sklearn/ensemble/_forest.py?line=186'>187</a>\u001b[0m     tree\u001b[39m.\u001b[39mfit(X, y, sample_weight\u001b[39m=\u001b[39msample_weight, check_input\u001b[39m=\u001b[39m\u001b[39mFalse\u001b[39;00m)\n",
      "File \u001b[1;32m~\\AppData\\Local\\Programs\\Python\\Python38-32\\lib\\site-packages\\sklearn\\tree\\_classes.py:1315\u001b[0m, in \u001b[0;36mDecisionTreeRegressor.fit\u001b[1;34m(self, X, y, sample_weight, check_input, X_idx_sorted)\u001b[0m\n\u001b[0;32m   <a href='file:///~/AppData/Local/Programs/Python/Python38-32/lib/site-packages/sklearn/tree/_classes.py?line=1277'>1278</a>\u001b[0m \u001b[39mdef\u001b[39;00m \u001b[39mfit\u001b[39m(\n\u001b[0;32m   <a href='file:///~/AppData/Local/Programs/Python/Python38-32/lib/site-packages/sklearn/tree/_classes.py?line=1278'>1279</a>\u001b[0m     \u001b[39mself\u001b[39m, X, y, sample_weight\u001b[39m=\u001b[39m\u001b[39mNone\u001b[39;00m, check_input\u001b[39m=\u001b[39m\u001b[39mTrue\u001b[39;00m, X_idx_sorted\u001b[39m=\u001b[39m\u001b[39m\"\u001b[39m\u001b[39mdeprecated\u001b[39m\u001b[39m\"\u001b[39m\n\u001b[0;32m   <a href='file:///~/AppData/Local/Programs/Python/Python38-32/lib/site-packages/sklearn/tree/_classes.py?line=1279'>1280</a>\u001b[0m ):\n\u001b[0;32m   <a href='file:///~/AppData/Local/Programs/Python/Python38-32/lib/site-packages/sklearn/tree/_classes.py?line=1280'>1281</a>\u001b[0m     \u001b[39m\"\"\"Build a decision tree regressor from the training set (X, y).\u001b[39;00m\n\u001b[0;32m   <a href='file:///~/AppData/Local/Programs/Python/Python38-32/lib/site-packages/sklearn/tree/_classes.py?line=1281'>1282</a>\u001b[0m \n\u001b[0;32m   <a href='file:///~/AppData/Local/Programs/Python/Python38-32/lib/site-packages/sklearn/tree/_classes.py?line=1282'>1283</a>\u001b[0m \u001b[39m    Parameters\u001b[39;00m\n\u001b[1;32m   (...)\u001b[0m\n\u001b[0;32m   <a href='file:///~/AppData/Local/Programs/Python/Python38-32/lib/site-packages/sklearn/tree/_classes.py?line=1311'>1312</a>\u001b[0m \u001b[39m        Fitted estimator.\u001b[39;00m\n\u001b[0;32m   <a href='file:///~/AppData/Local/Programs/Python/Python38-32/lib/site-packages/sklearn/tree/_classes.py?line=1312'>1313</a>\u001b[0m \u001b[39m    \"\"\"\u001b[39;00m\n\u001b[1;32m-> <a href='file:///~/AppData/Local/Programs/Python/Python38-32/lib/site-packages/sklearn/tree/_classes.py?line=1314'>1315</a>\u001b[0m     \u001b[39msuper\u001b[39;49m()\u001b[39m.\u001b[39;49mfit(\n\u001b[0;32m   <a href='file:///~/AppData/Local/Programs/Python/Python38-32/lib/site-packages/sklearn/tree/_classes.py?line=1315'>1316</a>\u001b[0m         X,\n\u001b[0;32m   <a href='file:///~/AppData/Local/Programs/Python/Python38-32/lib/site-packages/sklearn/tree/_classes.py?line=1316'>1317</a>\u001b[0m         y,\n\u001b[0;32m   <a href='file:///~/AppData/Local/Programs/Python/Python38-32/lib/site-packages/sklearn/tree/_classes.py?line=1317'>1318</a>\u001b[0m         sample_weight\u001b[39m=\u001b[39;49msample_weight,\n\u001b[0;32m   <a href='file:///~/AppData/Local/Programs/Python/Python38-32/lib/site-packages/sklearn/tree/_classes.py?line=1318'>1319</a>\u001b[0m         check_input\u001b[39m=\u001b[39;49mcheck_input,\n\u001b[0;32m   <a href='file:///~/AppData/Local/Programs/Python/Python38-32/lib/site-packages/sklearn/tree/_classes.py?line=1319'>1320</a>\u001b[0m         X_idx_sorted\u001b[39m=\u001b[39;49mX_idx_sorted,\n\u001b[0;32m   <a href='file:///~/AppData/Local/Programs/Python/Python38-32/lib/site-packages/sklearn/tree/_classes.py?line=1320'>1321</a>\u001b[0m     )\n\u001b[0;32m   <a href='file:///~/AppData/Local/Programs/Python/Python38-32/lib/site-packages/sklearn/tree/_classes.py?line=1321'>1322</a>\u001b[0m     \u001b[39mreturn\u001b[39;00m \u001b[39mself\u001b[39m\n",
      "File \u001b[1;32m~\\AppData\\Local\\Programs\\Python\\Python38-32\\lib\\site-packages\\sklearn\\tree\\_classes.py:420\u001b[0m, in \u001b[0;36mBaseDecisionTree.fit\u001b[1;34m(self, X, y, sample_weight, check_input, X_idx_sorted)\u001b[0m\n\u001b[0;32m    <a href='file:///~/AppData/Local/Programs/Python/Python38-32/lib/site-packages/sklearn/tree/_classes.py?line=408'>409</a>\u001b[0m \u001b[39melse\u001b[39;00m:\n\u001b[0;32m    <a href='file:///~/AppData/Local/Programs/Python/Python38-32/lib/site-packages/sklearn/tree/_classes.py?line=409'>410</a>\u001b[0m     builder \u001b[39m=\u001b[39m BestFirstTreeBuilder(\n\u001b[0;32m    <a href='file:///~/AppData/Local/Programs/Python/Python38-32/lib/site-packages/sklearn/tree/_classes.py?line=410'>411</a>\u001b[0m         splitter,\n\u001b[0;32m    <a href='file:///~/AppData/Local/Programs/Python/Python38-32/lib/site-packages/sklearn/tree/_classes.py?line=411'>412</a>\u001b[0m         min_samples_split,\n\u001b[1;32m   (...)\u001b[0m\n\u001b[0;32m    <a href='file:///~/AppData/Local/Programs/Python/Python38-32/lib/site-packages/sklearn/tree/_classes.py?line=416'>417</a>\u001b[0m         \u001b[39mself\u001b[39m\u001b[39m.\u001b[39mmin_impurity_decrease,\n\u001b[0;32m    <a href='file:///~/AppData/Local/Programs/Python/Python38-32/lib/site-packages/sklearn/tree/_classes.py?line=417'>418</a>\u001b[0m     )\n\u001b[1;32m--> <a href='file:///~/AppData/Local/Programs/Python/Python38-32/lib/site-packages/sklearn/tree/_classes.py?line=419'>420</a>\u001b[0m builder\u001b[39m.\u001b[39;49mbuild(\u001b[39mself\u001b[39;49m\u001b[39m.\u001b[39;49mtree_, X, y, sample_weight)\n\u001b[0;32m    <a href='file:///~/AppData/Local/Programs/Python/Python38-32/lib/site-packages/sklearn/tree/_classes.py?line=421'>422</a>\u001b[0m \u001b[39mif\u001b[39;00m \u001b[39mself\u001b[39m\u001b[39m.\u001b[39mn_outputs_ \u001b[39m==\u001b[39m \u001b[39m1\u001b[39m \u001b[39mand\u001b[39;00m is_classifier(\u001b[39mself\u001b[39m):\n\u001b[0;32m    <a href='file:///~/AppData/Local/Programs/Python/Python38-32/lib/site-packages/sklearn/tree/_classes.py?line=422'>423</a>\u001b[0m     \u001b[39mself\u001b[39m\u001b[39m.\u001b[39mn_classes_ \u001b[39m=\u001b[39m \u001b[39mself\u001b[39m\u001b[39m.\u001b[39mn_classes_[\u001b[39m0\u001b[39m]\n",
      "\u001b[1;31mKeyboardInterrupt\u001b[0m: "
     ]
    }
   ],
   "source": [
    "from sklearn.svm import SVR\n",
    "from sklearn.ensemble import RandomForestRegressor\n",
    "from sklearn.model_selection import StratifiedKFold\n",
    "from sklearn.feature_selection import RFECV\n",
    "import matplotlib.pyplot as plt\n",
    "\n",
    "svr = SVR(kernel=\"linear\")\n",
    "rfr = RandomForestRegressor()\n",
    "# svr.fit(triph_train_X, triph_train_Y)\n",
    "\n",
    "min_features = 1\n",
    "rfecv = RFECV(estimator=rfr, step=1, cv=2, scoring='r2', min_features_to_select=min_features)\n",
    "\n",
    "rfecv.fit(othr_train_X, othr_train_Y)"
   ]
  },
  {
   "cell_type": "code",
   "execution_count": null,
   "metadata": {},
   "outputs": [
    {
     "name": "stdout",
     "output_type": "stream",
     "text": [
      "Optimal number of features : 677\n"
     ]
    }
   ],
   "source": [
    "print(\"Optimal number of features : %d\" % rfecv.n_features_)\n",
    "# print(rfecv.cv_results_)\n",
    "\n",
    "# RF triph 517\n",
    "# phen 542 (but could use just 100)\n",
    "# carb 582 (but again it plateaus at 100)\n",
    "# indo 656 (let's try 60 features)\n",
    "# coum 713 (again the distribution is completely square)\n",
    "# diph 560 (This time it really did go up with the number of features but we're talking about only 18 instances here)\n",
    "# othr 677 (but again, square data is fine)"
   ]
  },
  {
   "cell_type": "code",
   "execution_count": null,
   "metadata": {},
   "outputs": [],
   "source": [
    "plt.figure()\n",
    "plt.xlabel(\"Number of features selected\")\n",
    "plt.ylabel(\"Cross validation score (r2)\")\n",
    "plt.plot(\n",
    "    range(\n",
    "        0, len(rfecv.feature_names_in_)\n",
    "    ), rfecv.cv_results_['mean_test_score']\n",
    "\n",
    ")\n",
    "plt.savefig('featureSelectionRFothr')"
   ]
  },
  {
   "cell_type": "markdown",
   "metadata": {},
   "source": [
    "Feature Selection"
   ]
  },
  {
   "cell_type": "markdown",
   "metadata": {},
   "source": [
    "Disregarding Y"
   ]
  },
  {
   "cell_type": "markdown",
   "metadata": {},
   "source": [
    "Variance Threshold"
   ]
  },
  {
   "cell_type": "code",
   "execution_count": 19,
   "metadata": {},
   "outputs": [],
   "source": [
    "# will be done by length of the datasets themselves\n",
    "# bottom up approach\n",
    "\n",
    "from sklearn.feature_selection import VarianceThreshold\n",
    "\n",
    "def remove_low_variance(input_data, threshold=0.1):\n",
    "    selection = VarianceThreshold(threshold)\n",
    "    selection.fit(input_data)\n",
    "    return input_data[input_data.columns[selection.get_support(indices=True)]]\n",
    "\n",
    "# test until square data"
   ]
  },
  {
   "cell_type": "markdown",
   "metadata": {},
   "source": [
    "Using Y"
   ]
  },
  {
   "cell_type": "markdown",
   "metadata": {},
   "source": [
    "Univariate"
   ]
  },
  {
   "cell_type": "code",
   "execution_count": 27,
   "metadata": {},
   "outputs": [],
   "source": [
    "from sklearn.feature_selection import SelectKBest, f_regression, SelectPercentile\n",
    "\n",
    "def select_univariate(input_data_X, input_data_Y):\n",
    "    if len(input_data_X) > len(input_data_X.columns):\n",
    "        X = SelectPercentile(score_func=f_regression, percentile=30)\n",
    "    else:\n",
    "        X = SelectKBest(f_regression, k=len(input_data_X)).fit_transform(input_data_X, input_data_Y)\n",
    "    return X"
   ]
  },
  {
   "cell_type": "markdown",
   "metadata": {},
   "source": [
    "Sequential Feature Selection Ridge"
   ]
  },
  {
   "cell_type": "code",
   "execution_count": 31,
   "metadata": {},
   "outputs": [],
   "source": [
    "from sklearn.feature_selection import SequentialFeatureSelector, SelectFromModel\n",
    "from sklearn.linear_model import RidgeCV, Ridge, LassoCV, Lasso\n",
    "\n",
    "def sequen_features(input_X, input_Y):\n",
    "    ridge = RidgeCV(alphas=np.logspace(-6,6,num=5)).fit(input_X, input_Y)\n",
    "    if len(input_X) > len(input_X.columns):\n",
    "        X=SequentialFeatureSelector(ridge, n_features_to_select=0.3, direction=\"forward\").fit_transform(input_X, input_Y)\n",
    "    else:\n",
    "        X=SequentialFeatureSelector(ridge, n_features_to_select=len(input_X), direction=\"forward\").fit_transform(input_X,input_Y)\n",
    "    return X\n",
    "\n"
   ]
  },
  {
   "cell_type": "markdown",
   "metadata": {},
   "source": [
    "Select from Model - Lasso"
   ]
  },
  {
   "cell_type": "code",
   "execution_count": 23,
   "metadata": {},
   "outputs": [],
   "source": [
    "#this will give features that are linearly aligned\n",
    "\n",
    "def lasso_features(input_X, input_Y):\n",
    "    lasso = LassoCV(alphas=np.arange(0.1, 10, 0.1)).fit(input_X, input_Y)\n",
    "    model = SelectFromModel(lasso, prefit=True)\n",
    "    X_new = model.transform(input_X)\n",
    "    return X_new\n",
    "    "
   ]
  },
  {
   "cell_type": "markdown",
   "metadata": {},
   "source": [
    "Select from Model - Tree"
   ]
  },
  {
   "cell_type": "code",
   "execution_count": 24,
   "metadata": {},
   "outputs": [],
   "source": [
    "from sklearn.ensemble import ExtraTreesRegressor\n",
    "\n",
    "\n",
    "def tree_features(input_X, input_Y):\n",
    "    treeReg = ExtraTreesRegressor(n_estimators=100)\n",
    "    treeReg = treeReg(input_X, input_Y)\n",
    "    model = SelectFromModel(treeReg, prefit=True)\n",
    "    X_new = model.transform(input_X)\n",
    "    return X_new"
   ]
  },
  {
   "cell_type": "markdown",
   "metadata": {},
   "source": [
    "Store Methods of Feature Selection"
   ]
  },
  {
   "cell_type": "code",
   "execution_count": 32,
   "metadata": {},
   "outputs": [],
   "source": [
    "currentFamilySets = [   [glob_train_X, glob_train_Y],\n",
    "                        [triph_train_X,triph_train_Y],\n",
    "                        [phen_train_X, phen_train_Y],\n",
    "                        [carb_train_X, carb_train_Y],\n",
    "                        [indo_train_X, indo_train_Y],\n",
    "                        [coum_train_X, coum_train_Y],\n",
    "                        [diph_train_X, diph_train_Y],\n",
    "                        [othr_train_X, othr_train_Y]\n",
    "                    ]\n",
    "\n",
    "def allMethodsFeatureSelect(familyTrainingData):\n",
    "    selected_X = []\n",
    "    for i in range(len(familyTrainingData)):\n",
    "        selected_X.append(\n",
    "                            [remove_low_variance(familyTrainingData[i][0], threshold=0.5),\n",
    "                            select_univariate(familyTrainingData[i][0],familyTrainingData[i][1]),\n",
    "                            sequen_features(familyTrainingData[i][0],familyTrainingData[i][1]),\n",
    "                            lasso_features(familyTrainingData[i][0],familyTrainingData[i][1]),\n",
    "                            tree_features(familyTrainingData[i][0],familyTrainingData[i][1])\n",
    "                            ]\n",
    "                        \n",
    "                        )\n",
    "    return selected_X\n",
    "\n",
    "selected_X = allMethodsFeatureSelect(currentFamilySets)\n",
    "\n",
    "selected_X[0][0].shape"
   ]
  },
  {
   "cell_type": "markdown",
   "metadata": {},
   "source": [
    "Models"
   ]
  },
  {
   "cell_type": "markdown",
   "metadata": {},
   "source": [
    "Ridge"
   ]
  },
  {
   "cell_type": "code",
   "execution_count": null,
   "metadata": {},
   "outputs": [],
   "source": [
    "from sklearn.model_selection import GridSearchCV\n",
    "# GridSearchCV for best parameters in training set\n",
    "tuned_params_Ridge = {'alpha' : np.arange(0.1, 10, 0.1), 'fit_intercept' : [True, False]}\n",
    "\n",
    "gsRidge = GridSearchCV(Ridge(), tuned_params_Ridge, cv=3, scoring='r2')\n",
    "gsRidge.fit(selected_X[0][0], currentFamilySets[0][1])\n",
    "\n",
    "# Apply model with best obtained parameters\n",
    "\n",
    "# Validate with family test set\n",
    "\n",
    "# Grid of results Y Pred vs Y True\n",
    "#   For each family --> results_X[i]\n",
    "#       For each feature select method --> results_X[i][j]"
   ]
  },
  {
   "cell_type": "markdown",
   "metadata": {},
   "source": [
    "Lasso"
   ]
  },
  {
   "cell_type": "code",
   "execution_count": null,
   "metadata": {},
   "outputs": [],
   "source": []
  },
  {
   "cell_type": "markdown",
   "metadata": {},
   "source": [
    "PLS"
   ]
  },
  {
   "cell_type": "code",
   "execution_count": null,
   "metadata": {},
   "outputs": [],
   "source": []
  },
  {
   "cell_type": "markdown",
   "metadata": {},
   "source": [
    "Find Latent Variables"
   ]
  },
  {
   "cell_type": "code",
   "execution_count": null,
   "metadata": {},
   "outputs": [],
   "source": []
  },
  {
   "cell_type": "markdown",
   "metadata": {},
   "source": [
    "SVR - Linear Kernel"
   ]
  },
  {
   "cell_type": "code",
   "execution_count": null,
   "metadata": {},
   "outputs": [],
   "source": []
  },
  {
   "cell_type": "markdown",
   "metadata": {},
   "source": [
    "SVR - RBF Kernel"
   ]
  },
  {
   "cell_type": "code",
   "execution_count": null,
   "metadata": {},
   "outputs": [],
   "source": []
  },
  {
   "cell_type": "markdown",
   "metadata": {},
   "source": [
    "Random Forest"
   ]
  },
  {
   "cell_type": "code",
   "execution_count": null,
   "metadata": {},
   "outputs": [],
   "source": []
  },
  {
   "cell_type": "markdown",
   "metadata": {},
   "source": [
    "GTM"
   ]
  },
  {
   "cell_type": "code",
   "execution_count": null,
   "metadata": {},
   "outputs": [
    {
     "name": "stderr",
     "output_type": "stream",
     "text": [
      "C:\\Users\\Paul\\AppData\\Local\\Programs\\Python\\Python38-32\\lib\\site-packages\\sklearn\\model_selection\\_validation.py:372: FitFailedWarning: \n",
      "126 fits failed out of a total of 378.\n",
      "The score on these train-test partitions for these parameters will be set to nan.\n",
      "If these failures are not expected, you can try to debug them by setting error_score='raise'.\n",
      "\n",
      "Below are more details about the failures:\n",
      "--------------------------------------------------------------------------------\n",
      "126 fits failed with the following error:\n",
      "Traceback (most recent call last):\n",
      "  File \"C:\\Users\\Paul\\AppData\\Local\\Programs\\Python\\Python38-32\\lib\\site-packages\\sklearn\\model_selection\\_validation.py\", line 680, in _fit_and_score\n",
      "    estimator.fit(X_train, y_train, **fit_params)\n",
      "  File \"C:\\Users\\Paul\\AppData\\Local\\Programs\\Python\\Python38-32\\lib\\site-packages\\ugtm\\ugtm_sklearn.py\", line 456, in fit\n",
      "    self.initialModel = ugtm_gtm.initialize(X, self.k,\n",
      "  File \"C:\\Users\\Paul\\AppData\\Local\\Programs\\Python\\Python38-32\\lib\\site-packages\\ugtm\\ugtm_gtm.py\", line 90, in initialize\n",
      "    matW = ugtm_core.createWMatrix(matX, matPhiMPlusOne, Uobj.matU,\n",
      "  File \"C:\\Users\\Paul\\AppData\\Local\\Programs\\Python\\Python38-32\\lib\\site-packages\\ugtm\\ugtm_core.py\", line 143, in createWMatrix\n",
      "    NormX = scale(matX, axis=0, with_mean=True, with_std=True)\n",
      "  File \"C:\\Users\\Paul\\AppData\\Local\\Programs\\Python\\Python38-32\\lib\\site-packages\\sklearn\\preprocessing\\_data.py\", line 194, in scale\n",
      "    X = check_array(\n",
      "  File \"C:\\Users\\Paul\\AppData\\Local\\Programs\\Python\\Python38-32\\lib\\site-packages\\sklearn\\utils\\validation.py\", line 805, in check_array\n",
      "    raise ValueError(\n",
      "ValueError: Found array with 0 sample(s) (shape=(0, 2)) while a minimum of 1 is required by the scale function.\n",
      "\n",
      "  warnings.warn(some_fits_failed_message, FitFailedWarning)\n",
      "C:\\Users\\Paul\\AppData\\Local\\Programs\\Python\\Python38-32\\lib\\site-packages\\sklearn\\model_selection\\_search.py:969: UserWarning: One or more of the test scores are non-finite: [        nan         nan         nan         nan         nan         nan\n",
      "         nan         nan         nan         nan         nan         nan\n",
      "         nan         nan         nan         nan         nan         nan\n",
      "         nan         nan         nan         nan         nan         nan\n",
      "         nan         nan         nan         nan         nan         nan\n",
      "         nan         nan         nan         nan         nan         nan\n",
      "         nan         nan         nan         nan         nan         nan\n",
      " -0.21530287 -0.22076452 -0.09128693 -0.08472267 -0.16185125 -0.11665569\n",
      " -0.16556782 -0.06228962 -0.08877179 -0.30034335 -0.16029062 -0.13047275\n",
      " -0.2396537  -0.11339814 -0.12836536 -0.09310234 -0.38771384 -0.28422175\n",
      " -0.0175234   0.00041417 -0.08235695 -0.02595913 -0.14630213 -0.0108077\n",
      " -0.06169312 -0.11238247  0.06580803 -0.14889569 -0.005998   -0.09103289\n",
      " -0.09297904 -0.07262776 -0.0293547  -0.27114784 -0.26275018 -0.16157851\n",
      " -0.09277856 -0.12672045 -0.16401165  0.02609838 -0.06322716 -0.13935455\n",
      " -0.08715925 -0.18498943 -0.1494918  -0.06977695 -0.20692476 -0.17114177\n",
      " -0.21410245 -0.20036605 -0.17136852 -0.31089822 -0.13134326 -0.08687\n",
      " -0.19073587 -0.21995056 -0.17081269 -0.05123833 -0.25388747 -0.24834745\n",
      " -0.00105769  0.0100521  -0.08642917 -0.14968462 -0.10299491 -0.01673945\n",
      " -0.1109313  -0.17945523 -0.08468456 -0.10489441 -0.18110917 -0.13942845\n",
      " -0.15772725 -0.24216147 -0.13138247 -0.16010741 -0.34586518 -0.21749642\n",
      " -0.03610901 -0.11237378 -0.16911499  0.0244978  -0.04470942 -0.07284005]\n",
      "  warnings.warn(\n"
     ]
    },
    {
     "name": "stdout",
     "output_type": "stream",
     "text": [
      "{'k': 16, 'm': 5, 'regul': 0.001, 's': 0.3}\n"
     ]
    }
   ],
   "source": [
    "from ugtm import eGTR\n",
    "from sklearn.model_selection import GridSearchCV\n",
    "\n",
    "tuned_params = {'regul': [0.0001, 0.001, 0.01, 0.1, 1, 10, 100],\n",
    "                's': [0.1, 0.2, 0.3],\n",
    "                'k': [0, 16, 25],\n",
    "                'm': [4, 5]\n",
    "}\n",
    "\n",
    "gs = GridSearchCV(eGTR(), tuned_params, cv=3, scoring='r2') # error_score='raise'\n",
    "gs.fit(triph_train_X, triph_train_Y)\n",
    "print(gs.best_params_)"
   ]
  },
  {
   "cell_type": "code",
   "execution_count": null,
   "metadata": {},
   "outputs": [
    {
     "name": "stdout",
     "output_type": "stream",
     "text": [
      "0.20175921560726226\n"
     ]
    }
   ],
   "source": [
    "print(gs.best_score_)"
   ]
  },
  {
   "cell_type": "code",
   "execution_count": null,
   "metadata": {},
   "outputs": [],
   "source": [
    "gtr = eGTR(k=16, m=4, regul=0.0001, s=0.3) # \n",
    "\n",
    "gtr = gtr.fit(othr_train_X, othr_train_Y)\n",
    "\n"
   ]
  },
  {
   "cell_type": "markdown",
   "metadata": {},
   "source": [
    "Visualise GTR"
   ]
  },
  {
   "cell_type": "code",
   "execution_count": null,
   "metadata": {},
   "outputs": [
    {
     "data": {
      "text/html": [
       "\n",
       "<div id=\"altair-viz-32073999181945b3ac51d8fd7454e84c\"></div>\n",
       "<script type=\"text/javascript\">\n",
       "  var VEGA_DEBUG = (typeof VEGA_DEBUG == \"undefined\") ? {} : VEGA_DEBUG;\n",
       "  (function(spec, embedOpt){\n",
       "    let outputDiv = document.currentScript.previousElementSibling;\n",
       "    if (outputDiv.id !== \"altair-viz-32073999181945b3ac51d8fd7454e84c\") {\n",
       "      outputDiv = document.getElementById(\"altair-viz-32073999181945b3ac51d8fd7454e84c\");\n",
       "    }\n",
       "    const paths = {\n",
       "      \"vega\": \"https://cdn.jsdelivr.net/npm//vega@5?noext\",\n",
       "      \"vega-lib\": \"https://cdn.jsdelivr.net/npm//vega-lib?noext\",\n",
       "      \"vega-lite\": \"https://cdn.jsdelivr.net/npm//vega-lite@4.17.0?noext\",\n",
       "      \"vega-embed\": \"https://cdn.jsdelivr.net/npm//vega-embed@6?noext\",\n",
       "    };\n",
       "\n",
       "    function maybeLoadScript(lib, version) {\n",
       "      var key = `${lib.replace(\"-\", \"\")}_version`;\n",
       "      return (VEGA_DEBUG[key] == version) ?\n",
       "        Promise.resolve(paths[lib]) :\n",
       "        new Promise(function(resolve, reject) {\n",
       "          var s = document.createElement('script');\n",
       "          document.getElementsByTagName(\"head\")[0].appendChild(s);\n",
       "          s.async = true;\n",
       "          s.onload = () => {\n",
       "            VEGA_DEBUG[key] = version;\n",
       "            return resolve(paths[lib]);\n",
       "          };\n",
       "          s.onerror = () => reject(`Error loading script: ${paths[lib]}`);\n",
       "          s.src = paths[lib];\n",
       "        });\n",
       "    }\n",
       "\n",
       "    function showError(err) {\n",
       "      outputDiv.innerHTML = `<div class=\"error\" style=\"color:red;\">${err}</div>`;\n",
       "      throw err;\n",
       "    }\n",
       "\n",
       "    function displayChart(vegaEmbed) {\n",
       "      vegaEmbed(outputDiv, spec, embedOpt)\n",
       "        .catch(err => showError(`Javascript Error: ${err.message}<br>This usually means there's a typo in your chart specification. See the javascript console for the full traceback.`));\n",
       "    }\n",
       "\n",
       "    if(typeof define === \"function\" && define.amd) {\n",
       "      requirejs.config({paths});\n",
       "      require([\"vega-embed\"], displayChart, err => showError(`Error loading script: ${err.message}`));\n",
       "    } else {\n",
       "      maybeLoadScript(\"vega\", \"5\")\n",
       "        .then(() => maybeLoadScript(\"vega-lite\", \"4.17.0\"))\n",
       "        .then(() => maybeLoadScript(\"vega-embed\", \"6\"))\n",
       "        .catch(showError)\n",
       "        .then(() => displayChart(vegaEmbed));\n",
       "    }\n",
       "  })({\"config\": {\"view\": {\"continuousWidth\": 400, \"continuousHeight\": 300}}, \"data\": {\"name\": \"data-ff769d85f4077b80a000c40e2421f82c\"}, \"mark\": \"square\", \"encoding\": {\"color\": {\"field\": \"predicted_node_label\", \"legend\": {\"title\": \"PCE\"}, \"scale\": {\"scheme\": \"greenblue\"}, \"type\": \"quantitative\"}, \"size\": {\"value\": 50}, \"tooltip\": [{\"field\": \"x1\", \"type\": \"quantitative\"}, {\"field\": \"x2\", \"type\": \"quantitative\"}, {\"field\": \"predicted_node_label\", \"type\": \"quantitative\"}], \"x\": {\"field\": \"x1\", \"type\": \"quantitative\"}, \"y\": {\"field\": \"x2\", \"type\": \"quantitative\"}}, \"height\": 200, \"title\": \"Dye-Sensitised Solar Cells\", \"width\": 200, \"$schema\": \"https://vega.github.io/schema/vega-lite/v4.17.0.json\", \"datasets\": {\"data-ff769d85f4077b80a000c40e2421f82c\": [{\"x1\": -1.0, \"x2\": -1.0, \"predicted_node_label\": 1.480010713325006}, {\"x1\": -1.0, \"x2\": -0.8666666666666667, \"predicted_node_label\": 3.0104857142857133}, {\"x1\": -1.0, \"x2\": -0.7333333333333334, \"predicted_node_label\": 3.0104857142857133}, {\"x1\": -1.0, \"x2\": -0.6, \"predicted_node_label\": 3.0104857142857133}, {\"x1\": -1.0, \"x2\": -0.4666666666666667, \"predicted_node_label\": 3.0104857142857133}, {\"x1\": -1.0, \"x2\": -0.33333333333333337, \"predicted_node_label\": 3.0104857142857133}, {\"x1\": -1.0, \"x2\": -0.19999999999999996, \"predicted_node_label\": 3.0104857142857133}, {\"x1\": -1.0, \"x2\": -0.06666666666666665, \"predicted_node_label\": 6.057494666326767}, {\"x1\": -1.0, \"x2\": 0.06666666666666665, \"predicted_node_label\": 4.19998334703314}, {\"x1\": -1.0, \"x2\": 0.19999999999999996, \"predicted_node_label\": 3.0104857142857133}, {\"x1\": -1.0, \"x2\": 0.33333333333333326, \"predicted_node_label\": 6.519950867487853}, {\"x1\": -1.0, \"x2\": 0.46666666666666656, \"predicted_node_label\": 3.0104857142857133}, {\"x1\": -1.0, \"x2\": 0.6000000000000001, \"predicted_node_label\": 3.0104857142857133}, {\"x1\": -1.0, \"x2\": 0.7333333333333334, \"predicted_node_label\": 8.009930007779882}, {\"x1\": -1.0, \"x2\": 0.8666666666666667, \"predicted_node_label\": 5.849960247594016}, {\"x1\": -1.0, \"x2\": 1.0, \"predicted_node_label\": 3.0104857142857133}, {\"x1\": -0.8666666666666667, \"x2\": -1.0, \"predicted_node_label\": 3.0104857142857133}, {\"x1\": -0.8666666666666667, \"x2\": -0.8666666666666667, \"predicted_node_label\": 3.0104857142857133}, {\"x1\": -0.8666666666666667, \"x2\": -0.7333333333333334, \"predicted_node_label\": 3.0104857142857133}, {\"x1\": -0.8666666666666667, \"x2\": -0.6, \"predicted_node_label\": 3.0104857142857133}, {\"x1\": -0.8666666666666667, \"x2\": -0.4666666666666667, \"predicted_node_label\": 3.0104857142857133}, {\"x1\": -0.8666666666666667, \"x2\": -0.33333333333333337, \"predicted_node_label\": 0.6500330463373512}, {\"x1\": -0.8666666666666667, \"x2\": -0.19999999999999996, \"predicted_node_label\": 3.0104857142857133}, {\"x1\": -0.8666666666666667, \"x2\": -0.06666666666666665, \"predicted_node_label\": 4.294990996296077}, {\"x1\": -0.8666666666666667, \"x2\": 0.06666666666666665, \"predicted_node_label\": 3.2799962268528025}, {\"x1\": -0.8666666666666667, \"x2\": 0.19999999999999996, \"predicted_node_label\": 3.0104857142857133}, {\"x1\": -0.8666666666666667, \"x2\": 0.33333333333333326, \"predicted_node_label\": 3.0104857142857133}, {\"x1\": -0.8666666666666667, \"x2\": 0.46666666666666656, \"predicted_node_label\": 3.0104857142857133}, {\"x1\": -0.8666666666666667, \"x2\": 0.6000000000000001, \"predicted_node_label\": 3.0104857142857133}, {\"x1\": -0.8666666666666667, \"x2\": 0.7333333333333334, \"predicted_node_label\": 3.0104857142857133}, {\"x1\": -0.8666666666666667, \"x2\": 0.8666666666666667, \"predicted_node_label\": 3.0104857142857133}, {\"x1\": -0.8666666666666667, \"x2\": 1.0, \"predicted_node_label\": 3.0104857142857133}, {\"x1\": -0.7333333333333334, \"x2\": -1.0, \"predicted_node_label\": 2.040006190039467}, {\"x1\": -0.7333333333333334, \"x2\": -0.8666666666666667, \"predicted_node_label\": 3.0104857142857133}, {\"x1\": -0.7333333333333334, \"x2\": -0.7333333333333334, \"predicted_node_label\": 3.0104857142857133}, {\"x1\": -0.7333333333333334, \"x2\": -0.6, \"predicted_node_label\": 3.0104857142857133}, {\"x1\": -0.7333333333333334, \"x2\": -0.4666666666666667, \"predicted_node_label\": 3.0104857142857124}, {\"x1\": -0.7333333333333334, \"x2\": -0.33333333333333337, \"predicted_node_label\": 5.619963467296439}, {\"x1\": -0.7333333333333334, \"x2\": -0.19999999999999996, \"predicted_node_label\": 3.0387676740846596}, {\"x1\": -0.7333333333333334, \"x2\": -0.06666666666666665, \"predicted_node_label\": 3.0104857142857133}, {\"x1\": -0.7333333333333334, \"x2\": 0.06666666666666665, \"predicted_node_label\": 3.449960600981689}, {\"x1\": -0.7333333333333334, \"x2\": 0.19999999999999996, \"predicted_node_label\": 3.01048571431165}, {\"x1\": -0.7333333333333334, \"x2\": 0.33333333333333326, \"predicted_node_label\": 3.0104857142857133}, {\"x1\": -0.7333333333333334, \"x2\": 0.46666666666666656, \"predicted_node_label\": 3.0104857142857133}, {\"x1\": -0.7333333333333334, \"x2\": 0.6000000000000001, \"predicted_node_label\": 3.0104857142857133}, {\"x1\": -0.7333333333333334, \"x2\": 0.7333333333333334, \"predicted_node_label\": 3.0104857142857133}, {\"x1\": -0.7333333333333334, \"x2\": 0.8666666666666667, \"predicted_node_label\": 3.0104857142857133}, {\"x1\": -0.7333333333333334, \"x2\": 1.0, \"predicted_node_label\": 3.0104857142857133}, {\"x1\": -0.6, \"x2\": -1.0, \"predicted_node_label\": 3.0104857139330155}, {\"x1\": -0.6, \"x2\": -0.8666666666666667, \"predicted_node_label\": 2.3573074011327106}, {\"x1\": -0.6, \"x2\": -0.7333333333333334, \"predicted_node_label\": 3.0104857142857133}, {\"x1\": -0.6, \"x2\": -0.6, \"predicted_node_label\": 3.0104857142857133}, {\"x1\": -0.6, \"x2\": -0.4666666666666667, \"predicted_node_label\": 3.0104857143024932}, {\"x1\": -0.6, \"x2\": -0.33333333333333337, \"predicted_node_label\": 3.010485714285753}, {\"x1\": -0.6, \"x2\": -0.19999999999999996, \"predicted_node_label\": 3.0104857142857133}, {\"x1\": -0.6, \"x2\": -0.06666666666666665, \"predicted_node_label\": 3.0104857142857133}, {\"x1\": -0.6, \"x2\": 0.06666666666666665, \"predicted_node_label\": 2.750003647971442}, {\"x1\": -0.6, \"x2\": 0.19999999999999996, \"predicted_node_label\": 5.20661566319959}, {\"x1\": -0.6, \"x2\": 0.33333333333333326, \"predicted_node_label\": 4.991677424099391}, {\"x1\": -0.6, \"x2\": 0.46666666666666656, \"predicted_node_label\": 3.161851446540872}, {\"x1\": -0.6, \"x2\": 0.6000000000000001, \"predicted_node_label\": 3.010485780450756}, {\"x1\": -0.6, \"x2\": 0.7333333333333334, \"predicted_node_label\": 3.0104857142857133}, {\"x1\": -0.6, \"x2\": 0.8666666666666667, \"predicted_node_label\": 3.010485714282124}, {\"x1\": -0.6, \"x2\": 1.0, \"predicted_node_label\": 2.7800010755949813}, {\"x1\": -0.4666666666666667, \"x2\": -1.0, \"predicted_node_label\": 3.0104857142857133}, {\"x1\": -0.4666666666666667, \"x2\": -0.8666666666666667, \"predicted_node_label\": 3.0104857142857133}, {\"x1\": -0.4666666666666667, \"x2\": -0.7333333333333334, \"predicted_node_label\": 3.0104857142946724}, {\"x1\": -0.4666666666666667, \"x2\": -0.6, \"predicted_node_label\": 2.1200062333563667}, {\"x1\": -0.4666666666666667, \"x2\": -0.4666666666666667, \"predicted_node_label\": 2.0500276449519976}, {\"x1\": -0.4666666666666667, \"x2\": -0.33333333333333337, \"predicted_node_label\": 2.9602422827110977}, {\"x1\": -0.4666666666666667, \"x2\": -0.19999999999999996, \"predicted_node_label\": 3.0104857142857133}, {\"x1\": -0.4666666666666667, \"x2\": -0.06666666666666665, \"predicted_node_label\": 3.0104857142857133}, {\"x1\": -0.4666666666666667, \"x2\": 0.06666666666666665, \"predicted_node_label\": 3.0104857142857133}, {\"x1\": -0.4666666666666667, \"x2\": 0.19999999999999996, \"predicted_node_label\": 3.3224532239721527}, {\"x1\": -0.4666666666666667, \"x2\": 0.33333333333333326, \"predicted_node_label\": 3.930064144823585}, {\"x1\": -0.4666666666666667, \"x2\": 0.46666666666666656, \"predicted_node_label\": 3.6676896384694575}, {\"x1\": -0.4666666666666667, \"x2\": 0.6000000000000001, \"predicted_node_label\": 3.010485714210625}, {\"x1\": -0.4666666666666667, \"x2\": 0.7333333333333334, \"predicted_node_label\": 3.0104857142857133}, {\"x1\": -0.4666666666666667, \"x2\": 0.8666666666666667, \"predicted_node_label\": 3.0104857142506947}, {\"x1\": -0.4666666666666667, \"x2\": 1.0, \"predicted_node_label\": 5.338327901702423}, {\"x1\": -0.33333333333333337, \"x2\": -1.0, \"predicted_node_label\": 4.339981387060579}, {\"x1\": -0.33333333333333337, \"x2\": -0.8666666666666667, \"predicted_node_label\": 3.0104857142857133}, {\"x1\": -0.33333333333333337, \"x2\": -0.7333333333333334, \"predicted_node_label\": 3.0104857142857133}, {\"x1\": -0.33333333333333337, \"x2\": -0.6, \"predicted_node_label\": 3.0104857138441683}, {\"x1\": -0.33333333333333337, \"x2\": -0.4666666666666667, \"predicted_node_label\": 0.4133445375454769}, {\"x1\": -0.33333333333333337, \"x2\": -0.33333333333333337, \"predicted_node_label\": 3.0104857114156993}, {\"x1\": -0.33333333333333337, \"x2\": -0.19999999999999996, \"predicted_node_label\": 3.0104857142857133}, {\"x1\": -0.33333333333333337, \"x2\": -0.06666666666666665, \"predicted_node_label\": 3.0104857142857133}, {\"x1\": -0.33333333333333337, \"x2\": 0.06666666666666665, \"predicted_node_label\": 3.0104857142857133}, {\"x1\": -0.33333333333333337, \"x2\": 0.19999999999999996, \"predicted_node_label\": 3.010485714096992}, {\"x1\": -0.33333333333333337, \"x2\": 0.33333333333333326, \"predicted_node_label\": 2.0300137266078244}, {\"x1\": -0.33333333333333337, \"x2\": 0.46666666666666656, \"predicted_node_label\": 3.010484948146913}, {\"x1\": -0.33333333333333337, \"x2\": 0.6000000000000001, \"predicted_node_label\": 2.0200138666361123}, {\"x1\": -0.33333333333333337, \"x2\": 0.7333333333333334, \"predicted_node_label\": 3.01049468966425}, {\"x1\": -0.33333333333333337, \"x2\": 0.8666666666666667, \"predicted_node_label\": 3.0104857142857133}, {\"x1\": -0.33333333333333337, \"x2\": 1.0, \"predicted_node_label\": 3.0104860010810572}, {\"x1\": -0.19999999999999996, \"x2\": -1.0, \"predicted_node_label\": 3.769994683437213}, {\"x1\": -0.19999999999999996, \"x2\": -0.8666666666666667, \"predicted_node_label\": 3.0104857142857133}, {\"x1\": -0.19999999999999996, \"x2\": -0.7333333333333334, \"predicted_node_label\": 3.0104857142857133}, {\"x1\": -0.19999999999999996, \"x2\": -0.6, \"predicted_node_label\": 3.0104857142857133}, {\"x1\": -0.19999999999999996, \"x2\": -0.4666666666666667, \"predicted_node_label\": 3.010485689998618}, {\"x1\": -0.19999999999999996, \"x2\": -0.33333333333333337, \"predicted_node_label\": 3.0104857142857133}, {\"x1\": -0.19999999999999996, \"x2\": -0.19999999999999996, \"predicted_node_label\": 3.0104857142857133}, {\"x1\": -0.19999999999999996, \"x2\": -0.06666666666666665, \"predicted_node_label\": 3.0104857142857133}, {\"x1\": -0.19999999999999996, \"x2\": 0.06666666666666665, \"predicted_node_label\": 3.0104857142857817}, {\"x1\": -0.19999999999999996, \"x2\": 0.19999999999999996, \"predicted_node_label\": 5.042659416335531}, {\"x1\": -0.19999999999999996, \"x2\": 0.33333333333333326, \"predicted_node_label\": 3.010485714250404}, {\"x1\": -0.19999999999999996, \"x2\": 0.46666666666666656, \"predicted_node_label\": 3.0104857142857133}, {\"x1\": -0.19999999999999996, \"x2\": 0.6000000000000001, \"predicted_node_label\": 3.172333596903144}, {\"x1\": -0.19999999999999996, \"x2\": 0.7333333333333334, \"predicted_node_label\": 5.189969487148147}, {\"x1\": -0.19999999999999996, \"x2\": 0.8666666666666667, \"predicted_node_label\": 3.0104857143165784}, {\"x1\": -0.19999999999999996, \"x2\": 1.0, \"predicted_node_label\": 3.0104857142857133}, {\"x1\": -0.06666666666666665, \"x2\": -1.0, \"predicted_node_label\": 3.0104857142856942}, {\"x1\": -0.06666666666666665, \"x2\": -0.8666666666666667, \"predicted_node_label\": 0.07004116622367287}, {\"x1\": -0.06666666666666665, \"x2\": -0.7333333333333334, \"predicted_node_label\": 3.0104857142857133}, {\"x1\": -0.06666666666666665, \"x2\": -0.6, \"predicted_node_label\": 3.0104857142857133}, {\"x1\": -0.06666666666666665, \"x2\": -0.4666666666666667, \"predicted_node_label\": 3.0104857142857133}, {\"x1\": -0.06666666666666665, \"x2\": -0.33333333333333337, \"predicted_node_label\": 3.0104857142857133}, {\"x1\": -0.06666666666666665, \"x2\": -0.19999999999999996, \"predicted_node_label\": 3.0104857142857133}, {\"x1\": -0.06666666666666665, \"x2\": -0.06666666666666665, \"predicted_node_label\": 3.0104857142857133}, {\"x1\": -0.06666666666666665, \"x2\": 0.06666666666666665, \"predicted_node_label\": 2.9757701782752375}, {\"x1\": -0.06666666666666665, \"x2\": 0.19999999999999996, \"predicted_node_label\": 4.665197660869}, {\"x1\": -0.06666666666666665, \"x2\": 0.33333333333333326, \"predicted_node_label\": 3.0147495178159995}, {\"x1\": -0.06666666666666665, \"x2\": 0.46666666666666656, \"predicted_node_label\": 3.0104857625190187}, {\"x1\": -0.06666666666666665, \"x2\": 0.6000000000000001, \"predicted_node_label\": 3.010485714288945}, {\"x1\": -0.06666666666666665, \"x2\": 0.7333333333333334, \"predicted_node_label\": 4.199984816340975}, {\"x1\": -0.06666666666666665, \"x2\": 0.8666666666666667, \"predicted_node_label\": 5.2399687872360925}, {\"x1\": -0.06666666666666665, \"x2\": 1.0, \"predicted_node_label\": 2.740003786746982}, {\"x1\": 0.06666666666666665, \"x2\": -1.0, \"predicted_node_label\": 3.0104857142857133}, {\"x1\": 0.06666666666666665, \"x2\": -0.8666666666666667, \"predicted_node_label\": 3.0104857142857133}, {\"x1\": 0.06666666666666665, \"x2\": -0.7333333333333334, \"predicted_node_label\": 3.0104857142857133}, {\"x1\": 0.06666666666666665, \"x2\": -0.6, \"predicted_node_label\": 3.0104857142857133}, {\"x1\": 0.06666666666666665, \"x2\": -0.4666666666666667, \"predicted_node_label\": 3.0104857142857133}, {\"x1\": 0.06666666666666665, \"x2\": -0.33333333333333337, \"predicted_node_label\": 3.0104857142857133}, {\"x1\": 0.06666666666666665, \"x2\": -0.19999999999999996, \"predicted_node_label\": 3.0104857142857133}, {\"x1\": 0.06666666666666665, \"x2\": -0.06666666666666665, \"predicted_node_label\": 3.0104857142857133}, {\"x1\": 0.06666666666666665, \"x2\": 0.06666666666666665, \"predicted_node_label\": 4.692246332495735}, {\"x1\": 0.06666666666666665, \"x2\": 0.19999999999999996, \"predicted_node_label\": 7.199955114881492}, {\"x1\": 0.06666666666666665, \"x2\": 0.33333333333333326, \"predicted_node_label\": 3.0292455405892924}, {\"x1\": 0.06666666666666665, \"x2\": 0.46666666666666656, \"predicted_node_label\": 3.0104857142984223}, {\"x1\": 0.06666666666666665, \"x2\": 0.6000000000000001, \"predicted_node_label\": 3.010488074159588}, {\"x1\": 0.06666666666666665, \"x2\": 0.7333333333333334, \"predicted_node_label\": 3.0104854384316897}, {\"x1\": 0.06666666666666665, \"x2\": 0.8666666666666667, \"predicted_node_label\": 2.491506054378097}, {\"x1\": 0.06666666666666665, \"x2\": 1.0, \"predicted_node_label\": 3.0104857142856587}, {\"x1\": 0.19999999999999996, \"x2\": -1.0, \"predicted_node_label\": 0.27667942442935267}, {\"x1\": 0.19999999999999996, \"x2\": -0.8666666666666667, \"predicted_node_label\": 3.0104857142857133}, {\"x1\": 0.19999999999999996, \"x2\": -0.7333333333333334, \"predicted_node_label\": 3.0104857142857133}, {\"x1\": 0.19999999999999996, \"x2\": -0.6, \"predicted_node_label\": 3.0104857142857133}, {\"x1\": 0.19999999999999996, \"x2\": -0.4666666666666667, \"predicted_node_label\": 3.0104857142857133}, {\"x1\": 0.19999999999999996, \"x2\": -0.33333333333333337, \"predicted_node_label\": 3.010485714049134}, {\"x1\": 0.19999999999999996, \"x2\": -0.19999999999999996, \"predicted_node_label\": 3.0104857142857133}, {\"x1\": 0.19999999999999996, \"x2\": -0.06666666666666665, \"predicted_node_label\": 3.0104857142857133}, {\"x1\": 0.19999999999999996, \"x2\": 0.06666666666666665, \"predicted_node_label\": 3.0157754288791216}, {\"x1\": 0.19999999999999996, \"x2\": 0.19999999999999996, \"predicted_node_label\": 3.010485714285749}, {\"x1\": 0.19999999999999996, \"x2\": 0.33333333333333326, \"predicted_node_label\": 3.0104857142857124}, {\"x1\": 0.19999999999999996, \"x2\": 0.46666666666666656, \"predicted_node_label\": 3.010485714178916}, {\"x1\": 0.19999999999999996, \"x2\": 0.6000000000000001, \"predicted_node_label\": 3.0104805294322037}, {\"x1\": 0.19999999999999996, \"x2\": 0.7333333333333334, \"predicted_node_label\": 3.010485714266693}, {\"x1\": 0.19999999999999996, \"x2\": 0.8666666666666667, \"predicted_node_label\": 1.1050093481848233}, {\"x1\": 0.19999999999999996, \"x2\": 1.0, \"predicted_node_label\": 2.9627145242934723}, {\"x1\": 0.33333333333333326, \"x2\": -1.0, \"predicted_node_label\": 3.0104857142857133}, {\"x1\": 0.33333333333333326, \"x2\": -0.8666666666666667, \"predicted_node_label\": 3.0104857142857133}, {\"x1\": 0.33333333333333326, \"x2\": -0.7333333333333334, \"predicted_node_label\": 3.0104857142857133}, {\"x1\": 0.33333333333333326, \"x2\": -0.6, \"predicted_node_label\": 3.0104857142857133}, {\"x1\": 0.33333333333333326, \"x2\": -0.4666666666666667, \"predicted_node_label\": 3.0104857112535957}, {\"x1\": 0.33333333333333326, \"x2\": -0.33333333333333337, \"predicted_node_label\": 2.336669811179183}, {\"x1\": 0.33333333333333326, \"x2\": -0.19999999999999996, \"predicted_node_label\": 3.0104857142856627}, {\"x1\": 0.33333333333333326, \"x2\": -0.06666666666666665, \"predicted_node_label\": 3.0104857142857133}, {\"x1\": 0.33333333333333326, \"x2\": 0.06666666666666665, \"predicted_node_label\": 3.0104857142860815}, {\"x1\": 0.33333333333333326, \"x2\": 0.19999999999999996, \"predicted_node_label\": 3.0104857142857133}, {\"x1\": 0.33333333333333326, \"x2\": 0.33333333333333326, \"predicted_node_label\": 3.01048571395344}, {\"x1\": 0.33333333333333326, \"x2\": 0.46666666666666656, \"predicted_node_label\": 2.9880511579282296}, {\"x1\": 0.33333333333333326, \"x2\": 0.6000000000000001, \"predicted_node_label\": 2.1027381678753807}, {\"x1\": 0.33333333333333326, \"x2\": 0.7333333333333334, \"predicted_node_label\": 3.010488849179366}, {\"x1\": 0.33333333333333326, \"x2\": 0.8666666666666667, \"predicted_node_label\": 2.67000476674501}, {\"x1\": 0.33333333333333326, \"x2\": 1.0, \"predicted_node_label\": 2.580005758337844}, {\"x1\": 0.46666666666666656, \"x2\": -1.0, \"predicted_node_label\": 0.0966734655619137}, {\"x1\": 0.46666666666666656, \"x2\": -0.8666666666666667, \"predicted_node_label\": 3.0104857142857133}, {\"x1\": 0.46666666666666656, \"x2\": -0.7333333333333334, \"predicted_node_label\": 3.0104857142857133}, {\"x1\": 0.46666666666666656, \"x2\": -0.6, \"predicted_node_label\": 3.0104857142857133}, {\"x1\": 0.46666666666666656, \"x2\": -0.4666666666666667, \"predicted_node_label\": 3.010485714285711}, {\"x1\": 0.46666666666666656, \"x2\": -0.33333333333333337, \"predicted_node_label\": 3.0104708268112828}, {\"x1\": 0.46666666666666656, \"x2\": -0.19999999999999996, \"predicted_node_label\": 3.0104857142857133}, {\"x1\": 0.46666666666666656, \"x2\": -0.06666666666666665, \"predicted_node_label\": 3.0104857142857133}, {\"x1\": 0.46666666666666656, \"x2\": 0.06666666666666665, \"predicted_node_label\": 3.0104874876365737}, {\"x1\": 0.46666666666666656, \"x2\": 0.19999999999999996, \"predicted_node_label\": 3.010485714281284}, {\"x1\": 0.46666666666666656, \"x2\": 0.33333333333333326, \"predicted_node_label\": 2.706281029396613}, {\"x1\": 0.46666666666666656, \"x2\": 0.46666666666666656, \"predicted_node_label\": 2.8124503617344128}, {\"x1\": 0.46666666666666656, \"x2\": 0.6000000000000001, \"predicted_node_label\": 2.487108259387823}, {\"x1\": 0.46666666666666656, \"x2\": 0.7333333333333334, \"predicted_node_label\": 3.010485714285877}, {\"x1\": 0.46666666666666656, \"x2\": 0.8666666666666667, \"predicted_node_label\": 3.010300363817827}, {\"x1\": 0.46666666666666656, \"x2\": 1.0, \"predicted_node_label\": 2.4850044979848134}, {\"x1\": 0.6000000000000001, \"x2\": -1.0, \"predicted_node_label\": 3.0104857142857133}, {\"x1\": 0.6000000000000001, \"x2\": -0.8666666666666667, \"predicted_node_label\": 0.6633442866599956}, {\"x1\": 0.6000000000000001, \"x2\": -0.7333333333333334, \"predicted_node_label\": 1.310023806466709}, {\"x1\": 0.6000000000000001, \"x2\": -0.6, \"predicted_node_label\": 3.0104857142857133}, {\"x1\": 0.6000000000000001, \"x2\": -0.4666666666666667, \"predicted_node_label\": 3.0104857142857133}, {\"x1\": 0.6000000000000001, \"x2\": -0.33333333333333337, \"predicted_node_label\": 3.0104857142857133}, {\"x1\": 0.6000000000000001, \"x2\": -0.19999999999999996, \"predicted_node_label\": 3.0104857142857133}, {\"x1\": 0.6000000000000001, \"x2\": -0.06666666666666665, \"predicted_node_label\": 3.0104857142857133}, {\"x1\": 0.6000000000000001, \"x2\": 0.06666666666666665, \"predicted_node_label\": 4.214991568453797}, {\"x1\": 0.6000000000000001, \"x2\": 0.19999999999999996, \"predicted_node_label\": 0.5305237530827123}, {\"x1\": 0.6000000000000001, \"x2\": 0.33333333333333326, \"predicted_node_label\": 0.8172154759504949}, {\"x1\": 0.6000000000000001, \"x2\": 0.46666666666666656, \"predicted_node_label\": 2.957683169915527}, {\"x1\": 0.6000000000000001, \"x2\": 0.6000000000000001, \"predicted_node_label\": 3.0114530723350055}, {\"x1\": 0.6000000000000001, \"x2\": 0.7333333333333334, \"predicted_node_label\": 4.489979285838421}, {\"x1\": 0.6000000000000001, \"x2\": 0.8666666666666667, \"predicted_node_label\": 4.211641900763068}, {\"x1\": 0.6000000000000001, \"x2\": 1.0, \"predicted_node_label\": 2.140006093375468}, {\"x1\": 0.7333333333333334, \"x2\": -1.0, \"predicted_node_label\": 3.0104857142857133}, {\"x1\": 0.7333333333333334, \"x2\": -0.8666666666666667, \"predicted_node_label\": 3.0104857142857133}, {\"x1\": 0.7333333333333334, \"x2\": -0.7333333333333334, \"predicted_node_label\": 3.0104857142857133}, {\"x1\": 0.7333333333333334, \"x2\": -0.6, \"predicted_node_label\": 3.0104853257489355}, {\"x1\": 0.7333333333333334, \"x2\": -0.4666666666666667, \"predicted_node_label\": 3.0104857142857133}, {\"x1\": 0.7333333333333334, \"x2\": -0.33333333333333337, \"predicted_node_label\": 3.0104857142857133}, {\"x1\": 0.7333333333333334, \"x2\": -0.19999999999999996, \"predicted_node_label\": 3.0104857142857133}, {\"x1\": 0.7333333333333334, \"x2\": -0.06666666666666665, \"predicted_node_label\": 3.0104857142857133}, {\"x1\": 0.7333333333333334, \"x2\": 0.06666666666666665, \"predicted_node_label\": 3.01048571428586}, {\"x1\": 0.7333333333333334, \"x2\": 0.19999999999999996, \"predicted_node_label\": 3.4900095431335414}, {\"x1\": 0.7333333333333334, \"x2\": 0.33333333333333326, \"predicted_node_label\": 5.079970958686604}, {\"x1\": 0.7333333333333334, \"x2\": 0.46666666666666656, \"predicted_node_label\": 5.067739691498947}, {\"x1\": 0.7333333333333334, \"x2\": 0.6000000000000001, \"predicted_node_label\": 3.0104857142857497}, {\"x1\": 0.7333333333333334, \"x2\": 0.7333333333333334, \"predicted_node_label\": 3.0104736142855026}, {\"x1\": 0.7333333333333334, \"x2\": 0.8666666666666667, \"predicted_node_label\": 2.049974879330502}, {\"x1\": 0.7333333333333334, \"x2\": 1.0, \"predicted_node_label\": 3.010477691754992}, {\"x1\": 0.8666666666666667, \"x2\": -1.0, \"predicted_node_label\": 3.0104857142857133}, {\"x1\": 0.8666666666666667, \"x2\": -0.8666666666666667, \"predicted_node_label\": 3.0104857142857133}, {\"x1\": 0.8666666666666667, \"x2\": -0.7333333333333334, \"predicted_node_label\": 3.0104857142857133}, {\"x1\": 0.8666666666666667, \"x2\": -0.6, \"predicted_node_label\": 3.0104857142857133}, {\"x1\": 0.8666666666666667, \"x2\": -0.4666666666666667, \"predicted_node_label\": 0.7550157882896353}, {\"x1\": 0.8666666666666667, \"x2\": -0.33333333333333337, \"predicted_node_label\": 3.0104857142857133}, {\"x1\": 0.8666666666666667, \"x2\": -0.19999999999999996, \"predicted_node_label\": 3.0104857142857133}, {\"x1\": 0.8666666666666667, \"x2\": -0.06666666666666665, \"predicted_node_label\": 3.0104857142857133}, {\"x1\": 0.8666666666666667, \"x2\": 0.06666666666666665, \"predicted_node_label\": 3.0104857142857133}, {\"x1\": 0.8666666666666667, \"x2\": 0.19999999999999996, \"predicted_node_label\": 3.010485714245027}, {\"x1\": 0.8666666666666667, \"x2\": 0.33333333333333326, \"predicted_node_label\": 3.0104857142857133}, {\"x1\": 0.8666666666666667, \"x2\": 0.46666666666666656, \"predicted_node_label\": 3.0104857142857133}, {\"x1\": 0.8666666666666667, \"x2\": 0.6000000000000001, \"predicted_node_label\": 3.0104857142857133}, {\"x1\": 0.8666666666666667, \"x2\": 0.7333333333333334, \"predicted_node_label\": 3.0104857139739423}, {\"x1\": 0.8666666666666667, \"x2\": 0.8666666666666667, \"predicted_node_label\": 0.25003864762758576}, {\"x1\": 0.8666666666666667, \"x2\": 1.0, \"predicted_node_label\": 3.010485714284966}, {\"x1\": 1.0, \"x2\": -1.0, \"predicted_node_label\": 3.0104857142857133}, {\"x1\": 1.0, \"x2\": -0.8666666666666667, \"predicted_node_label\": 3.0104857142857133}, {\"x1\": 1.0, \"x2\": -0.7333333333333334, \"predicted_node_label\": 3.0104857142857133}, {\"x1\": 1.0, \"x2\": -0.6, \"predicted_node_label\": 3.0104857142857133}, {\"x1\": 1.0, \"x2\": -0.4666666666666667, \"predicted_node_label\": 1.0140093168898539}, {\"x1\": 1.0, \"x2\": -0.33333333333333337, \"predicted_node_label\": 0.033347226646275645}, {\"x1\": 1.0, \"x2\": -0.19999999999999996, \"predicted_node_label\": 3.010485714285713}, {\"x1\": 1.0, \"x2\": -0.06666666666666665, \"predicted_node_label\": 0.41603632725834544}, {\"x1\": 1.0, \"x2\": 0.06666666666666665, \"predicted_node_label\": 0.6569835988466866}, {\"x1\": 1.0, \"x2\": 0.19999999999999996, \"predicted_node_label\": 1.2900240864627892}, {\"x1\": 1.0, \"x2\": 0.33333333333333326, \"predicted_node_label\": 3.0104857142857133}, {\"x1\": 1.0, \"x2\": 0.46666666666666656, \"predicted_node_label\": 3.0104857142857133}, {\"x1\": 1.0, \"x2\": 0.6000000000000001, \"predicted_node_label\": 3.0104857142857133}, {\"x1\": 1.0, \"x2\": 0.7333333333333334, \"predicted_node_label\": 3.0104857142857133}, {\"x1\": 1.0, \"x2\": 0.8666666666666667, \"predicted_node_label\": 2.3600091066725053}, {\"x1\": 1.0, \"x2\": 1.0, \"predicted_node_label\": 3.0104857142857133}]}}, {\"mode\": \"vega-lite\"});\n",
       "</script>"
      ],
      "text/plain": [
       "alt.Chart(...)"
      ]
     },
     "execution_count": 105,
     "metadata": {},
     "output_type": "execute_result"
    }
   ],
   "source": [
    "import altair as alt\n",
    "\n",
    "dfclassmap = pd.DataFrame(gtr.optimizedModel.matX, columns=[\"x1\",\"x2\"])\n",
    "dfclassmap[\"predicted_node_label\"] = gtr.node_label\n",
    "\n",
    "alt.Chart(dfclassmap).mark_square().encode(\n",
    "    x='x1',\n",
    "    y='x2',\n",
    "    color=alt.Color(\n",
    "        'predicted_node_label:Q',\n",
    "        scale = alt.Scale(scheme='greenblue'),\n",
    "        legend=alt.Legend(title=\"PCE\")\n",
    "    ),\n",
    "    size=alt.value(50),\n",
    "    tooltip=['x1','x2', 'predicted_node_label:Q']\n",
    ").properties(title=\"Dye-Sensitised Solar Cells\", width=200, height=200)"
   ]
  },
  {
   "cell_type": "code",
   "execution_count": null,
   "metadata": {},
   "outputs": [
    {
     "data": {
      "text/plain": [
       "(0.5932559500104309,\n",
       " 1.3763942858013114,\n",
       " 0.8199555459804353,\n",
       " 0.012036851053051523)"
      ]
     },
     "execution_count": 106,
     "metadata": {},
     "output_type": "execute_result"
    }
   ],
   "source": [
    "from sklearn.metrics import mean_absolute_error, r2_score\n",
    "\n",
    "Y_pred_train = gtr.predict(othr_train_X)\n",
    "Y_pred_test = gtr.predict(othr_test_X)\n",
    "\n",
    "mae_train = mean_absolute_error(othr_train_Y, Y_pred_train)\n",
    "mae_test = mean_absolute_error(othr_test_Y, Y_pred_test)\n",
    "\n",
    "r2_train = r2_score(othr_train_Y, Y_pred_train)\n",
    "r2_test = r2_score(othr_test_Y, Y_pred_test)\n",
    "\n",
    "mae_train, mae_test, r2_train, r2_test"
   ]
  }
 ],
 "metadata": {
  "interpreter": {
   "hash": "3b8ec48292f9edac753a52644039e260cac62e40bfe2d61360b00aa8a3ffa825"
  },
  "kernelspec": {
   "display_name": "Python 3.8.2 32-bit",
   "language": "python",
   "name": "python3"
  },
  "language_info": {
   "codemirror_mode": {
    "name": "ipython",
    "version": 3
   },
   "file_extension": ".py",
   "mimetype": "text/x-python",
   "name": "python",
   "nbconvert_exporter": "python",
   "pygments_lexer": "ipython3",
   "version": "3.8.2"
  },
  "orig_nbformat": 4
 },
 "nbformat": 4,
 "nbformat_minor": 2
}
