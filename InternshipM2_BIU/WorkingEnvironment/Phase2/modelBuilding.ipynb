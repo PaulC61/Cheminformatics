{
 "cells": [
  {
   "cell_type": "code",
   "execution_count": 13,
   "id": "29ecc0ab",
   "metadata": {},
   "outputs": [],
   "source": [
    "import matplotlib.pyplot as plt\n",
    "from sklearn.preprocessing import StandardScaler\n",
    "from sklearn.cross_decomposition import PLSRegression\n",
    "from sklearn.feature_selection import SelectFromModel, RFE, RFECV\n",
    "from sklearn.linear_model import ElasticNet, ElasticNetCV, Lasso, LassoCV\n",
    "from sklearn.ensemble import RandomForestRegressor\n",
    "from sklearn.metrics import r2_score\n",
    "from kennard_stone import train_test_split\n",
    "from sklearn.model_selection import train_test_split as sktrain_test_split\n",
    "# from genetic_selection import GeneticSelectionCV\n",
    "import pandas as pd\n",
    "import numpy as np"
   ]
  },
  {
   "cell_type": "code",
   "execution_count": 2,
   "id": "649e403e",
   "metadata": {},
   "outputs": [],
   "source": [
    "def extractDragonDescriptors(family_Y_df, descriptorFileString):\n",
    "    family_X = pd.read_csv(descriptorFileString, sep='\\t', index_col=0)\n",
    "    colsX = family_X.columns\n",
    "    family_X_resetIndex = pd.DataFrame(family_X.to_numpy(), index=family_Y_df.index, columns=family_X.columns).replace('na', np.NaN)\n",
    "    return family_X_resetIndex[colsX[1:]].dropna(axis=1, how='any')"
   ]
  },
  {
   "cell_type": "code",
   "execution_count": 8,
   "id": "8f9996ac",
   "metadata": {},
   "outputs": [],
   "source": [
    "from sklearn.feature_selection import VarianceThreshold\n",
    "\n",
    "def remove_low_variance(input_data, threshold=0.1):\n",
    "    selection = VarianceThreshold(threshold)\n",
    "    selection.fit(input_data)\n",
    "    return input_data[input_data.columns[selection.get_support(indices=True)]]"
   ]
  },
  {
   "cell_type": "code",
   "execution_count": 3,
   "id": "9d6036fc",
   "metadata": {},
   "outputs": [],
   "source": [
    "triph_Y = pd.read_csv('Data/exactPLS/triphenylamines.csv', index_col=0)\n",
    "porph_Y = pd.read_csv('Data/exactPLS/porphyrins.csv', index_col=0)\n",
    "pheno_Y = pd.read_csv('Data/exactPLS/phenothiazines.csv', index_col=0)\n",
    "indol_Y = pd.read_csv('Data/exactPLS/indolines.csv', index_col=0)\n",
    "couma_Y = pd.read_csv('Data/exactPLS/coumarins.csv', index_col=0)\n",
    "carba_Y = pd.read_csv('Data/exactPLS/carbazoles.csv', index_col=0)\n",
    "diphe_Y = pd.read_csv('Data/exactPLS/diphenylamines.csv', index_col=0)"
   ]
  },
  {
   "cell_type": "code",
   "execution_count": 4,
   "id": "6ee7ac6c",
   "metadata": {},
   "outputs": [],
   "source": [
    "triph_X = extractDragonDescriptors(triph_Y, 'Data/exactPLS/desc_triphenylamines.txt')\n",
    "porph_X = extractDragonDescriptors(porph_Y, 'Data/exactPLS/desc_porphyrins.txt')\n",
    "pheno_X = extractDragonDescriptors(pheno_Y, 'Data/exactPLS/desc_phenothiazines.txt')\n",
    "indol_X = extractDragonDescriptors(indol_Y, 'Data/exactPLS/desc_indolines.txt')\n",
    "couma_X = extractDragonDescriptors(couma_Y, 'Data/exactPLS/desc_coumarins.txt')\n",
    "carba_X = extractDragonDescriptors(carba_Y, 'Data/exactPLS/desc_carbazoles.txt')\n",
    "diphe_X = extractDragonDescriptors(diphe_Y, 'Data/exactPLS/desc_diphenylamines.txt')"
   ]
  },
  {
   "cell_type": "code",
   "execution_count": 5,
   "id": "a7e83a7a",
   "metadata": {},
   "outputs": [
    {
     "data": {
      "text/plain": [
       "((229, 851),\n",
       " (281, 723),\n",
       " (207, 673),\n",
       " (160, 554),\n",
       " (56, 630),\n",
       " (179, 603),\n",
       " (35, 481))"
      ]
     },
     "execution_count": 5,
     "metadata": {},
     "output_type": "execute_result"
    }
   ],
   "source": [
    "triph_X.shape,porph_X.shape,pheno_X.shape,indol_X.shape,couma_X.shape,carba_X.shape,diphe_X.shape"
   ]
  },
  {
   "cell_type": "code",
   "execution_count": 19,
   "id": "070b7384",
   "metadata": {},
   "outputs": [
    {
     "data": {
      "text/plain": [
       "((229, 657),\n",
       " (281, 602),\n",
       " (207, 568),\n",
       " (160, 492),\n",
       " (56, 590),\n",
       " (179, 512),\n",
       " (35, 439))"
      ]
     },
     "execution_count": 19,
     "metadata": {},
     "output_type": "execute_result"
    }
   ],
   "source": [
    "triph_X_var = remove_low_variance(triph_X, 0.01)\n",
    "porph_X_var = remove_low_variance(porph_X, 0.01)\n",
    "pheno_X_var = remove_low_variance(pheno_X, 0.01)\n",
    "indol_X_var = remove_low_variance(indol_X, 0.01)\n",
    "couma_X_var = remove_low_variance(couma_X, 0.01)\n",
    "carba_X_var = remove_low_variance(carba_X, 0.01)\n",
    "diphe_X_var = remove_low_variance(diphe_X, 0.01)\n",
    "\n",
    "triph_X_var.shape,porph_X_var.shape,pheno_X_var.shape,indol_X_var.shape,couma_X_var.shape,carba_X_var.shape,diphe_X_var.shape"
   ]
  },
  {
   "cell_type": "code",
   "execution_count": 20,
   "id": "1340ddc7",
   "metadata": {},
   "outputs": [],
   "source": [
    "def returnNextRow(rowDf, to_drop):\n",
    "    max = -200\n",
    "    nextRow='None'\n",
    "    for i in range(len(rowDf.columns)):\n",
    "        if (rowDf[rowDf.columns[i]][0] > max) and (rowDf.columns[i] not in to_drop) and (rowDf[rowDf.columns[i]][0] != np.NaN):\n",
    "            max = rowDf[rowDf.columns[i]][0]\n",
    "            nextRow = rowDf.columns[i]\n",
    "    return nextRow\n",
    "\n",
    "def getTo_dropOfRow(rowDf, to_drop=[], threshold=0.95):\n",
    "    for i in range(len(rowDf.columns)):\n",
    "        if (rowDf[rowDf.columns[i]][0] > threshold) and (rowDf[rowDf.columns[i]][0] != np.NaN) and (rowDf.columns[i] not in to_drop):\n",
    "            to_drop.append(rowDf.columns[i])\n",
    "    return to_drop\n",
    "\n",
    "def vWSPFeatureSelect(rowName,corr_matrix,to_drop=[],thresh=0.95):\n",
    "    if rowName=='None':\n",
    "        return to_drop\n",
    "    else:\n",
    "        to_DropThisRow = getTo_dropOfRow(corr_matrix.loc[[rowName]], to_drop, threshold=thresh) #array of column names\n",
    "        nextRow = returnNextRow(corr_matrix.loc[[rowName]], to_DropThisRow)\n",
    "        updateTo_drop = to_DropThisRow\n",
    "        return vWSPFeatureSelect(rowName=nextRow, corr_matrix=corr_matrix,to_drop=updateTo_drop, thresh=0.95)\n",
    "    \n",
    "def vWSP(X_train, threshold=0.95):\n",
    "    cor_matrix = X_train.corr().abs()\n",
    "    upper_tri = cor_matrix.where(np.triu(np.ones(cor_matrix.shape), k=1).astype(bool))\n",
    "    to_drop=vWSPFeatureSelect('MW', corr_matrix=upper_tri, to_drop=[], thresh=threshold) #MW chosen as seed\n",
    "    X_train_rm = X_train.drop(to_drop, axis=1)\n",
    "    return X_train_rm"
   ]
  },
  {
   "cell_type": "code",
   "execution_count": 42,
   "id": "58d02d49",
   "metadata": {},
   "outputs": [
    {
     "data": {
      "text/plain": [
       "((229, 488),\n",
       " (281, 454),\n",
       " (207, 414),\n",
       " (160, 346),\n",
       " (56, 434),\n",
       " (179, 398),\n",
       " (35, 265))"
      ]
     },
     "execution_count": 42,
     "metadata": {},
     "output_type": "execute_result"
    }
   ],
   "source": [
    "triph_X_sansCorr = vWSP(triph_X_var, threshold=0.5)\n",
    "porph_X_sansCorr = vWSP(porph_X_var, threshold=0.5)\n",
    "pheno_X_sansCorr = vWSP(pheno_X_var, threshold=0.5)\n",
    "indol_X_sansCorr = vWSP(indol_X_var, threshold=0.5)\n",
    "couma_X_sansCorr = vWSP(couma_X_var, threshold=0.5)\n",
    "carba_X_sansCorr = vWSP(carba_X_var, threshold=0.5)\n",
    "diphe_X_sansCorr = vWSP(diphe_X_var, threshold=0.5)\n",
    "\n",
    "triph_X_train_sansCorr.shape,porph_X_train_sansCorr.shape,pheno_X_train_sansCorr.shape,indol_X_train_sansCorr.shape,couma_X_train_sansCorr.shape,carba_X_train_sansCorr.shape,diphe_X_train_sansCorr.shape"
   ]
  },
  {
   "cell_type": "code",
   "execution_count": 25,
   "id": "3c60bb54",
   "metadata": {},
   "outputs": [],
   "source": [
    "def multipleSplit(input_X, input_Y, test_size=0.3):\n",
    "    familySplits=[]\n",
    "    # 0 --> input_X_train, 1 --> input_X_test, 2 --> input_Y_train, 3 --> input_Y_test\n",
    "    for i in range(10):\n",
    "        familySplits.append(sktrain_test_split(input_X, input_Y['PCE'], test_size=0.3, random_state=i))\n",
    "    return familySplits"
   ]
  },
  {
   "cell_type": "code",
   "execution_count": 43,
   "id": "33651840",
   "metadata": {},
   "outputs": [
    {
     "data": {
      "text/plain": [
       "(160, 488)"
      ]
     },
     "execution_count": 43,
     "metadata": {},
     "output_type": "execute_result"
    }
   ],
   "source": [
    "triph_split_sets = multipleSplit(triph_X_sansCorr, triph_Y)\n",
    "porph_split_sets = multipleSplit(porph_X_sansCorr, porph_Y)\n",
    "pheno_split_sets = multipleSplit(pheno_X_sansCorr, pheno_Y)\n",
    "indol_split_sets = multipleSplit(indol_X_sansCorr, indol_Y)\n",
    "couma_split_sets = multipleSplit(couma_X_sansCorr, couma_Y)\n",
    "carba_split_sets = multipleSplit(carba_X_sansCorr, carba_Y)\n",
    "diphe_split_sets = multipleSplit(diphe_X_sansCorr, diphe_Y)\n",
    "\n",
    "triph_split_sets[0][0].shape\n"
   ]
  },
  {
   "cell_type": "code",
   "execution_count": 48,
   "id": "8e6e855a",
   "metadata": {},
   "outputs": [],
   "source": [
    "def trainOneRF(X_train_X_test_Y_train_Y_test, n_trees=500):\n",
    "    model = RandomForestRegressor(n_estimators=n_trees)\n",
    "    model.fit(X_train_X_test_Y_train_Y_test[0], X_train_X_test_Y_train_Y_test[2])\n",
    "    predict_train = model.predict(X_train_X_test_Y_train_Y_test[0])\n",
    "    predict_test = model.predict(X_train_X_test_Y_train_Y_test[1])\n",
    "    r2_train = r2_score(X_train_X_test_Y_train_Y_test[2],predict_train)\n",
    "    r2_test= r2_score(X_train_X_test_Y_train_Y_test[3],predict_test)\n",
    "    return r2_train, r2_test\n",
    "\n",
    "def applyRF(multiSplit):\n",
    "    r2_train_scores=[]\n",
    "    r2_test_scores=[]\n",
    "    for i in range(len(multiSplit)):\n",
    "        r2_both = trainOneRF(multiSplit[i])\n",
    "        r2_train_scores.append(r2_both[0])\n",
    "        r2_test_scores.append(r2_both[1])\n",
    "    print(f\"All R2 Train:\\n{r2_train_scores}\\n\\nAverage: {np.average(r2_train_scores)}, Std. Dev: {np.std(r2_train_scores)}, Variance {np.var(r2_train_scores)}\\n\\nAll R2 Test:\\n{r2_test_scores}\\n\\nAverage: {np.average(r2_test_scores)}, Std. Dev: {np.std(r2_test_scores)}, Variance {np.var(r2_test_scores)}\")\n",
    "        "
   ]
  },
  {
   "cell_type": "code",
   "execution_count": 49,
   "id": "0b06237f",
   "metadata": {},
   "outputs": [
    {
     "name": "stdout",
     "output_type": "stream",
     "text": [
      "All R2 Train:\n",
      "[0.9076208040824673, 0.9155136510916342, 0.9300335308316516, 0.9220246300225923, 0.9263571415544483, 0.9347266712221804, 0.9151309604955882, 0.925525721605722, 0.9248930169057817, 0.9328199548755177]\n",
      "\n",
      "Average: 0.9234646082687584, Std. Dev: 0.008111286443286198, Variance 6.579296776503846e-05\n",
      "\n",
      "All R2 Test:\n",
      "[0.5390656829465347, 0.5614405065825772, 0.3008020110107522, 0.5355753382527924, 0.4170205031798476, 0.4014962951180394, 0.3761165785660019, 0.6042856450041034, 0.48359758989842405, 0.3736603979996891]\n",
      "\n",
      "Average: 0.4593060548558762, Std. Dev: 0.09419577694742219, Variance 0.008872844394728515\n"
     ]
    }
   ],
   "source": [
    "applyRF(triph_split_sets)"
   ]
  },
  {
   "cell_type": "code",
   "execution_count": 50,
   "id": "ab6489d8",
   "metadata": {},
   "outputs": [
    {
     "name": "stdout",
     "output_type": "stream",
     "text": [
      "All R2 Train:\n",
      "[0.9475844914295827, 0.9474025802936217, 0.952190636132594, 0.9448290277704248, 0.9444824500597089, 0.9399562267345891, 0.9444803543722374, 0.9453175062188899, 0.9502176880123949, 0.9487491074979133]\n",
      "\n",
      "Average: 0.9465210068521956, Std. Dev: 0.003292571529426981, Variance 1.0841027276393131e-05\n",
      "\n",
      "All R2 Test:\n",
      "[0.5920042529496501, 0.6070179773899489, 0.4608648404546757, 0.6837114246367801, 0.6195415042887735, 0.6932695309676967, 0.6819835941082599, 0.6417732777542344, 0.5976273931062218, 0.6265479556230344]\n",
      "\n",
      "Average: 0.6204341751279274, Std. Dev: 0.06368802048081781, Variance 0.004056163952765069\n"
     ]
    }
   ],
   "source": [
    "applyRF(porph_split_sets)"
   ]
  },
  {
   "cell_type": "code",
   "execution_count": null,
   "id": "04181c20",
   "metadata": {},
   "outputs": [],
   "source": []
  }
 ],
 "metadata": {
  "kernelspec": {
   "display_name": "Python 3 (ipykernel)",
   "language": "python",
   "name": "python3"
  },
  "language_info": {
   "codemirror_mode": {
    "name": "ipython",
    "version": 3
   },
   "file_extension": ".py",
   "mimetype": "text/x-python",
   "name": "python",
   "nbconvert_exporter": "python",
   "pygments_lexer": "ipython3",
   "version": "3.9.7"
  }
 },
 "nbformat": 4,
 "nbformat_minor": 5
}
