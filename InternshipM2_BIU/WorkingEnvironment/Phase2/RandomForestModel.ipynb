{
 "cells": [
  {
   "cell_type": "code",
   "execution_count": 8,
   "id": "a73ed315",
   "metadata": {},
   "outputs": [],
   "source": [
    "import matplotlib.pyplot as plt\n",
    "from sklearn.preprocessing import StandardScaler\n",
    "from sklearn.cross_decomposition import PLSRegression\n",
    "from sklearn.feature_selection import SelectFromModel, RFE, RFECV\n",
    "from sklearn.linear_model import ElasticNet, ElasticNetCV, Lasso, LassoCV\n",
    "from sklearn.ensemble import RandomForestRegressor\n",
    "from sklearn.metrics import r2_score\n",
    "from sklearn.svm import SVR\n",
    "from abess import LinearRegression\n",
    "from abess.decomposition import SparsePCA\n",
    "from kennard_stone import train_test_split as ks_train_test_split\n",
    "from sklearn.pipeline import Pipeline\n",
    "# from genetic_selection import GeneticSelectionCV\n",
    "import pandas as pd\n",
    "import numpy as np"
   ]
  },
  {
   "cell_type": "code",
   "execution_count": 2,
   "id": "354d927d",
   "metadata": {},
   "outputs": [],
   "source": [
    "def extractDragonDescriptors(family_Y_df, descriptorFileString):\n",
    "    family_X = pd.read_csv(descriptorFileString, sep='\\t', index_col=0, low_memory=False)\n",
    "    colsX = family_X.columns\n",
    "    family_X_resetIndex = pd.DataFrame(family_X.to_numpy(), index=family_Y_df.index, columns=family_X.columns).replace('na', np.NaN)\n",
    "    return family_X_resetIndex[colsX[1:]].dropna(axis=1, how='any')"
   ]
  },
  {
   "cell_type": "code",
   "execution_count": 3,
   "id": "ca30f88f",
   "metadata": {},
   "outputs": [],
   "source": [
    "global_Y = pd.read_csv('Data/exactPLS/global.csv', index_col=0)"
   ]
  },
  {
   "cell_type": "code",
   "execution_count": 4,
   "id": "1e065a30",
   "metadata": {},
   "outputs": [],
   "source": [
    "global_X = extractDragonDescriptors(global_Y, 'Data/exactPLS/desc_global.txt')"
   ]
  },
  {
   "cell_type": "code",
   "execution_count": 5,
   "id": "68c4583d",
   "metadata": {},
   "outputs": [
    {
     "data": {
      "text/plain": [
       "((1147, 2), (1147, 1023))"
      ]
     },
     "execution_count": 5,
     "metadata": {},
     "output_type": "execute_result"
    }
   ],
   "source": [
    "global_Y.shape, global_X.shape"
   ]
  },
  {
   "cell_type": "code",
   "execution_count": 7,
   "id": "d6e7b4c4",
   "metadata": {},
   "outputs": [
    {
     "data": {
      "text/plain": [
       "PCE         1.000000\n",
       "mintsC      0.474240\n",
       "MaxtsC      0.432035\n",
       "LOGPcons    0.405476\n",
       "nCs         0.403580\n",
       "C-002       0.403276\n",
       "SssCH2      0.402945\n",
       "nCsp3       0.397295\n",
       "LOGP99      0.396008\n",
       "H-046       0.395082\n",
       "Name: PCE, dtype: float64"
      ]
     },
     "execution_count": 7,
     "metadata": {},
     "output_type": "execute_result"
    }
   ],
   "source": [
    "pd.concat([global_X, global_Y], axis = 1).corr()['PCE'].abs().sort_values(ascending=False).head(10)"
   ]
  },
  {
   "cell_type": "code",
   "execution_count": 6,
   "id": "6d785158",
   "metadata": {},
   "outputs": [],
   "source": [
    "def returnNextRow(rowDf, to_drop):\n",
    "    max = -200\n",
    "    nextRow='None'\n",
    "    for i in range(len(rowDf.columns)):\n",
    "        if (rowDf[rowDf.columns[i]][0] > max) and (rowDf.columns[i] not in to_drop) and (rowDf[rowDf.columns[i]][0] != np.NaN):\n",
    "            max = rowDf[rowDf.columns[i]][0]\n",
    "            nextRow = rowDf.columns[i]\n",
    "    return nextRow\n",
    "\n",
    "def getTo_dropOfRow(rowDf, to_drop=[], threshold=0.95):\n",
    "    for i in range(len(rowDf.columns)):\n",
    "        if (rowDf[rowDf.columns[i]][0] > threshold) and (rowDf[rowDf.columns[i]][0] != np.NaN) and (rowDf.columns[i] not in to_drop):\n",
    "            to_drop.append(rowDf.columns[i])\n",
    "    return to_drop\n",
    "\n",
    "def vWSPFeatureSelect(rowName,corr_matrix,to_drop=[],thresh=0.95):\n",
    "    if rowName=='None':\n",
    "        return to_drop\n",
    "    else:\n",
    "        to_DropThisRow = getTo_dropOfRow(corr_matrix.loc[[rowName]], to_drop, threshold=thresh) #array of column names\n",
    "        nextRow = returnNextRow(corr_matrix.loc[[rowName]], to_DropThisRow)\n",
    "        updateTo_drop = to_DropThisRow\n",
    "        return vWSPFeatureSelect(rowName=nextRow, corr_matrix=corr_matrix,to_drop=updateTo_drop, thresh=0.95)\n",
    "    \n",
    "def vWSP(X_train, threshold=0.95):\n",
    "    cor_matrix = X_train.corr().abs()\n",
    "    upper_tri = cor_matrix.where(np.triu(np.ones(cor_matrix.shape), k=1).astype(bool))\n",
    "    to_drop=vWSPFeatureSelect('MW', corr_matrix=upper_tri, to_drop=[], thresh=threshold) #MW chosen as seed\n",
    "    X_train_rm = X_train.drop(to_drop, axis=1)\n",
    "    return X_train_rm"
   ]
  },
  {
   "cell_type": "code",
   "execution_count": 10,
   "id": "142a25b1",
   "metadata": {},
   "outputs": [],
   "source": [
    "global_X_train, global_X_test, global_Y_train, global_Y_test = ks_train_test_split(global_X, global_Y['PCE'], test_size=0.2)"
   ]
  },
  {
   "cell_type": "code",
   "execution_count": null,
   "id": "15a2d55b",
   "metadata": {},
   "outputs": [],
   "source": [
    "rfeRF = RandomForestRegressor()\n",
    "\n",
    "min_features_to_select = 600\n",
    "\n",
    "rfeCV = RFECV(\n",
    "    estimator=rfeRF,\n",
    "    step=5,\n",
    "    cv=5,\n",
    "    scoring=\"r2\",\n",
    "    min_features_to_select=min_features_to_select,\n",
    ")\n",
    "\n",
    "rfeCV.fit(global_X_train, global_Y_train)"
   ]
  },
  {
   "cell_type": "code",
   "execution_count": null,
   "id": "bf37501e",
   "metadata": {},
   "outputs": [],
   "source": [
    "print(\"Optimal numberof features : %d\" % rfeCV.n_features_)\n",
    "\n",
    "plt.figure()\n",
    "plt.xlabel(\"Number of features selected\")\n",
    "plt.ylabel(\"Cross validation score (r2)\")\n",
    "plt.plot(\n",
    "    range(min_features_to_select, len(rfecv.grid_scores_) + 10),\n",
    "    rfecv.grid_scores_,\n",
    ")\n",
    "plt.show()"
   ]
  },
  {
   "cell_type": "code",
   "execution_count": null,
   "id": "6c3b87a4",
   "metadata": {},
   "outputs": [],
   "source": [
    "gridSearchRF = RandomForestRegressor()\n",
    "\n",
    "param_grid={\n",
    "    \"n_estimators\":[100, 300, 500, 1000],\n",
    "    \"max_features\":[\"auto\",\"sqrt\",\"log2\"],\n",
    "    \"min_samples_leaf\":[1,2,3,4]\n",
    "}\n",
    "\n",
    "grid = GridSearchCV(gridSearchRF, param_grid, cv=5)\n",
    "\n",
    "grid.fit(global_X_train, global_Y_train)\n",
    "\n",
    "grid.best_score_, grid.best_params_"
   ]
  },
  {
   "cell_type": "code",
   "execution_count": null,
   "id": "1b1281b7",
   "metadata": {},
   "outputs": [],
   "source": []
  }
 ],
 "metadata": {
  "kernelspec": {
   "display_name": "Python 3 (ipykernel)",
   "language": "python",
   "name": "python3"
  },
  "language_info": {
   "codemirror_mode": {
    "name": "ipython",
    "version": 3
   },
   "file_extension": ".py",
   "mimetype": "text/x-python",
   "name": "python",
   "nbconvert_exporter": "python",
   "pygments_lexer": "ipython3",
   "version": "3.9.7"
  }
 },
 "nbformat": 4,
 "nbformat_minor": 5
}
